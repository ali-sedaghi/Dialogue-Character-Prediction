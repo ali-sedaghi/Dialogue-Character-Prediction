{
 "metadata": {
  "kernelspec": {
   "language": "python",
   "display_name": "Python 3",
   "name": "python3"
  },
  "language_info": {
   "name": "python",
   "version": "3.7.12",
   "mimetype": "text/x-python",
   "codemirror_mode": {
    "name": "ipython",
    "version": 3
   },
   "pygments_lexer": "ipython3",
   "nbconvert_exporter": "python",
   "file_extension": ".py"
  },
  "colab": {
   "name": "Part_2_Simple_Model.ipynb",
   "provenance": [],
   "collapsed_sections": [],
   "toc_visible": true
  },
  "gpuClass": "standard"
 },
 "nbformat_minor": 0,
 "nbformat": 4,
 "cells": [
  {
   "cell_type": "markdown",
   "source": [
    "# Imports"
   ],
   "metadata": {
    "id": "2dGZAg9Vd6jN",
    "pycharm": {
     "name": "#%% md\n"
    }
   }
  },
  {
   "cell_type": "code",
   "source": [
    "import pandas as pd\n",
    "import numpy as np\n",
    "import matplotlib.pyplot as plt\n",
    "import torch\n",
    "from sklearn.model_selection import train_test_split\n",
    "from sklearn import preprocessing\n",
    "from torch.utils.data import Dataset, DataLoader, RandomSampler, SequentialSampler\n",
    "from sklearn.metrics import classification_report, confusion_matrix\n",
    "import torch.nn as nn\n",
    "import torch.nn.functional as F\n",
    "import nltk\n",
    "from torchtext.vocab import GloVe\n",
    "from nltk import word_tokenize\n",
    "import tensorflow as tf"
   ],
   "metadata": {
    "id": "6QmAPOj_5gOk",
    "execution": {
     "iopub.status.busy": "2022-07-08T19:27:25.526292Z",
     "iopub.execute_input": "2022-07-08T19:27:25.528603Z",
     "iopub.status.idle": "2022-07-08T19:27:27.975042Z",
     "shell.execute_reply.started": "2022-07-08T19:27:25.528561Z",
     "shell.execute_reply": "2022-07-08T19:27:27.974076Z"
    },
    "trusted": true,
    "pycharm": {
     "name": "#%%\n"
    }
   },
   "execution_count": 68,
   "outputs": []
  },
  {
   "cell_type": "code",
   "source": [
    "nltk.download('punkt')"
   ],
   "metadata": {
    "colab": {
     "base_uri": "https://localhost:8080/"
    },
    "id": "MzsaM1GJKMN7",
    "outputId": "00a30f96-4b21-4c12-c49b-dd9458b8f040",
    "pycharm": {
     "name": "#%%\n"
    }
   },
   "execution_count": 69,
   "outputs": [
    {
     "output_type": "stream",
     "name": "stderr",
     "text": [
      "[nltk_data] Downloading package punkt to /root/nltk_data...\n",
      "[nltk_data]   Package punkt is already up-to-date!\n"
     ]
    },
    {
     "output_type": "execute_result",
     "data": {
      "text/plain": [
       "True"
      ]
     },
     "metadata": {},
     "execution_count": 69
    }
   ]
  },
  {
   "cell_type": "markdown",
   "source": [
    "# Connecting to Google Drive"
   ],
   "metadata": {
    "id": "cffqfO5od73R",
    "pycharm": {
     "name": "#%% md\n"
    }
   }
  },
  {
   "cell_type": "code",
   "source": [
    "from google.colab import drive\n",
    "drive.mount('/content/gdrive/', force_remount=True)"
   ],
   "metadata": {
    "id": "zAGq4GAJTPHL",
    "outputId": "13a45c0c-2ca3-4a1e-dead-063234fbc0a0",
    "execution": {
     "iopub.status.busy": "2022-07-08T19:27:27.976745Z",
     "iopub.execute_input": "2022-07-08T19:27:27.977398Z",
     "iopub.status.idle": "2022-07-08T19:27:28.657496Z",
     "shell.execute_reply.started": "2022-07-08T19:27:27.977359Z",
     "shell.execute_reply": "2022-07-08T19:27:28.656174Z"
    },
    "trusted": true,
    "colab": {
     "base_uri": "https://localhost:8080/"
    },
    "pycharm": {
     "name": "#%%\n"
    }
   },
   "execution_count": 70,
   "outputs": [
    {
     "output_type": "stream",
     "name": "stdout",
     "text": [
      "Mounted at /content/gdrive/\n"
     ]
    }
   ]
  },
  {
   "cell_type": "markdown",
   "source": [
    "# Hyperparameters"
   ],
   "metadata": {
    "id": "suKSQsjZegfG",
    "pycharm": {
     "name": "#%% md\n"
    }
   }
  },
  {
   "cell_type": "code",
   "source": [
    "MAX_LEN = 16\n",
    "TRAIN_BATCH_SIZE = 64\n",
    "VALID_BATCH_SIZE = 32\n",
    "LEARNING_RATE = 1e-3\n",
    "NUM_CLASSES = 6\n",
    "EPOCHS = 500"
   ],
   "metadata": {
    "id": "UuEIZzCG6_L6",
    "execution": {
     "iopub.status.busy": "2022-07-08T19:27:34.259502Z",
     "iopub.execute_input": "2022-07-08T19:27:34.259840Z",
     "iopub.status.idle": "2022-07-08T19:27:35.283396Z",
     "shell.execute_reply.started": "2022-07-08T19:27:34.259804Z",
     "shell.execute_reply": "2022-07-08T19:27:35.282351Z"
    },
    "trusted": true,
    "pycharm": {
     "name": "#%%\n"
    }
   },
   "execution_count": 71,
   "outputs": []
  },
  {
   "cell_type": "markdown",
   "source": [
    "# Processing data"
   ],
   "metadata": {
    "id": "KJoMHVpJeKPT",
    "pycharm": {
     "name": "#%% md\n"
    }
   }
  },
  {
   "cell_type": "markdown",
   "source": [
    "## Label Encoder\n",
    "We used sklearn Label Encoder to encode labels to numbers. We use these numbers to turn labels into one-hot vectors."
   ],
   "metadata": {
    "id": "y-RDeJ3eeOPi",
    "pycharm": {
     "name": "#%% md\n"
    }
   }
  },
  {
   "cell_type": "code",
   "source": [
    "le = preprocessing.LabelEncoder()\n",
    "labels = [\"chandler\", \"monica\", \"rachel\", \"phoebe\", \"joey\", \"ross\"]\n",
    "le.fit(labels)"
   ],
   "metadata": {
    "id": "75x_lO2y5w3N",
    "outputId": "6423acf5-e198-43d0-affe-4376471d4fb4",
    "execution": {
     "iopub.status.busy": "2022-07-08T19:27:28.701648Z",
     "iopub.execute_input": "2022-07-08T19:27:28.702048Z",
     "iopub.status.idle": "2022-07-08T19:27:28.720253Z",
     "shell.execute_reply.started": "2022-07-08T19:27:28.702009Z",
     "shell.execute_reply": "2022-07-08T19:27:28.719134Z"
    },
    "trusted": true,
    "colab": {
     "base_uri": "https://localhost:8080/"
    },
    "pycharm": {
     "name": "#%%\n"
    }
   },
   "execution_count": 72,
   "outputs": [
    {
     "output_type": "execute_result",
     "data": {
      "text/plain": [
       "LabelEncoder()"
      ]
     },
     "metadata": {},
     "execution_count": 72
    }
   ]
  },
  {
   "cell_type": "markdown",
   "source": [
    "## Creating a dataframe"
   ],
   "metadata": {
    "id": "m3sDa07veMGJ",
    "pycharm": {
     "name": "#%% md\n"
    }
   }
  },
  {
   "cell_type": "markdown",
   "source": [
    "Using Pandas library to load csv dataset."
   ],
   "metadata": {
    "id": "3D6FgD4VfmP_",
    "pycharm": {
     "name": "#%% md\n"
    }
   }
  },
  {
   "cell_type": "code",
   "source": [
    "df = pd.read_csv(\"/content/gdrive/MyDrive/Homeworks/NLP/Project/Phase2/dialogues_cleaned.csv\")\n",
    "df = df.drop(df[df[\"person\"]==\"person\"].index)"
   ],
   "metadata": {
    "id": "_PHxrSzw5aW_",
    "execution": {
     "iopub.status.busy": "2022-07-08T19:27:28.661300Z",
     "iopub.execute_input": "2022-07-08T19:27:28.661712Z",
     "iopub.status.idle": "2022-07-08T19:27:28.699901Z",
     "shell.execute_reply.started": "2022-07-08T19:27:28.661670Z",
     "shell.execute_reply": "2022-07-08T19:27:28.698698Z"
    },
    "trusted": true,
    "pycharm": {
     "name": "#%%\n"
    }
   },
   "execution_count": 73,
   "outputs": []
  },
  {
   "cell_type": "code",
   "source": [
    "x = df[\"dialogue\"]\n",
    "y = df[\"person\"]\n",
    "y = le.transform(y)\n",
    "\n",
    "x_train, x_test, y_train, y_test = train_test_split(x, y, test_size=0.2)"
   ],
   "metadata": {
    "id": "sr1GT7WT6GVe",
    "execution": {
     "iopub.status.busy": "2022-07-08T19:27:28.722016Z",
     "iopub.execute_input": "2022-07-08T19:27:28.722631Z",
     "iopub.status.idle": "2022-07-08T19:27:28.733585Z",
     "shell.execute_reply.started": "2022-07-08T19:27:28.722592Z",
     "shell.execute_reply": "2022-07-08T19:27:28.732510Z"
    },
    "trusted": true,
    "pycharm": {
     "name": "#%%\n"
    }
   },
   "execution_count": 74,
   "outputs": []
  },
  {
   "cell_type": "code",
   "source": [
    "print(f\"x_train: {x_train.shape}\")\n",
    "print(f\"y_train: {y_train.shape}\")\n",
    "print(f\"x_test: {x_test.shape}\")\n",
    "print(f\"y_test: {y_test.shape}\")"
   ],
   "metadata": {
    "colab": {
     "base_uri": "https://localhost:8080/"
    },
    "id": "5dmeGOfVHqPx",
    "outputId": "5970ad6e-ab6c-4bc4-f4bc-6624cc4e7f78",
    "pycharm": {
     "name": "#%%\n"
    }
   },
   "execution_count": 75,
   "outputs": [
    {
     "output_type": "stream",
     "name": "stdout",
     "text": [
      "x_train: (7104,)\n",
      "y_train: (7104,)\n",
      "x_test: (1776,)\n",
      "y_test: (1776,)\n"
     ]
    }
   ]
  },
  {
   "cell_type": "markdown",
   "source": [
    "## Loading GloVe vectors"
   ],
   "metadata": {
    "id": "loZL-Un8gARE",
    "pycharm": {
     "name": "#%% md\n"
    }
   }
  },
  {
   "cell_type": "code",
   "source": [
    "global_vectors = GloVe(name='6B', dim=300)"
   ],
   "metadata": {
    "id": "GnW3uDPpQOGQ",
    "pycharm": {
     "name": "#%%\n"
    }
   },
   "execution_count": 76,
   "outputs": []
  },
  {
   "cell_type": "markdown",
   "source": [
    "# Model"
   ],
   "metadata": {
    "id": "nCOaV7fReVCS",
    "pycharm": {
     "name": "#%% md\n"
    }
   }
  },
  {
   "cell_type": "markdown",
   "source": [
    "## Creating a custom Dataset class"
   ],
   "metadata": {
    "id": "HqY80U_sgFlG",
    "pycharm": {
     "name": "#%% md\n"
    }
   }
  },
  {
   "cell_type": "markdown",
   "source": [
    "Each dialogue is tokenized and padded and turned into GloVe vectors.\n",
    "Each label is changed into its one-hot form."
   ],
   "metadata": {
    "id": "_rqRZBongJZ8",
    "pycharm": {
     "name": "#%% md\n"
    }
   }
  },
  {
   "cell_type": "code",
   "source": [
    "class Dataset(torch.utils.data.Dataset):    \n",
    "    def __init__(self, x, y=None):          \n",
    "        self.x = x.tolist()\n",
    "        self.y = F.one_hot(torch.tensor(y))\n",
    "     \n",
    "    def __getitem__(self, idx):\n",
    "        tokens = word_tokenize(self.x[idx])\n",
    "        padded_tokens = tf.keras.preprocessing.sequence.pad_sequences(\n",
    "            [tokens],\n",
    "            dtype=object,\n",
    "            maxlen=MAX_LEN,\n",
    "            padding='post',\n",
    "            truncating='post',\n",
    "            value=\"\"\n",
    "        )\n",
    "        vectors = global_vectors.get_vecs_by_tokens(padded_tokens.reshape((-1,)).tolist())\n",
    "        item = {\"x\": vectors}\n",
    "        item[\"texts\"] = \"\".join(self.x[idx])\n",
    "        if self.y is not None:\n",
    "            item[\"labels\"] = self.y[idx]\n",
    "        return item\n",
    "        \n",
    "    def __len__(self):\n",
    "        return len(self.x)\n",
    "\n",
    "\n",
    "train_dataset = Dataset(x_train, y_train)\n",
    "test_dataset = Dataset(x_test, y_test)"
   ],
   "metadata": {
    "id": "vjZy60vm88CA",
    "execution": {
     "iopub.status.busy": "2022-07-08T19:27:38.215087Z",
     "iopub.execute_input": "2022-07-08T19:27:38.216020Z",
     "iopub.status.idle": "2022-07-08T19:27:38.225367Z",
     "shell.execute_reply.started": "2022-07-08T19:27:38.215982Z",
     "shell.execute_reply": "2022-07-08T19:27:38.224388Z"
    },
    "trusted": true,
    "pycharm": {
     "name": "#%%\n"
    }
   },
   "execution_count": 77,
   "outputs": []
  },
  {
   "cell_type": "markdown",
   "source": [
    "## Creating Dataloaders\n",
    "To train the model in batch form."
   ],
   "metadata": {
    "id": "2cSKXeDTgU_K",
    "pycharm": {
     "name": "#%% md\n"
    }
   }
  },
  {
   "cell_type": "code",
   "source": [
    "train_params = {'batch_size': TRAIN_BATCH_SIZE,\n",
    "                'shuffle': True,\n",
    "                'num_workers': 0}\n",
    "\n",
    "test_params = {'batch_size': VALID_BATCH_SIZE,\n",
    "                'shuffle': True,\n",
    "                'num_workers': 0}\n",
    "\n",
    "training_loader = DataLoader(train_dataset, **train_params)\n",
    "testing_loader = DataLoader(test_dataset, **test_params)"
   ],
   "metadata": {
    "id": "yCFjIBAZ9K3X",
    "execution": {
     "iopub.status.busy": "2022-07-08T19:27:38.226649Z",
     "iopub.execute_input": "2022-07-08T19:27:38.227232Z",
     "iopub.status.idle": "2022-07-08T19:27:38.237141Z",
     "shell.execute_reply.started": "2022-07-08T19:27:38.227188Z",
     "shell.execute_reply": "2022-07-08T19:27:38.236102Z"
    },
    "trusted": true,
    "pycharm": {
     "name": "#%%\n"
    }
   },
   "execution_count": 78,
   "outputs": []
  },
  {
   "cell_type": "markdown",
   "source": [
    "## Creating the model"
   ],
   "metadata": {
    "id": "v0K---uFgjrb",
    "pycharm": {
     "name": "#%% md\n"
    }
   }
  },
  {
   "cell_type": "code",
   "source": [
    "class ClassificationModel(nn.Module):\n",
    "    def __init__(self, num_class=6, hidden_dim=32, embed_size=300, lstm_layers=1, input_size=64, fc_size=64):\n",
    "        super(ClassificationModel, self).__init__()\n",
    "        self.embed_size = embed_size\n",
    "        self.lstm_layers = lstm_layers\n",
    "        self.hidden_dim = hidden_dim\n",
    "        \n",
    "        self.lstm = nn.LSTM(input_size=self.embed_size, hidden_size=self.hidden_dim, num_layers=self.lstm_layers, batch_first=True)\n",
    "\n",
    "        self.linears = nn.Sequential(\n",
    "            nn.Linear(self.hidden_dim, 64),\n",
    "            nn.BatchNorm1d(64),\n",
    "            nn.Tanh(),\n",
    "            nn.Linear(64, num_class),\n",
    "        )\n",
    "        \n",
    "\n",
    "\n",
    "    def forward(self, x):\n",
    "        out, (hidden, cell) = self.lstm(x)\n",
    "        out = out[:, -1, :] # using the last \n",
    "        out = self.linears(out)\n",
    "\n",
    "        return F.softmax(out, dim=1)\n",
    "\n",
    "model = ClassificationModel()"
   ],
   "metadata": {
    "execution": {
     "iopub.status.busy": "2022-07-08T19:28:16.195820Z",
     "iopub.status.idle": "2022-07-08T19:28:16.196726Z",
     "shell.execute_reply.started": "2022-07-08T19:28:16.196406Z",
     "shell.execute_reply": "2022-07-08T19:28:16.196434Z"
    },
    "trusted": true,
    "id": "1Ad3q5ReT6dH",
    "pycharm": {
     "name": "#%%\n"
    }
   },
   "execution_count": 79,
   "outputs": []
  },
  {
   "cell_type": "markdown",
   "source": [
    "## Initializing loss function and optimizer"
   ],
   "metadata": {
    "id": "ZSkIvUAtgniT",
    "pycharm": {
     "name": "#%% md\n"
    }
   }
  },
  {
   "cell_type": "code",
   "source": [
    "loss_fn = nn.CrossEntropyLoss()\n",
    "optimizer = torch.optim.Adam(model.parameters(), lr=LEARNING_RATE, weight_decay=4e-5)"
   ],
   "metadata": {
    "id": "X4w_WgZg1N1B",
    "pycharm": {
     "name": "#%%\n"
    }
   },
   "execution_count": 80,
   "outputs": []
  },
  {
   "cell_type": "markdown",
   "source": [
    "# Train"
   ],
   "metadata": {
    "id": "9LzqSHJwgqbP",
    "pycharm": {
     "name": "#%% md\n"
    }
   }
  },
  {
   "cell_type": "code",
   "source": [
    "def train(dataloader, epoch):\n",
    "    model.train()\n",
    "    all_pred = []\n",
    "    all_labels = []\n",
    "    running_loss = 0\n",
    "    for idx, data in enumerate(dataloader):\n",
    "        text = data[\"x\"]\n",
    "        label = data[\"labels\"]\n",
    "        predicted_label = model(text)\n",
    "        loss = loss_fn(predicted_label, label.float())      \n",
    "        optimizer.zero_grad()\n",
    "        loss.backward()\n",
    "        optimizer.step()\n",
    "        all_pred.extend(predicted_label.argmax(1))\n",
    "        all_labels.extend(label.argmax(1))\n",
    "        running_loss += loss.item()\n",
    "    \n",
    "    iter_loss = running_loss / len(dataloader)\n",
    "    return np.array(all_pred), np.array(all_labels), iter_loss\n",
    "\n",
    "\n",
    "def evaluate(dataloader):\n",
    "    model.eval()\n",
    "    all_pred = []\n",
    "    all_labels = []\n",
    "    running_loss = 0\n",
    "    with torch.no_grad():\n",
    "        for idx, data in enumerate(dataloader):\n",
    "            text = data[\"x\"]\n",
    "            label = data[\"labels\"]\n",
    "            predicted_label = model(text)\n",
    "            all_pred.extend(predicted_label.argmax(1))\n",
    "            all_labels.extend(label.argmax(1))\n",
    "            loss = loss_fn(predicted_label, label.float())\n",
    "            running_loss += loss.item()\n",
    "\n",
    "    iter_loss = running_loss / len(dataloader)\n",
    "    return np.array(all_pred), np.array(all_labels), iter_loss"
   ],
   "metadata": {
    "id": "6lN1M3b51sWE",
    "pycharm": {
     "name": "#%%\n"
    }
   },
   "execution_count": 81,
   "outputs": []
  },
  {
   "cell_type": "code",
   "source": [
    "all_tr_loss = []\n",
    "all_val_loss = []\n",
    "all_tr_acc = []\n",
    "all_val_acc = []\n",
    "\n",
    "for epoch in range(1, EPOCHS + 1):\n",
    "    tr_pred, tr_labels, tr_loss = train(training_loader,epoch)\n",
    "    val_pred, val_labels, val_loss = evaluate(testing_loader)\n",
    "    tr_acc = (tr_pred == tr_labels).sum() / len(tr_pred)\n",
    "    val_acc = (val_pred == val_labels).sum() / len(val_pred)\n",
    "\n",
    "    all_tr_loss.append(tr_loss)\n",
    "    all_val_loss.append(val_loss)\n",
    "    all_tr_acc.append(tr_acc)\n",
    "    all_val_acc.append(val_acc)\n",
    "\n",
    "    print(\n",
    "        '| end of epoch {:3d} | train loss {:5.3f} | val loss {:5.3f} | train acc {:5.3f} | val acc {:5.3f}'\n",
    "        .format(epoch, tr_loss, val_loss, tr_acc, val_acc)\n",
    "    )\n",
    "    print('-' * 90)"
   ],
   "metadata": {
    "colab": {
     "base_uri": "https://localhost:8080/"
    },
    "id": "fKiu9LA22QE6",
    "outputId": "5e2c0b9c-3fa2-47c4-ef94-43ffbb5e59e0",
    "pycharm": {
     "name": "#%%\n"
    }
   },
   "execution_count": 82,
   "outputs": [
    {
     "output_type": "stream",
     "name": "stdout",
     "text": [
      "| end of epoch   1 | train loss 1.789 | val loss 1.786 | train acc 0.185 | val acc 0.197\n",
      "------------------------------------------------------------------------------------------\n",
      "| end of epoch   2 | train loss 1.773 | val loss 1.772 | train acc 0.222 | val acc 0.212\n",
      "------------------------------------------------------------------------------------------\n",
      "| end of epoch   3 | train loss 1.738 | val loss 1.746 | train acc 0.267 | val acc 0.259\n",
      "------------------------------------------------------------------------------------------\n",
      "| end of epoch   4 | train loss 1.691 | val loss 1.714 | train acc 0.328 | val acc 0.297\n",
      "------------------------------------------------------------------------------------------\n",
      "| end of epoch   5 | train loss 1.645 | val loss 1.695 | train acc 0.381 | val acc 0.329\n",
      "------------------------------------------------------------------------------------------\n",
      "| end of epoch   6 | train loss 1.599 | val loss 1.692 | train acc 0.439 | val acc 0.341\n",
      "------------------------------------------------------------------------------------------\n",
      "| end of epoch   7 | train loss 1.554 | val loss 1.642 | train acc 0.493 | val acc 0.390\n",
      "------------------------------------------------------------------------------------------\n",
      "| end of epoch   8 | train loss 1.515 | val loss 1.621 | train acc 0.533 | val acc 0.419\n",
      "------------------------------------------------------------------------------------------\n",
      "| end of epoch   9 | train loss 1.485 | val loss 1.607 | train acc 0.564 | val acc 0.434\n",
      "------------------------------------------------------------------------------------------\n",
      "| end of epoch  10 | train loss 1.459 | val loss 1.577 | train acc 0.589 | val acc 0.461\n",
      "------------------------------------------------------------------------------------------\n",
      "| end of epoch  11 | train loss 1.441 | val loss 1.600 | train acc 0.605 | val acc 0.434\n",
      "------------------------------------------------------------------------------------------\n",
      "| end of epoch  12 | train loss 1.425 | val loss 1.567 | train acc 0.622 | val acc 0.472\n",
      "------------------------------------------------------------------------------------------\n",
      "| end of epoch  13 | train loss 1.420 | val loss 1.616 | train acc 0.624 | val acc 0.414\n",
      "------------------------------------------------------------------------------------------\n",
      "| end of epoch  14 | train loss 1.416 | val loss 1.562 | train acc 0.629 | val acc 0.477\n",
      "------------------------------------------------------------------------------------------\n",
      "| end of epoch  15 | train loss 1.402 | val loss 1.550 | train acc 0.642 | val acc 0.488\n",
      "------------------------------------------------------------------------------------------\n",
      "| end of epoch  16 | train loss 1.395 | val loss 1.547 | train acc 0.649 | val acc 0.492\n",
      "------------------------------------------------------------------------------------------\n",
      "| end of epoch  17 | train loss 1.391 | val loss 1.562 | train acc 0.653 | val acc 0.476\n",
      "------------------------------------------------------------------------------------------\n",
      "| end of epoch  18 | train loss 1.389 | val loss 1.536 | train acc 0.657 | val acc 0.503\n",
      "------------------------------------------------------------------------------------------\n",
      "| end of epoch  19 | train loss 1.382 | val loss 1.531 | train acc 0.661 | val acc 0.508\n",
      "------------------------------------------------------------------------------------------\n",
      "| end of epoch  20 | train loss 1.377 | val loss 1.531 | train acc 0.667 | val acc 0.509\n",
      "------------------------------------------------------------------------------------------\n",
      "| end of epoch  21 | train loss 1.372 | val loss 1.520 | train acc 0.671 | val acc 0.522\n",
      "------------------------------------------------------------------------------------------\n",
      "| end of epoch  22 | train loss 1.370 | val loss 1.516 | train acc 0.672 | val acc 0.521\n",
      "------------------------------------------------------------------------------------------\n",
      "| end of epoch  23 | train loss 1.371 | val loss 1.512 | train acc 0.674 | val acc 0.528\n",
      "------------------------------------------------------------------------------------------\n",
      "| end of epoch  24 | train loss 1.366 | val loss 1.518 | train acc 0.677 | val acc 0.518\n",
      "------------------------------------------------------------------------------------------\n",
      "| end of epoch  25 | train loss 1.365 | val loss 1.515 | train acc 0.678 | val acc 0.525\n",
      "------------------------------------------------------------------------------------------\n",
      "| end of epoch  26 | train loss 1.362 | val loss 1.506 | train acc 0.680 | val acc 0.533\n",
      "------------------------------------------------------------------------------------------\n",
      "| end of epoch  27 | train loss 1.355 | val loss 1.505 | train acc 0.689 | val acc 0.536\n",
      "------------------------------------------------------------------------------------------\n",
      "| end of epoch  28 | train loss 1.357 | val loss 1.510 | train acc 0.686 | val acc 0.530\n",
      "------------------------------------------------------------------------------------------\n",
      "| end of epoch  29 | train loss 1.354 | val loss 1.521 | train acc 0.688 | val acc 0.522\n",
      "------------------------------------------------------------------------------------------\n",
      "| end of epoch  30 | train loss 1.356 | val loss 1.501 | train acc 0.688 | val acc 0.537\n",
      "------------------------------------------------------------------------------------------\n",
      "| end of epoch  31 | train loss 1.353 | val loss 1.529 | train acc 0.689 | val acc 0.508\n",
      "------------------------------------------------------------------------------------------\n",
      "| end of epoch  32 | train loss 1.350 | val loss 1.503 | train acc 0.693 | val acc 0.537\n",
      "------------------------------------------------------------------------------------------\n",
      "| end of epoch  33 | train loss 1.346 | val loss 1.501 | train acc 0.697 | val acc 0.538\n",
      "------------------------------------------------------------------------------------------\n",
      "| end of epoch  34 | train loss 1.347 | val loss 1.499 | train acc 0.696 | val acc 0.541\n",
      "------------------------------------------------------------------------------------------\n",
      "| end of epoch  35 | train loss 1.348 | val loss 1.504 | train acc 0.696 | val acc 0.534\n",
      "------------------------------------------------------------------------------------------\n",
      "| end of epoch  36 | train loss 1.347 | val loss 1.509 | train acc 0.695 | val acc 0.529\n",
      "------------------------------------------------------------------------------------------\n",
      "| end of epoch  37 | train loss 1.349 | val loss 1.502 | train acc 0.694 | val acc 0.539\n",
      "------------------------------------------------------------------------------------------\n",
      "| end of epoch  38 | train loss 1.341 | val loss 1.500 | train acc 0.702 | val acc 0.536\n",
      "------------------------------------------------------------------------------------------\n",
      "| end of epoch  39 | train loss 1.340 | val loss 1.506 | train acc 0.702 | val acc 0.533\n",
      "------------------------------------------------------------------------------------------\n",
      "| end of epoch  40 | train loss 1.338 | val loss 1.500 | train acc 0.704 | val acc 0.539\n",
      "------------------------------------------------------------------------------------------\n",
      "| end of epoch  41 | train loss 1.339 | val loss 1.500 | train acc 0.705 | val acc 0.541\n",
      "------------------------------------------------------------------------------------------\n",
      "| end of epoch  42 | train loss 1.338 | val loss 1.487 | train acc 0.704 | val acc 0.553\n",
      "------------------------------------------------------------------------------------------\n",
      "| end of epoch  43 | train loss 1.338 | val loss 1.487 | train acc 0.705 | val acc 0.551\n",
      "------------------------------------------------------------------------------------------\n",
      "| end of epoch  44 | train loss 1.335 | val loss 1.492 | train acc 0.707 | val acc 0.547\n",
      "------------------------------------------------------------------------------------------\n",
      "| end of epoch  45 | train loss 1.335 | val loss 1.488 | train acc 0.708 | val acc 0.552\n",
      "------------------------------------------------------------------------------------------\n",
      "| end of epoch  46 | train loss 1.333 | val loss 1.493 | train acc 0.710 | val acc 0.543\n",
      "------------------------------------------------------------------------------------------\n",
      "| end of epoch  47 | train loss 1.337 | val loss 1.495 | train acc 0.706 | val acc 0.542\n",
      "------------------------------------------------------------------------------------------\n",
      "| end of epoch  48 | train loss 1.341 | val loss 1.486 | train acc 0.702 | val acc 0.556\n",
      "------------------------------------------------------------------------------------------\n",
      "| end of epoch  49 | train loss 1.336 | val loss 1.505 | train acc 0.707 | val acc 0.534\n",
      "------------------------------------------------------------------------------------------\n",
      "| end of epoch  50 | train loss 1.334 | val loss 1.502 | train acc 0.710 | val acc 0.538\n",
      "------------------------------------------------------------------------------------------\n",
      "| end of epoch  51 | train loss 1.332 | val loss 1.485 | train acc 0.711 | val acc 0.556\n",
      "------------------------------------------------------------------------------------------\n",
      "| end of epoch  52 | train loss 1.336 | val loss 1.485 | train acc 0.707 | val acc 0.556\n",
      "------------------------------------------------------------------------------------------\n",
      "| end of epoch  53 | train loss 1.329 | val loss 1.483 | train acc 0.713 | val acc 0.557\n",
      "------------------------------------------------------------------------------------------\n",
      "| end of epoch  54 | train loss 1.329 | val loss 1.479 | train acc 0.713 | val acc 0.560\n",
      "------------------------------------------------------------------------------------------\n",
      "| end of epoch  55 | train loss 1.330 | val loss 1.482 | train acc 0.713 | val acc 0.557\n",
      "------------------------------------------------------------------------------------------\n",
      "| end of epoch  56 | train loss 1.328 | val loss 1.475 | train acc 0.714 | val acc 0.560\n",
      "------------------------------------------------------------------------------------------\n",
      "| end of epoch  57 | train loss 1.328 | val loss 1.482 | train acc 0.714 | val acc 0.560\n",
      "------------------------------------------------------------------------------------------\n",
      "| end of epoch  58 | train loss 1.328 | val loss 1.477 | train acc 0.714 | val acc 0.562\n",
      "------------------------------------------------------------------------------------------\n",
      "| end of epoch  59 | train loss 1.326 | val loss 1.477 | train acc 0.716 | val acc 0.560\n",
      "------------------------------------------------------------------------------------------\n",
      "| end of epoch  60 | train loss 1.329 | val loss 1.483 | train acc 0.714 | val acc 0.555\n",
      "------------------------------------------------------------------------------------------\n",
      "| end of epoch  61 | train loss 1.334 | val loss 1.479 | train acc 0.708 | val acc 0.562\n",
      "------------------------------------------------------------------------------------------\n",
      "| end of epoch  62 | train loss 1.332 | val loss 1.480 | train acc 0.710 | val acc 0.561\n",
      "------------------------------------------------------------------------------------------\n",
      "| end of epoch  63 | train loss 1.327 | val loss 1.486 | train acc 0.716 | val acc 0.553\n",
      "------------------------------------------------------------------------------------------\n",
      "| end of epoch  64 | train loss 1.326 | val loss 1.477 | train acc 0.715 | val acc 0.561\n",
      "------------------------------------------------------------------------------------------\n",
      "| end of epoch  65 | train loss 1.322 | val loss 1.474 | train acc 0.719 | val acc 0.565\n",
      "------------------------------------------------------------------------------------------\n",
      "| end of epoch  66 | train loss 1.320 | val loss 1.474 | train acc 0.721 | val acc 0.561\n",
      "------------------------------------------------------------------------------------------\n",
      "| end of epoch  67 | train loss 1.319 | val loss 1.472 | train acc 0.722 | val acc 0.565\n",
      "------------------------------------------------------------------------------------------\n",
      "| end of epoch  68 | train loss 1.322 | val loss 1.475 | train acc 0.721 | val acc 0.565\n",
      "------------------------------------------------------------------------------------------\n",
      "| end of epoch  69 | train loss 1.322 | val loss 1.486 | train acc 0.720 | val acc 0.555\n",
      "------------------------------------------------------------------------------------------\n",
      "| end of epoch  70 | train loss 1.321 | val loss 1.477 | train acc 0.720 | val acc 0.564\n",
      "------------------------------------------------------------------------------------------\n",
      "| end of epoch  71 | train loss 1.321 | val loss 1.480 | train acc 0.721 | val acc 0.559\n",
      "------------------------------------------------------------------------------------------\n",
      "| end of epoch  72 | train loss 1.323 | val loss 1.488 | train acc 0.718 | val acc 0.553\n",
      "------------------------------------------------------------------------------------------\n",
      "| end of epoch  73 | train loss 1.324 | val loss 1.472 | train acc 0.719 | val acc 0.569\n",
      "------------------------------------------------------------------------------------------\n",
      "| end of epoch  74 | train loss 1.323 | val loss 1.477 | train acc 0.720 | val acc 0.565\n",
      "------------------------------------------------------------------------------------------\n",
      "| end of epoch  75 | train loss 1.318 | val loss 1.469 | train acc 0.724 | val acc 0.570\n",
      "------------------------------------------------------------------------------------------\n",
      "| end of epoch  76 | train loss 1.318 | val loss 1.473 | train acc 0.725 | val acc 0.568\n",
      "------------------------------------------------------------------------------------------\n",
      "| end of epoch  77 | train loss 1.316 | val loss 1.464 | train acc 0.726 | val acc 0.570\n",
      "------------------------------------------------------------------------------------------\n",
      "| end of epoch  78 | train loss 1.313 | val loss 1.464 | train acc 0.728 | val acc 0.573\n",
      "------------------------------------------------------------------------------------------\n",
      "| end of epoch  79 | train loss 1.313 | val loss 1.464 | train acc 0.729 | val acc 0.574\n",
      "------------------------------------------------------------------------------------------\n",
      "| end of epoch  80 | train loss 1.313 | val loss 1.463 | train acc 0.729 | val acc 0.577\n",
      "------------------------------------------------------------------------------------------\n",
      "| end of epoch  81 | train loss 1.313 | val loss 1.467 | train acc 0.728 | val acc 0.570\n",
      "------------------------------------------------------------------------------------------\n",
      "| end of epoch  82 | train loss 1.315 | val loss 1.461 | train acc 0.727 | val acc 0.582\n",
      "------------------------------------------------------------------------------------------\n",
      "| end of epoch  83 | train loss 1.311 | val loss 1.457 | train acc 0.731 | val acc 0.582\n",
      "------------------------------------------------------------------------------------------\n",
      "| end of epoch  84 | train loss 1.314 | val loss 1.464 | train acc 0.728 | val acc 0.578\n",
      "------------------------------------------------------------------------------------------\n",
      "| end of epoch  85 | train loss 1.320 | val loss 1.457 | train acc 0.723 | val acc 0.583\n",
      "------------------------------------------------------------------------------------------\n",
      "| end of epoch  86 | train loss 1.314 | val loss 1.463 | train acc 0.728 | val acc 0.576\n",
      "------------------------------------------------------------------------------------------\n",
      "| end of epoch  87 | train loss 1.312 | val loss 1.456 | train acc 0.730 | val acc 0.583\n",
      "------------------------------------------------------------------------------------------\n",
      "| end of epoch  88 | train loss 1.314 | val loss 1.461 | train acc 0.729 | val acc 0.579\n",
      "------------------------------------------------------------------------------------------\n",
      "| end of epoch  89 | train loss 1.314 | val loss 1.465 | train acc 0.729 | val acc 0.580\n",
      "------------------------------------------------------------------------------------------\n",
      "| end of epoch  90 | train loss 1.310 | val loss 1.460 | train acc 0.732 | val acc 0.579\n",
      "------------------------------------------------------------------------------------------\n",
      "| end of epoch  91 | train loss 1.313 | val loss 1.465 | train acc 0.730 | val acc 0.572\n",
      "------------------------------------------------------------------------------------------\n",
      "| end of epoch  92 | train loss 1.312 | val loss 1.459 | train acc 0.730 | val acc 0.583\n",
      "------------------------------------------------------------------------------------------\n",
      "| end of epoch  93 | train loss 1.309 | val loss 1.457 | train acc 0.733 | val acc 0.581\n",
      "------------------------------------------------------------------------------------------\n",
      "| end of epoch  94 | train loss 1.309 | val loss 1.465 | train acc 0.732 | val acc 0.573\n",
      "------------------------------------------------------------------------------------------\n",
      "| end of epoch  95 | train loss 1.312 | val loss 1.460 | train acc 0.730 | val acc 0.579\n",
      "------------------------------------------------------------------------------------------\n",
      "| end of epoch  96 | train loss 1.310 | val loss 1.457 | train acc 0.732 | val acc 0.583\n",
      "------------------------------------------------------------------------------------------\n",
      "| end of epoch  97 | train loss 1.314 | val loss 1.473 | train acc 0.728 | val acc 0.566\n",
      "------------------------------------------------------------------------------------------\n",
      "| end of epoch  98 | train loss 1.311 | val loss 1.457 | train acc 0.731 | val acc 0.584\n",
      "------------------------------------------------------------------------------------------\n",
      "| end of epoch  99 | train loss 1.308 | val loss 1.455 | train acc 0.735 | val acc 0.585\n",
      "------------------------------------------------------------------------------------------\n",
      "| end of epoch 100 | train loss 1.307 | val loss 1.454 | train acc 0.736 | val acc 0.586\n",
      "------------------------------------------------------------------------------------------\n",
      "| end of epoch 101 | train loss 1.308 | val loss 1.457 | train acc 0.735 | val acc 0.584\n",
      "------------------------------------------------------------------------------------------\n",
      "| end of epoch 102 | train loss 1.305 | val loss 1.453 | train acc 0.738 | val acc 0.586\n",
      "------------------------------------------------------------------------------------------\n",
      "| end of epoch 103 | train loss 1.304 | val loss 1.450 | train acc 0.739 | val acc 0.587\n",
      "------------------------------------------------------------------------------------------\n",
      "| end of epoch 104 | train loss 1.308 | val loss 1.455 | train acc 0.734 | val acc 0.584\n",
      "------------------------------------------------------------------------------------------\n",
      "| end of epoch 105 | train loss 1.305 | val loss 1.457 | train acc 0.737 | val acc 0.583\n",
      "------------------------------------------------------------------------------------------\n",
      "| end of epoch 106 | train loss 1.306 | val loss 1.458 | train acc 0.736 | val acc 0.581\n",
      "------------------------------------------------------------------------------------------\n",
      "| end of epoch 107 | train loss 1.306 | val loss 1.462 | train acc 0.736 | val acc 0.581\n",
      "------------------------------------------------------------------------------------------\n",
      "| end of epoch 108 | train loss 1.307 | val loss 1.458 | train acc 0.736 | val acc 0.580\n",
      "------------------------------------------------------------------------------------------\n",
      "| end of epoch 109 | train loss 1.306 | val loss 1.455 | train acc 0.737 | val acc 0.586\n",
      "------------------------------------------------------------------------------------------\n",
      "| end of epoch 110 | train loss 1.305 | val loss 1.449 | train acc 0.738 | val acc 0.592\n",
      "------------------------------------------------------------------------------------------\n",
      "| end of epoch 111 | train loss 1.304 | val loss 1.454 | train acc 0.738 | val acc 0.587\n",
      "------------------------------------------------------------------------------------------\n",
      "| end of epoch 112 | train loss 1.303 | val loss 1.451 | train acc 0.739 | val acc 0.588\n",
      "------------------------------------------------------------------------------------------\n",
      "| end of epoch 113 | train loss 1.302 | val loss 1.449 | train acc 0.739 | val acc 0.590\n",
      "------------------------------------------------------------------------------------------\n",
      "| end of epoch 114 | train loss 1.299 | val loss 1.451 | train acc 0.743 | val acc 0.590\n",
      "------------------------------------------------------------------------------------------\n",
      "| end of epoch 115 | train loss 1.302 | val loss 1.457 | train acc 0.739 | val acc 0.582\n",
      "------------------------------------------------------------------------------------------\n",
      "| end of epoch 116 | train loss 1.301 | val loss 1.447 | train acc 0.741 | val acc 0.592\n",
      "------------------------------------------------------------------------------------------\n",
      "| end of epoch 117 | train loss 1.297 | val loss 1.445 | train acc 0.746 | val acc 0.596\n",
      "------------------------------------------------------------------------------------------\n",
      "| end of epoch 118 | train loss 1.297 | val loss 1.447 | train acc 0.745 | val acc 0.594\n",
      "------------------------------------------------------------------------------------------\n",
      "| end of epoch 119 | train loss 1.296 | val loss 1.447 | train acc 0.746 | val acc 0.592\n",
      "------------------------------------------------------------------------------------------\n",
      "| end of epoch 120 | train loss 1.303 | val loss 1.447 | train acc 0.739 | val acc 0.593\n",
      "------------------------------------------------------------------------------------------\n",
      "| end of epoch 121 | train loss 1.301 | val loss 1.454 | train acc 0.742 | val acc 0.587\n",
      "------------------------------------------------------------------------------------------\n",
      "| end of epoch 122 | train loss 1.300 | val loss 1.449 | train acc 0.743 | val acc 0.594\n",
      "------------------------------------------------------------------------------------------\n",
      "| end of epoch 123 | train loss 1.298 | val loss 1.439 | train acc 0.744 | val acc 0.605\n",
      "------------------------------------------------------------------------------------------\n",
      "| end of epoch 124 | train loss 1.297 | val loss 1.444 | train acc 0.746 | val acc 0.596\n",
      "------------------------------------------------------------------------------------------\n",
      "| end of epoch 125 | train loss 1.299 | val loss 1.437 | train acc 0.744 | val acc 0.604\n",
      "------------------------------------------------------------------------------------------\n",
      "| end of epoch 126 | train loss 1.295 | val loss 1.435 | train acc 0.747 | val acc 0.605\n",
      "------------------------------------------------------------------------------------------\n",
      "| end of epoch 127 | train loss 1.295 | val loss 1.439 | train acc 0.747 | val acc 0.604\n",
      "------------------------------------------------------------------------------------------\n",
      "| end of epoch 128 | train loss 1.294 | val loss 1.437 | train acc 0.747 | val acc 0.600\n",
      "------------------------------------------------------------------------------------------\n",
      "| end of epoch 129 | train loss 1.292 | val loss 1.437 | train acc 0.750 | val acc 0.600\n",
      "------------------------------------------------------------------------------------------\n",
      "| end of epoch 130 | train loss 1.291 | val loss 1.431 | train acc 0.750 | val acc 0.608\n",
      "------------------------------------------------------------------------------------------\n",
      "| end of epoch 131 | train loss 1.290 | val loss 1.428 | train acc 0.751 | val acc 0.608\n",
      "------------------------------------------------------------------------------------------\n",
      "| end of epoch 132 | train loss 1.289 | val loss 1.433 | train acc 0.752 | val acc 0.603\n",
      "------------------------------------------------------------------------------------------\n",
      "| end of epoch 133 | train loss 1.292 | val loss 1.429 | train acc 0.749 | val acc 0.611\n",
      "------------------------------------------------------------------------------------------\n",
      "| end of epoch 134 | train loss 1.294 | val loss 1.435 | train acc 0.748 | val acc 0.602\n",
      "------------------------------------------------------------------------------------------\n",
      "| end of epoch 135 | train loss 1.295 | val loss 1.438 | train acc 0.745 | val acc 0.601\n",
      "------------------------------------------------------------------------------------------\n",
      "| end of epoch 136 | train loss 1.293 | val loss 1.435 | train acc 0.750 | val acc 0.603\n",
      "------------------------------------------------------------------------------------------\n",
      "| end of epoch 137 | train loss 1.291 | val loss 1.429 | train acc 0.751 | val acc 0.609\n",
      "------------------------------------------------------------------------------------------\n",
      "| end of epoch 138 | train loss 1.292 | val loss 1.428 | train acc 0.750 | val acc 0.609\n",
      "------------------------------------------------------------------------------------------\n",
      "| end of epoch 139 | train loss 1.290 | val loss 1.439 | train acc 0.753 | val acc 0.601\n",
      "------------------------------------------------------------------------------------------\n",
      "| end of epoch 140 | train loss 1.291 | val loss 1.428 | train acc 0.751 | val acc 0.614\n",
      "------------------------------------------------------------------------------------------\n",
      "| end of epoch 141 | train loss 1.288 | val loss 1.432 | train acc 0.754 | val acc 0.608\n",
      "------------------------------------------------------------------------------------------\n",
      "| end of epoch 142 | train loss 1.287 | val loss 1.429 | train acc 0.754 | val acc 0.610\n",
      "------------------------------------------------------------------------------------------\n",
      "| end of epoch 143 | train loss 1.291 | val loss 1.431 | train acc 0.750 | val acc 0.609\n",
      "------------------------------------------------------------------------------------------\n",
      "| end of epoch 144 | train loss 1.299 | val loss 1.437 | train acc 0.742 | val acc 0.603\n",
      "------------------------------------------------------------------------------------------\n",
      "| end of epoch 145 | train loss 1.288 | val loss 1.435 | train acc 0.753 | val acc 0.604\n",
      "------------------------------------------------------------------------------------------\n",
      "| end of epoch 146 | train loss 1.288 | val loss 1.434 | train acc 0.754 | val acc 0.604\n",
      "------------------------------------------------------------------------------------------\n",
      "| end of epoch 147 | train loss 1.288 | val loss 1.434 | train acc 0.754 | val acc 0.604\n",
      "------------------------------------------------------------------------------------------\n",
      "| end of epoch 148 | train loss 1.288 | val loss 1.429 | train acc 0.754 | val acc 0.611\n",
      "------------------------------------------------------------------------------------------\n",
      "| end of epoch 149 | train loss 1.285 | val loss 1.429 | train acc 0.757 | val acc 0.608\n",
      "------------------------------------------------------------------------------------------\n",
      "| end of epoch 150 | train loss 1.286 | val loss 1.433 | train acc 0.757 | val acc 0.608\n",
      "------------------------------------------------------------------------------------------\n",
      "| end of epoch 151 | train loss 1.284 | val loss 1.432 | train acc 0.758 | val acc 0.607\n",
      "------------------------------------------------------------------------------------------\n",
      "| end of epoch 152 | train loss 1.285 | val loss 1.430 | train acc 0.758 | val acc 0.609\n",
      "------------------------------------------------------------------------------------------\n",
      "| end of epoch 153 | train loss 1.284 | val loss 1.430 | train acc 0.758 | val acc 0.613\n",
      "------------------------------------------------------------------------------------------\n",
      "| end of epoch 154 | train loss 1.287 | val loss 1.428 | train acc 0.755 | val acc 0.615\n",
      "------------------------------------------------------------------------------------------\n",
      "| end of epoch 155 | train loss 1.283 | val loss 1.423 | train acc 0.759 | val acc 0.617\n",
      "------------------------------------------------------------------------------------------\n",
      "| end of epoch 156 | train loss 1.281 | val loss 1.423 | train acc 0.761 | val acc 0.619\n",
      "------------------------------------------------------------------------------------------\n",
      "| end of epoch 157 | train loss 1.282 | val loss 1.425 | train acc 0.760 | val acc 0.615\n",
      "------------------------------------------------------------------------------------------\n",
      "| end of epoch 158 | train loss 1.280 | val loss 1.419 | train acc 0.762 | val acc 0.619\n",
      "------------------------------------------------------------------------------------------\n",
      "| end of epoch 159 | train loss 1.279 | val loss 1.420 | train acc 0.763 | val acc 0.619\n",
      "------------------------------------------------------------------------------------------\n",
      "| end of epoch 160 | train loss 1.278 | val loss 1.423 | train acc 0.764 | val acc 0.615\n",
      "------------------------------------------------------------------------------------------\n",
      "| end of epoch 161 | train loss 1.280 | val loss 1.420 | train acc 0.762 | val acc 0.617\n",
      "------------------------------------------------------------------------------------------\n",
      "| end of epoch 162 | train loss 1.280 | val loss 1.418 | train acc 0.762 | val acc 0.622\n",
      "------------------------------------------------------------------------------------------\n",
      "| end of epoch 163 | train loss 1.280 | val loss 1.419 | train acc 0.762 | val acc 0.623\n",
      "------------------------------------------------------------------------------------------\n",
      "| end of epoch 164 | train loss 1.279 | val loss 1.420 | train acc 0.763 | val acc 0.622\n",
      "------------------------------------------------------------------------------------------\n",
      "| end of epoch 165 | train loss 1.281 | val loss 1.418 | train acc 0.762 | val acc 0.620\n",
      "------------------------------------------------------------------------------------------\n",
      "| end of epoch 166 | train loss 1.282 | val loss 1.424 | train acc 0.759 | val acc 0.614\n",
      "------------------------------------------------------------------------------------------\n",
      "| end of epoch 167 | train loss 1.280 | val loss 1.419 | train acc 0.762 | val acc 0.619\n",
      "------------------------------------------------------------------------------------------\n",
      "| end of epoch 168 | train loss 1.279 | val loss 1.421 | train acc 0.763 | val acc 0.619\n",
      "------------------------------------------------------------------------------------------\n",
      "| end of epoch 169 | train loss 1.280 | val loss 1.421 | train acc 0.763 | val acc 0.620\n",
      "------------------------------------------------------------------------------------------\n",
      "| end of epoch 170 | train loss 1.281 | val loss 1.421 | train acc 0.762 | val acc 0.617\n",
      "------------------------------------------------------------------------------------------\n",
      "| end of epoch 171 | train loss 1.278 | val loss 1.425 | train acc 0.765 | val acc 0.615\n",
      "------------------------------------------------------------------------------------------\n",
      "| end of epoch 172 | train loss 1.279 | val loss 1.414 | train acc 0.763 | val acc 0.624\n",
      "------------------------------------------------------------------------------------------\n",
      "| end of epoch 173 | train loss 1.279 | val loss 1.416 | train acc 0.763 | val acc 0.625\n",
      "------------------------------------------------------------------------------------------\n",
      "| end of epoch 174 | train loss 1.277 | val loss 1.414 | train acc 0.766 | val acc 0.624\n",
      "------------------------------------------------------------------------------------------\n",
      "| end of epoch 175 | train loss 1.276 | val loss 1.412 | train acc 0.766 | val acc 0.628\n",
      "------------------------------------------------------------------------------------------\n",
      "| end of epoch 176 | train loss 1.277 | val loss 1.427 | train acc 0.766 | val acc 0.616\n",
      "------------------------------------------------------------------------------------------\n",
      "| end of epoch 177 | train loss 1.277 | val loss 1.410 | train acc 0.765 | val acc 0.628\n",
      "------------------------------------------------------------------------------------------\n",
      "| end of epoch 178 | train loss 1.273 | val loss 1.414 | train acc 0.768 | val acc 0.626\n",
      "------------------------------------------------------------------------------------------\n",
      "| end of epoch 179 | train loss 1.270 | val loss 1.410 | train acc 0.772 | val acc 0.632\n",
      "------------------------------------------------------------------------------------------\n",
      "| end of epoch 180 | train loss 1.269 | val loss 1.412 | train acc 0.773 | val acc 0.628\n",
      "------------------------------------------------------------------------------------------\n",
      "| end of epoch 181 | train loss 1.268 | val loss 1.411 | train acc 0.774 | val acc 0.628\n",
      "------------------------------------------------------------------------------------------\n",
      "| end of epoch 182 | train loss 1.266 | val loss 1.409 | train acc 0.775 | val acc 0.631\n",
      "------------------------------------------------------------------------------------------\n",
      "| end of epoch 183 | train loss 1.269 | val loss 1.414 | train acc 0.773 | val acc 0.627\n",
      "------------------------------------------------------------------------------------------\n",
      "| end of epoch 184 | train loss 1.271 | val loss 1.414 | train acc 0.771 | val acc 0.625\n",
      "------------------------------------------------------------------------------------------\n",
      "| end of epoch 185 | train loss 1.271 | val loss 1.412 | train acc 0.772 | val acc 0.627\n",
      "------------------------------------------------------------------------------------------\n",
      "| end of epoch 186 | train loss 1.271 | val loss 1.413 | train acc 0.772 | val acc 0.627\n",
      "------------------------------------------------------------------------------------------\n",
      "| end of epoch 187 | train loss 1.270 | val loss 1.411 | train acc 0.773 | val acc 0.631\n",
      "------------------------------------------------------------------------------------------\n",
      "| end of epoch 188 | train loss 1.268 | val loss 1.412 | train acc 0.774 | val acc 0.628\n",
      "------------------------------------------------------------------------------------------\n",
      "| end of epoch 189 | train loss 1.273 | val loss 1.416 | train acc 0.770 | val acc 0.627\n",
      "------------------------------------------------------------------------------------------\n",
      "| end of epoch 190 | train loss 1.273 | val loss 1.414 | train acc 0.770 | val acc 0.626\n",
      "------------------------------------------------------------------------------------------\n",
      "| end of epoch 191 | train loss 1.275 | val loss 1.425 | train acc 0.768 | val acc 0.614\n",
      "------------------------------------------------------------------------------------------\n",
      "| end of epoch 192 | train loss 1.274 | val loss 1.417 | train acc 0.769 | val acc 0.626\n",
      "------------------------------------------------------------------------------------------\n",
      "| end of epoch 193 | train loss 1.269 | val loss 1.413 | train acc 0.773 | val acc 0.627\n",
      "------------------------------------------------------------------------------------------\n",
      "| end of epoch 194 | train loss 1.270 | val loss 1.410 | train acc 0.772 | val acc 0.629\n",
      "------------------------------------------------------------------------------------------\n",
      "| end of epoch 195 | train loss 1.270 | val loss 1.418 | train acc 0.773 | val acc 0.622\n",
      "------------------------------------------------------------------------------------------\n",
      "| end of epoch 196 | train loss 1.274 | val loss 1.419 | train acc 0.769 | val acc 0.624\n",
      "------------------------------------------------------------------------------------------\n",
      "| end of epoch 197 | train loss 1.270 | val loss 1.413 | train acc 0.773 | val acc 0.627\n",
      "------------------------------------------------------------------------------------------\n",
      "| end of epoch 198 | train loss 1.267 | val loss 1.409 | train acc 0.775 | val acc 0.632\n",
      "------------------------------------------------------------------------------------------\n",
      "| end of epoch 199 | train loss 1.269 | val loss 1.417 | train acc 0.773 | val acc 0.622\n",
      "------------------------------------------------------------------------------------------\n",
      "| end of epoch 200 | train loss 1.273 | val loss 1.408 | train acc 0.770 | val acc 0.631\n",
      "------------------------------------------------------------------------------------------\n",
      "| end of epoch 201 | train loss 1.269 | val loss 1.408 | train acc 0.773 | val acc 0.630\n",
      "------------------------------------------------------------------------------------------\n",
      "| end of epoch 202 | train loss 1.266 | val loss 1.409 | train acc 0.776 | val acc 0.632\n",
      "------------------------------------------------------------------------------------------\n",
      "| end of epoch 203 | train loss 1.274 | val loss 1.418 | train acc 0.768 | val acc 0.618\n",
      "------------------------------------------------------------------------------------------\n",
      "| end of epoch 204 | train loss 1.268 | val loss 1.409 | train acc 0.774 | val acc 0.632\n",
      "------------------------------------------------------------------------------------------\n",
      "| end of epoch 205 | train loss 1.268 | val loss 1.409 | train acc 0.774 | val acc 0.632\n",
      "------------------------------------------------------------------------------------------\n",
      "| end of epoch 206 | train loss 1.265 | val loss 1.413 | train acc 0.776 | val acc 0.629\n",
      "------------------------------------------------------------------------------------------\n",
      "| end of epoch 207 | train loss 1.263 | val loss 1.402 | train acc 0.779 | val acc 0.642\n",
      "------------------------------------------------------------------------------------------\n",
      "| end of epoch 208 | train loss 1.264 | val loss 1.405 | train acc 0.778 | val acc 0.636\n",
      "------------------------------------------------------------------------------------------\n",
      "| end of epoch 209 | train loss 1.263 | val loss 1.406 | train acc 0.780 | val acc 0.633\n",
      "------------------------------------------------------------------------------------------\n",
      "| end of epoch 210 | train loss 1.262 | val loss 1.402 | train acc 0.780 | val acc 0.637\n",
      "------------------------------------------------------------------------------------------\n",
      "| end of epoch 211 | train loss 1.261 | val loss 1.412 | train acc 0.781 | val acc 0.630\n",
      "------------------------------------------------------------------------------------------\n",
      "| end of epoch 212 | train loss 1.265 | val loss 1.405 | train acc 0.778 | val acc 0.635\n",
      "------------------------------------------------------------------------------------------\n",
      "| end of epoch 213 | train loss 1.260 | val loss 1.401 | train acc 0.782 | val acc 0.636\n",
      "------------------------------------------------------------------------------------------\n",
      "| end of epoch 214 | train loss 1.260 | val loss 1.403 | train acc 0.782 | val acc 0.640\n",
      "------------------------------------------------------------------------------------------\n",
      "| end of epoch 215 | train loss 1.260 | val loss 1.403 | train acc 0.782 | val acc 0.638\n",
      "------------------------------------------------------------------------------------------\n",
      "| end of epoch 216 | train loss 1.260 | val loss 1.394 | train acc 0.782 | val acc 0.645\n",
      "------------------------------------------------------------------------------------------\n",
      "| end of epoch 217 | train loss 1.259 | val loss 1.402 | train acc 0.783 | val acc 0.636\n",
      "------------------------------------------------------------------------------------------\n",
      "| end of epoch 218 | train loss 1.260 | val loss 1.397 | train acc 0.782 | val acc 0.642\n",
      "------------------------------------------------------------------------------------------\n",
      "| end of epoch 219 | train loss 1.260 | val loss 1.412 | train acc 0.782 | val acc 0.627\n",
      "------------------------------------------------------------------------------------------\n",
      "| end of epoch 220 | train loss 1.261 | val loss 1.410 | train acc 0.781 | val acc 0.630\n",
      "------------------------------------------------------------------------------------------\n",
      "| end of epoch 221 | train loss 1.263 | val loss 1.405 | train acc 0.780 | val acc 0.637\n",
      "------------------------------------------------------------------------------------------\n",
      "| end of epoch 222 | train loss 1.261 | val loss 1.398 | train acc 0.782 | val acc 0.642\n",
      "------------------------------------------------------------------------------------------\n",
      "| end of epoch 223 | train loss 1.260 | val loss 1.394 | train acc 0.782 | val acc 0.645\n",
      "------------------------------------------------------------------------------------------\n",
      "| end of epoch 224 | train loss 1.259 | val loss 1.407 | train acc 0.784 | val acc 0.635\n",
      "------------------------------------------------------------------------------------------\n",
      "| end of epoch 225 | train loss 1.261 | val loss 1.407 | train acc 0.782 | val acc 0.634\n",
      "------------------------------------------------------------------------------------------\n",
      "| end of epoch 226 | train loss 1.258 | val loss 1.399 | train acc 0.785 | val acc 0.642\n",
      "------------------------------------------------------------------------------------------\n",
      "| end of epoch 227 | train loss 1.259 | val loss 1.442 | train acc 0.784 | val acc 0.601\n",
      "------------------------------------------------------------------------------------------\n",
      "| end of epoch 228 | train loss 1.272 | val loss 1.417 | train acc 0.772 | val acc 0.627\n",
      "------------------------------------------------------------------------------------------\n",
      "| end of epoch 229 | train loss 1.261 | val loss 1.398 | train acc 0.783 | val acc 0.645\n",
      "------------------------------------------------------------------------------------------\n",
      "| end of epoch 230 | train loss 1.255 | val loss 1.399 | train acc 0.788 | val acc 0.642\n",
      "------------------------------------------------------------------------------------------\n",
      "| end of epoch 231 | train loss 1.255 | val loss 1.396 | train acc 0.787 | val acc 0.645\n",
      "------------------------------------------------------------------------------------------\n",
      "| end of epoch 232 | train loss 1.255 | val loss 1.393 | train acc 0.788 | val acc 0.644\n",
      "------------------------------------------------------------------------------------------\n",
      "| end of epoch 233 | train loss 1.254 | val loss 1.393 | train acc 0.788 | val acc 0.644\n",
      "------------------------------------------------------------------------------------------\n",
      "| end of epoch 234 | train loss 1.258 | val loss 1.395 | train acc 0.784 | val acc 0.643\n",
      "------------------------------------------------------------------------------------------\n",
      "| end of epoch 235 | train loss 1.255 | val loss 1.400 | train acc 0.787 | val acc 0.639\n",
      "------------------------------------------------------------------------------------------\n",
      "| end of epoch 236 | train loss 1.256 | val loss 1.398 | train acc 0.786 | val acc 0.643\n",
      "------------------------------------------------------------------------------------------\n",
      "| end of epoch 237 | train loss 1.252 | val loss 1.396 | train acc 0.790 | val acc 0.643\n",
      "------------------------------------------------------------------------------------------\n",
      "| end of epoch 238 | train loss 1.253 | val loss 1.399 | train acc 0.789 | val acc 0.638\n",
      "------------------------------------------------------------------------------------------\n",
      "| end of epoch 239 | train loss 1.253 | val loss 1.396 | train acc 0.789 | val acc 0.642\n",
      "------------------------------------------------------------------------------------------\n",
      "| end of epoch 240 | train loss 1.257 | val loss 1.400 | train acc 0.785 | val acc 0.644\n",
      "------------------------------------------------------------------------------------------\n",
      "| end of epoch 241 | train loss 1.253 | val loss 1.392 | train acc 0.789 | val acc 0.648\n",
      "------------------------------------------------------------------------------------------\n",
      "| end of epoch 242 | train loss 1.250 | val loss 1.390 | train acc 0.792 | val acc 0.650\n",
      "------------------------------------------------------------------------------------------\n",
      "| end of epoch 243 | train loss 1.249 | val loss 1.391 | train acc 0.792 | val acc 0.650\n",
      "------------------------------------------------------------------------------------------\n",
      "| end of epoch 244 | train loss 1.249 | val loss 1.389 | train acc 0.793 | val acc 0.651\n",
      "------------------------------------------------------------------------------------------\n",
      "| end of epoch 245 | train loss 1.249 | val loss 1.388 | train acc 0.793 | val acc 0.649\n",
      "------------------------------------------------------------------------------------------\n",
      "| end of epoch 246 | train loss 1.249 | val loss 1.389 | train acc 0.792 | val acc 0.651\n",
      "------------------------------------------------------------------------------------------\n",
      "| end of epoch 247 | train loss 1.248 | val loss 1.392 | train acc 0.793 | val acc 0.645\n",
      "------------------------------------------------------------------------------------------\n",
      "| end of epoch 248 | train loss 1.248 | val loss 1.383 | train acc 0.793 | val acc 0.654\n",
      "------------------------------------------------------------------------------------------\n",
      "| end of epoch 249 | train loss 1.249 | val loss 1.388 | train acc 0.792 | val acc 0.652\n",
      "------------------------------------------------------------------------------------------\n",
      "| end of epoch 250 | train loss 1.253 | val loss 1.399 | train acc 0.789 | val acc 0.641\n",
      "------------------------------------------------------------------------------------------\n",
      "| end of epoch 251 | train loss 1.259 | val loss 1.393 | train acc 0.784 | val acc 0.648\n",
      "------------------------------------------------------------------------------------------\n",
      "| end of epoch 252 | train loss 1.253 | val loss 1.398 | train acc 0.789 | val acc 0.642\n",
      "------------------------------------------------------------------------------------------\n",
      "| end of epoch 253 | train loss 1.255 | val loss 1.416 | train acc 0.787 | val acc 0.627\n",
      "------------------------------------------------------------------------------------------\n",
      "| end of epoch 254 | train loss 1.264 | val loss 1.398 | train acc 0.778 | val acc 0.643\n",
      "------------------------------------------------------------------------------------------\n",
      "| end of epoch 255 | train loss 1.257 | val loss 1.395 | train acc 0.786 | val acc 0.646\n",
      "------------------------------------------------------------------------------------------\n",
      "| end of epoch 256 | train loss 1.259 | val loss 1.395 | train acc 0.784 | val acc 0.645\n",
      "------------------------------------------------------------------------------------------\n",
      "| end of epoch 257 | train loss 1.253 | val loss 1.393 | train acc 0.789 | val acc 0.650\n",
      "------------------------------------------------------------------------------------------\n",
      "| end of epoch 258 | train loss 1.251 | val loss 1.396 | train acc 0.791 | val acc 0.646\n",
      "------------------------------------------------------------------------------------------\n",
      "| end of epoch 259 | train loss 1.259 | val loss 1.396 | train acc 0.784 | val acc 0.646\n",
      "------------------------------------------------------------------------------------------\n",
      "| end of epoch 260 | train loss 1.254 | val loss 1.395 | train acc 0.790 | val acc 0.646\n",
      "------------------------------------------------------------------------------------------\n",
      "| end of epoch 261 | train loss 1.259 | val loss 1.393 | train acc 0.783 | val acc 0.647\n",
      "------------------------------------------------------------------------------------------\n",
      "| end of epoch 262 | train loss 1.255 | val loss 1.399 | train acc 0.788 | val acc 0.646\n",
      "------------------------------------------------------------------------------------------\n",
      "| end of epoch 263 | train loss 1.252 | val loss 1.397 | train acc 0.790 | val acc 0.646\n",
      "------------------------------------------------------------------------------------------\n",
      "| end of epoch 264 | train loss 1.251 | val loss 1.390 | train acc 0.791 | val acc 0.649\n",
      "------------------------------------------------------------------------------------------\n",
      "| end of epoch 265 | train loss 1.252 | val loss 1.392 | train acc 0.791 | val acc 0.651\n",
      "------------------------------------------------------------------------------------------\n",
      "| end of epoch 266 | train loss 1.251 | val loss 1.386 | train acc 0.791 | val acc 0.655\n",
      "------------------------------------------------------------------------------------------\n",
      "| end of epoch 267 | train loss 1.248 | val loss 1.392 | train acc 0.794 | val acc 0.646\n",
      "------------------------------------------------------------------------------------------\n",
      "| end of epoch 268 | train loss 1.249 | val loss 1.393 | train acc 0.794 | val acc 0.650\n",
      "------------------------------------------------------------------------------------------\n",
      "| end of epoch 269 | train loss 1.251 | val loss 1.395 | train acc 0.791 | val acc 0.646\n",
      "------------------------------------------------------------------------------------------\n",
      "| end of epoch 270 | train loss 1.252 | val loss 1.388 | train acc 0.791 | val acc 0.654\n",
      "------------------------------------------------------------------------------------------\n",
      "| end of epoch 271 | train loss 1.249 | val loss 1.388 | train acc 0.793 | val acc 0.650\n",
      "------------------------------------------------------------------------------------------\n",
      "| end of epoch 272 | train loss 1.247 | val loss 1.388 | train acc 0.795 | val acc 0.653\n",
      "------------------------------------------------------------------------------------------\n",
      "| end of epoch 273 | train loss 1.247 | val loss 1.387 | train acc 0.794 | val acc 0.651\n",
      "------------------------------------------------------------------------------------------\n",
      "| end of epoch 274 | train loss 1.247 | val loss 1.392 | train acc 0.794 | val acc 0.646\n",
      "------------------------------------------------------------------------------------------\n",
      "| end of epoch 275 | train loss 1.245 | val loss 1.394 | train acc 0.796 | val acc 0.644\n",
      "------------------------------------------------------------------------------------------\n",
      "| end of epoch 276 | train loss 1.246 | val loss 1.392 | train acc 0.795 | val acc 0.645\n",
      "------------------------------------------------------------------------------------------\n",
      "| end of epoch 277 | train loss 1.247 | val loss 1.389 | train acc 0.794 | val acc 0.649\n",
      "------------------------------------------------------------------------------------------\n",
      "| end of epoch 278 | train loss 1.246 | val loss 1.387 | train acc 0.795 | val acc 0.650\n",
      "------------------------------------------------------------------------------------------\n",
      "| end of epoch 279 | train loss 1.245 | val loss 1.389 | train acc 0.796 | val acc 0.650\n",
      "------------------------------------------------------------------------------------------\n",
      "| end of epoch 280 | train loss 1.244 | val loss 1.389 | train acc 0.797 | val acc 0.653\n",
      "------------------------------------------------------------------------------------------\n",
      "| end of epoch 281 | train loss 1.246 | val loss 1.388 | train acc 0.795 | val acc 0.650\n",
      "------------------------------------------------------------------------------------------\n",
      "| end of epoch 282 | train loss 1.245 | val loss 1.389 | train acc 0.796 | val acc 0.649\n",
      "------------------------------------------------------------------------------------------\n",
      "| end of epoch 283 | train loss 1.246 | val loss 1.389 | train acc 0.795 | val acc 0.653\n",
      "------------------------------------------------------------------------------------------\n",
      "| end of epoch 284 | train loss 1.248 | val loss 1.391 | train acc 0.795 | val acc 0.650\n",
      "------------------------------------------------------------------------------------------\n",
      "| end of epoch 285 | train loss 1.246 | val loss 1.394 | train acc 0.795 | val acc 0.644\n",
      "------------------------------------------------------------------------------------------\n",
      "| end of epoch 286 | train loss 1.250 | val loss 1.405 | train acc 0.792 | val acc 0.633\n",
      "------------------------------------------------------------------------------------------\n",
      "| end of epoch 287 | train loss 1.261 | val loss 1.405 | train acc 0.783 | val acc 0.633\n",
      "------------------------------------------------------------------------------------------\n",
      "| end of epoch 288 | train loss 1.257 | val loss 1.396 | train acc 0.785 | val acc 0.649\n",
      "------------------------------------------------------------------------------------------\n",
      "| end of epoch 289 | train loss 1.258 | val loss 1.398 | train acc 0.785 | val acc 0.644\n",
      "------------------------------------------------------------------------------------------\n",
      "| end of epoch 290 | train loss 1.266 | val loss 1.389 | train acc 0.777 | val acc 0.653\n",
      "------------------------------------------------------------------------------------------\n",
      "| end of epoch 291 | train loss 1.254 | val loss 1.393 | train acc 0.789 | val acc 0.645\n",
      "------------------------------------------------------------------------------------------\n",
      "| end of epoch 292 | train loss 1.251 | val loss 1.389 | train acc 0.792 | val acc 0.652\n",
      "------------------------------------------------------------------------------------------\n",
      "| end of epoch 293 | train loss 1.246 | val loss 1.392 | train acc 0.797 | val acc 0.648\n",
      "------------------------------------------------------------------------------------------\n",
      "| end of epoch 294 | train loss 1.246 | val loss 1.392 | train acc 0.796 | val acc 0.651\n",
      "------------------------------------------------------------------------------------------\n",
      "| end of epoch 295 | train loss 1.245 | val loss 1.388 | train acc 0.797 | val acc 0.653\n",
      "------------------------------------------------------------------------------------------\n",
      "| end of epoch 296 | train loss 1.244 | val loss 1.389 | train acc 0.798 | val acc 0.652\n",
      "------------------------------------------------------------------------------------------\n",
      "| end of epoch 297 | train loss 1.245 | val loss 1.386 | train acc 0.797 | val acc 0.654\n",
      "------------------------------------------------------------------------------------------\n",
      "| end of epoch 298 | train loss 1.248 | val loss 1.386 | train acc 0.794 | val acc 0.653\n",
      "------------------------------------------------------------------------------------------\n",
      "| end of epoch 299 | train loss 1.246 | val loss 1.387 | train acc 0.797 | val acc 0.654\n",
      "------------------------------------------------------------------------------------------\n",
      "| end of epoch 300 | train loss 1.245 | val loss 1.383 | train acc 0.797 | val acc 0.657\n",
      "------------------------------------------------------------------------------------------\n",
      "| end of epoch 301 | train loss 1.245 | val loss 1.386 | train acc 0.797 | val acc 0.651\n",
      "------------------------------------------------------------------------------------------\n",
      "| end of epoch 302 | train loss 1.243 | val loss 1.389 | train acc 0.799 | val acc 0.651\n",
      "------------------------------------------------------------------------------------------\n",
      "| end of epoch 303 | train loss 1.243 | val loss 1.383 | train acc 0.799 | val acc 0.658\n",
      "------------------------------------------------------------------------------------------\n",
      "| end of epoch 304 | train loss 1.242 | val loss 1.381 | train acc 0.800 | val acc 0.659\n",
      "------------------------------------------------------------------------------------------\n",
      "| end of epoch 305 | train loss 1.240 | val loss 1.382 | train acc 0.801 | val acc 0.658\n",
      "------------------------------------------------------------------------------------------\n",
      "| end of epoch 306 | train loss 1.239 | val loss 1.382 | train acc 0.802 | val acc 0.655\n",
      "------------------------------------------------------------------------------------------\n",
      "| end of epoch 307 | train loss 1.243 | val loss 1.387 | train acc 0.798 | val acc 0.656\n",
      "------------------------------------------------------------------------------------------\n",
      "| end of epoch 308 | train loss 1.248 | val loss 1.388 | train acc 0.794 | val acc 0.652\n",
      "------------------------------------------------------------------------------------------\n",
      "| end of epoch 309 | train loss 1.245 | val loss 1.382 | train acc 0.797 | val acc 0.658\n",
      "------------------------------------------------------------------------------------------\n",
      "| end of epoch 310 | train loss 1.244 | val loss 1.389 | train acc 0.798 | val acc 0.652\n",
      "------------------------------------------------------------------------------------------\n",
      "| end of epoch 311 | train loss 1.253 | val loss 1.384 | train acc 0.789 | val acc 0.658\n",
      "------------------------------------------------------------------------------------------\n",
      "| end of epoch 312 | train loss 1.248 | val loss 1.390 | train acc 0.794 | val acc 0.651\n",
      "------------------------------------------------------------------------------------------\n",
      "| end of epoch 313 | train loss 1.245 | val loss 1.379 | train acc 0.796 | val acc 0.661\n",
      "------------------------------------------------------------------------------------------\n",
      "| end of epoch 314 | train loss 1.243 | val loss 1.398 | train acc 0.799 | val acc 0.644\n",
      "------------------------------------------------------------------------------------------\n",
      "| end of epoch 315 | train loss 1.247 | val loss 1.385 | train acc 0.796 | val acc 0.655\n",
      "------------------------------------------------------------------------------------------\n",
      "| end of epoch 316 | train loss 1.241 | val loss 1.378 | train acc 0.801 | val acc 0.662\n",
      "------------------------------------------------------------------------------------------\n",
      "| end of epoch 317 | train loss 1.241 | val loss 1.379 | train acc 0.801 | val acc 0.663\n",
      "------------------------------------------------------------------------------------------\n",
      "| end of epoch 318 | train loss 1.242 | val loss 1.386 | train acc 0.801 | val acc 0.655\n",
      "------------------------------------------------------------------------------------------\n",
      "| end of epoch 319 | train loss 1.242 | val loss 1.381 | train acc 0.800 | val acc 0.658\n",
      "------------------------------------------------------------------------------------------\n",
      "| end of epoch 320 | train loss 1.242 | val loss 1.385 | train acc 0.802 | val acc 0.657\n",
      "------------------------------------------------------------------------------------------\n",
      "| end of epoch 321 | train loss 1.242 | val loss 1.386 | train acc 0.801 | val acc 0.652\n",
      "------------------------------------------------------------------------------------------\n",
      "| end of epoch 322 | train loss 1.244 | val loss 1.386 | train acc 0.798 | val acc 0.653\n",
      "------------------------------------------------------------------------------------------\n",
      "| end of epoch 323 | train loss 1.244 | val loss 1.386 | train acc 0.798 | val acc 0.654\n",
      "------------------------------------------------------------------------------------------\n",
      "| end of epoch 324 | train loss 1.245 | val loss 1.387 | train acc 0.797 | val acc 0.653\n",
      "------------------------------------------------------------------------------------------\n",
      "| end of epoch 325 | train loss 1.246 | val loss 1.394 | train acc 0.796 | val acc 0.647\n",
      "------------------------------------------------------------------------------------------\n",
      "| end of epoch 326 | train loss 1.247 | val loss 1.386 | train acc 0.796 | val acc 0.654\n",
      "------------------------------------------------------------------------------------------\n",
      "| end of epoch 327 | train loss 1.245 | val loss 1.394 | train acc 0.798 | val acc 0.648\n",
      "------------------------------------------------------------------------------------------\n",
      "| end of epoch 328 | train loss 1.243 | val loss 1.384 | train acc 0.800 | val acc 0.655\n",
      "------------------------------------------------------------------------------------------\n",
      "| end of epoch 329 | train loss 1.240 | val loss 1.389 | train acc 0.803 | val acc 0.651\n",
      "------------------------------------------------------------------------------------------\n",
      "| end of epoch 330 | train loss 1.242 | val loss 1.386 | train acc 0.800 | val acc 0.656\n",
      "------------------------------------------------------------------------------------------\n",
      "| end of epoch 331 | train loss 1.241 | val loss 1.382 | train acc 0.801 | val acc 0.660\n",
      "------------------------------------------------------------------------------------------\n",
      "| end of epoch 332 | train loss 1.239 | val loss 1.386 | train acc 0.803 | val acc 0.651\n",
      "------------------------------------------------------------------------------------------\n",
      "| end of epoch 333 | train loss 1.239 | val loss 1.385 | train acc 0.803 | val acc 0.654\n",
      "------------------------------------------------------------------------------------------\n",
      "| end of epoch 334 | train loss 1.242 | val loss 1.386 | train acc 0.801 | val acc 0.656\n",
      "------------------------------------------------------------------------------------------\n",
      "| end of epoch 335 | train loss 1.238 | val loss 1.382 | train acc 0.804 | val acc 0.659\n",
      "------------------------------------------------------------------------------------------\n",
      "| end of epoch 336 | train loss 1.237 | val loss 1.387 | train acc 0.805 | val acc 0.657\n",
      "------------------------------------------------------------------------------------------\n",
      "| end of epoch 337 | train loss 1.240 | val loss 1.383 | train acc 0.802 | val acc 0.659\n",
      "------------------------------------------------------------------------------------------\n",
      "| end of epoch 338 | train loss 1.244 | val loss 1.389 | train acc 0.799 | val acc 0.653\n",
      "------------------------------------------------------------------------------------------\n",
      "| end of epoch 339 | train loss 1.240 | val loss 1.388 | train acc 0.803 | val acc 0.654\n",
      "------------------------------------------------------------------------------------------\n",
      "| end of epoch 340 | train loss 1.237 | val loss 1.389 | train acc 0.805 | val acc 0.651\n",
      "------------------------------------------------------------------------------------------\n",
      "| end of epoch 341 | train loss 1.244 | val loss 1.391 | train acc 0.798 | val acc 0.650\n",
      "------------------------------------------------------------------------------------------\n",
      "| end of epoch 342 | train loss 1.244 | val loss 1.386 | train acc 0.798 | val acc 0.659\n",
      "------------------------------------------------------------------------------------------\n",
      "| end of epoch 343 | train loss 1.243 | val loss 1.390 | train acc 0.799 | val acc 0.653\n",
      "------------------------------------------------------------------------------------------\n",
      "| end of epoch 344 | train loss 1.243 | val loss 1.389 | train acc 0.800 | val acc 0.653\n",
      "------------------------------------------------------------------------------------------\n",
      "| end of epoch 345 | train loss 1.247 | val loss 1.387 | train acc 0.796 | val acc 0.656\n",
      "------------------------------------------------------------------------------------------\n",
      "| end of epoch 346 | train loss 1.241 | val loss 1.391 | train acc 0.803 | val acc 0.649\n",
      "------------------------------------------------------------------------------------------\n",
      "| end of epoch 347 | train loss 1.237 | val loss 1.379 | train acc 0.806 | val acc 0.662\n",
      "------------------------------------------------------------------------------------------\n",
      "| end of epoch 348 | train loss 1.237 | val loss 1.380 | train acc 0.805 | val acc 0.661\n",
      "------------------------------------------------------------------------------------------\n",
      "| end of epoch 349 | train loss 1.236 | val loss 1.382 | train acc 0.807 | val acc 0.662\n",
      "------------------------------------------------------------------------------------------\n",
      "| end of epoch 350 | train loss 1.239 | val loss 1.380 | train acc 0.803 | val acc 0.659\n",
      "------------------------------------------------------------------------------------------\n",
      "| end of epoch 351 | train loss 1.236 | val loss 1.381 | train acc 0.806 | val acc 0.663\n",
      "------------------------------------------------------------------------------------------\n",
      "| end of epoch 352 | train loss 1.242 | val loss 1.387 | train acc 0.801 | val acc 0.653\n",
      "------------------------------------------------------------------------------------------\n",
      "| end of epoch 353 | train loss 1.239 | val loss 1.402 | train acc 0.804 | val acc 0.641\n",
      "------------------------------------------------------------------------------------------\n",
      "| end of epoch 354 | train loss 1.245 | val loss 1.390 | train acc 0.798 | val acc 0.651\n",
      "------------------------------------------------------------------------------------------\n",
      "| end of epoch 355 | train loss 1.244 | val loss 1.392 | train acc 0.800 | val acc 0.646\n",
      "------------------------------------------------------------------------------------------\n",
      "| end of epoch 356 | train loss 1.243 | val loss 1.394 | train acc 0.800 | val acc 0.648\n",
      "------------------------------------------------------------------------------------------\n",
      "| end of epoch 357 | train loss 1.241 | val loss 1.393 | train acc 0.802 | val acc 0.648\n",
      "------------------------------------------------------------------------------------------\n",
      "| end of epoch 358 | train loss 1.237 | val loss 1.396 | train acc 0.806 | val acc 0.644\n",
      "------------------------------------------------------------------------------------------\n",
      "| end of epoch 359 | train loss 1.237 | val loss 1.389 | train acc 0.805 | val acc 0.653\n",
      "------------------------------------------------------------------------------------------\n",
      "| end of epoch 360 | train loss 1.235 | val loss 1.388 | train acc 0.807 | val acc 0.653\n",
      "------------------------------------------------------------------------------------------\n",
      "| end of epoch 361 | train loss 1.235 | val loss 1.385 | train acc 0.807 | val acc 0.656\n",
      "------------------------------------------------------------------------------------------\n",
      "| end of epoch 362 | train loss 1.236 | val loss 1.386 | train acc 0.806 | val acc 0.656\n",
      "------------------------------------------------------------------------------------------\n",
      "| end of epoch 363 | train loss 1.235 | val loss 1.385 | train acc 0.807 | val acc 0.654\n",
      "------------------------------------------------------------------------------------------\n",
      "| end of epoch 364 | train loss 1.232 | val loss 1.386 | train acc 0.809 | val acc 0.653\n",
      "------------------------------------------------------------------------------------------\n",
      "| end of epoch 365 | train loss 1.235 | val loss 1.382 | train acc 0.807 | val acc 0.657\n",
      "------------------------------------------------------------------------------------------\n",
      "| end of epoch 366 | train loss 1.235 | val loss 1.381 | train acc 0.806 | val acc 0.660\n",
      "------------------------------------------------------------------------------------------\n",
      "| end of epoch 367 | train loss 1.238 | val loss 1.397 | train acc 0.803 | val acc 0.646\n",
      "------------------------------------------------------------------------------------------\n",
      "| end of epoch 368 | train loss 1.244 | val loss 1.392 | train acc 0.798 | val acc 0.648\n",
      "------------------------------------------------------------------------------------------\n",
      "| end of epoch 369 | train loss 1.241 | val loss 1.395 | train acc 0.801 | val acc 0.646\n",
      "------------------------------------------------------------------------------------------\n",
      "| end of epoch 370 | train loss 1.239 | val loss 1.382 | train acc 0.803 | val acc 0.660\n",
      "------------------------------------------------------------------------------------------\n",
      "| end of epoch 371 | train loss 1.240 | val loss 1.385 | train acc 0.802 | val acc 0.657\n",
      "------------------------------------------------------------------------------------------\n",
      "| end of epoch 372 | train loss 1.241 | val loss 1.389 | train acc 0.802 | val acc 0.654\n",
      "------------------------------------------------------------------------------------------\n",
      "| end of epoch 373 | train loss 1.238 | val loss 1.381 | train acc 0.805 | val acc 0.658\n",
      "------------------------------------------------------------------------------------------\n",
      "| end of epoch 374 | train loss 1.237 | val loss 1.384 | train acc 0.807 | val acc 0.654\n",
      "------------------------------------------------------------------------------------------\n",
      "| end of epoch 375 | train loss 1.234 | val loss 1.389 | train acc 0.807 | val acc 0.651\n",
      "------------------------------------------------------------------------------------------\n",
      "| end of epoch 376 | train loss 1.242 | val loss 1.386 | train acc 0.800 | val acc 0.655\n",
      "------------------------------------------------------------------------------------------\n",
      "| end of epoch 377 | train loss 1.235 | val loss 1.382 | train acc 0.807 | val acc 0.657\n",
      "------------------------------------------------------------------------------------------\n",
      "| end of epoch 378 | train loss 1.234 | val loss 1.383 | train acc 0.808 | val acc 0.655\n",
      "------------------------------------------------------------------------------------------\n",
      "| end of epoch 379 | train loss 1.233 | val loss 1.382 | train acc 0.809 | val acc 0.659\n",
      "------------------------------------------------------------------------------------------\n",
      "| end of epoch 380 | train loss 1.233 | val loss 1.381 | train acc 0.808 | val acc 0.660\n",
      "------------------------------------------------------------------------------------------\n",
      "| end of epoch 381 | train loss 1.231 | val loss 1.377 | train acc 0.811 | val acc 0.663\n",
      "------------------------------------------------------------------------------------------\n",
      "| end of epoch 382 | train loss 1.233 | val loss 1.382 | train acc 0.809 | val acc 0.659\n",
      "------------------------------------------------------------------------------------------\n",
      "| end of epoch 383 | train loss 1.230 | val loss 1.377 | train acc 0.812 | val acc 0.663\n",
      "------------------------------------------------------------------------------------------\n",
      "| end of epoch 384 | train loss 1.232 | val loss 1.380 | train acc 0.811 | val acc 0.663\n",
      "------------------------------------------------------------------------------------------\n",
      "| end of epoch 385 | train loss 1.232 | val loss 1.383 | train acc 0.810 | val acc 0.660\n",
      "------------------------------------------------------------------------------------------\n",
      "| end of epoch 386 | train loss 1.237 | val loss 1.385 | train acc 0.804 | val acc 0.655\n",
      "------------------------------------------------------------------------------------------\n",
      "| end of epoch 387 | train loss 1.244 | val loss 1.386 | train acc 0.799 | val acc 0.657\n",
      "------------------------------------------------------------------------------------------\n",
      "| end of epoch 388 | train loss 1.234 | val loss 1.382 | train acc 0.808 | val acc 0.657\n",
      "------------------------------------------------------------------------------------------\n",
      "| end of epoch 389 | train loss 1.236 | val loss 1.385 | train acc 0.805 | val acc 0.651\n",
      "------------------------------------------------------------------------------------------\n",
      "| end of epoch 390 | train loss 1.230 | val loss 1.384 | train acc 0.812 | val acc 0.657\n",
      "------------------------------------------------------------------------------------------\n",
      "| end of epoch 391 | train loss 1.229 | val loss 1.384 | train acc 0.813 | val acc 0.653\n",
      "------------------------------------------------------------------------------------------\n",
      "| end of epoch 392 | train loss 1.230 | val loss 1.385 | train acc 0.812 | val acc 0.655\n",
      "------------------------------------------------------------------------------------------\n",
      "| end of epoch 393 | train loss 1.230 | val loss 1.383 | train acc 0.813 | val acc 0.658\n",
      "------------------------------------------------------------------------------------------\n",
      "| end of epoch 394 | train loss 1.229 | val loss 1.378 | train acc 0.813 | val acc 0.662\n",
      "------------------------------------------------------------------------------------------\n",
      "| end of epoch 395 | train loss 1.229 | val loss 1.381 | train acc 0.813 | val acc 0.660\n",
      "------------------------------------------------------------------------------------------\n",
      "| end of epoch 396 | train loss 1.237 | val loss 1.387 | train acc 0.806 | val acc 0.649\n",
      "------------------------------------------------------------------------------------------\n",
      "| end of epoch 397 | train loss 1.234 | val loss 1.383 | train acc 0.808 | val acc 0.657\n",
      "------------------------------------------------------------------------------------------\n",
      "| end of epoch 398 | train loss 1.236 | val loss 1.383 | train acc 0.807 | val acc 0.658\n",
      "------------------------------------------------------------------------------------------\n",
      "| end of epoch 399 | train loss 1.234 | val loss 1.378 | train acc 0.808 | val acc 0.662\n",
      "------------------------------------------------------------------------------------------\n",
      "| end of epoch 400 | train loss 1.232 | val loss 1.390 | train acc 0.810 | val acc 0.652\n",
      "------------------------------------------------------------------------------------------\n",
      "| end of epoch 401 | train loss 1.235 | val loss 1.383 | train acc 0.808 | val acc 0.659\n",
      "------------------------------------------------------------------------------------------\n",
      "| end of epoch 402 | train loss 1.229 | val loss 1.380 | train acc 0.813 | val acc 0.658\n",
      "------------------------------------------------------------------------------------------\n",
      "| end of epoch 403 | train loss 1.226 | val loss 1.376 | train acc 0.816 | val acc 0.660\n",
      "------------------------------------------------------------------------------------------\n",
      "| end of epoch 404 | train loss 1.227 | val loss 1.379 | train acc 0.814 | val acc 0.664\n",
      "------------------------------------------------------------------------------------------\n",
      "| end of epoch 405 | train loss 1.233 | val loss 1.388 | train acc 0.809 | val acc 0.651\n",
      "------------------------------------------------------------------------------------------\n",
      "| end of epoch 406 | train loss 1.234 | val loss 1.384 | train acc 0.808 | val acc 0.654\n",
      "------------------------------------------------------------------------------------------\n",
      "| end of epoch 407 | train loss 1.235 | val loss 1.389 | train acc 0.808 | val acc 0.651\n",
      "------------------------------------------------------------------------------------------\n",
      "| end of epoch 408 | train loss 1.233 | val loss 1.385 | train acc 0.810 | val acc 0.658\n",
      "------------------------------------------------------------------------------------------\n",
      "| end of epoch 409 | train loss 1.231 | val loss 1.389 | train acc 0.811 | val acc 0.651\n",
      "------------------------------------------------------------------------------------------\n",
      "| end of epoch 410 | train loss 1.230 | val loss 1.380 | train acc 0.813 | val acc 0.658\n",
      "------------------------------------------------------------------------------------------\n",
      "| end of epoch 411 | train loss 1.229 | val loss 1.378 | train acc 0.814 | val acc 0.663\n",
      "------------------------------------------------------------------------------------------\n",
      "| end of epoch 412 | train loss 1.230 | val loss 1.387 | train acc 0.813 | val acc 0.652\n",
      "------------------------------------------------------------------------------------------\n",
      "| end of epoch 413 | train loss 1.235 | val loss 1.384 | train acc 0.808 | val acc 0.656\n",
      "------------------------------------------------------------------------------------------\n",
      "| end of epoch 414 | train loss 1.231 | val loss 1.382 | train acc 0.812 | val acc 0.657\n",
      "------------------------------------------------------------------------------------------\n",
      "| end of epoch 415 | train loss 1.229 | val loss 1.380 | train acc 0.813 | val acc 0.662\n",
      "------------------------------------------------------------------------------------------\n",
      "| end of epoch 416 | train loss 1.229 | val loss 1.380 | train acc 0.814 | val acc 0.660\n",
      "------------------------------------------------------------------------------------------\n",
      "| end of epoch 417 | train loss 1.224 | val loss 1.376 | train acc 0.818 | val acc 0.662\n",
      "------------------------------------------------------------------------------------------\n",
      "| end of epoch 418 | train loss 1.226 | val loss 1.380 | train acc 0.817 | val acc 0.663\n",
      "------------------------------------------------------------------------------------------\n",
      "| end of epoch 419 | train loss 1.243 | val loss 1.384 | train acc 0.799 | val acc 0.658\n",
      "------------------------------------------------------------------------------------------\n",
      "| end of epoch 420 | train loss 1.235 | val loss 1.385 | train acc 0.808 | val acc 0.657\n",
      "------------------------------------------------------------------------------------------\n",
      "| end of epoch 421 | train loss 1.234 | val loss 1.380 | train acc 0.809 | val acc 0.659\n",
      "------------------------------------------------------------------------------------------\n",
      "| end of epoch 422 | train loss 1.235 | val loss 1.379 | train acc 0.807 | val acc 0.663\n",
      "------------------------------------------------------------------------------------------\n",
      "| end of epoch 423 | train loss 1.233 | val loss 1.381 | train acc 0.809 | val acc 0.662\n",
      "------------------------------------------------------------------------------------------\n",
      "| end of epoch 424 | train loss 1.230 | val loss 1.376 | train acc 0.812 | val acc 0.660\n",
      "------------------------------------------------------------------------------------------\n",
      "| end of epoch 425 | train loss 1.226 | val loss 1.379 | train acc 0.816 | val acc 0.662\n",
      "------------------------------------------------------------------------------------------\n",
      "| end of epoch 426 | train loss 1.225 | val loss 1.370 | train acc 0.816 | val acc 0.668\n",
      "------------------------------------------------------------------------------------------\n",
      "| end of epoch 427 | train loss 1.223 | val loss 1.368 | train acc 0.819 | val acc 0.673\n",
      "------------------------------------------------------------------------------------------\n",
      "| end of epoch 428 | train loss 1.224 | val loss 1.369 | train acc 0.818 | val acc 0.671\n",
      "------------------------------------------------------------------------------------------\n",
      "| end of epoch 429 | train loss 1.226 | val loss 1.369 | train acc 0.816 | val acc 0.671\n",
      "------------------------------------------------------------------------------------------\n",
      "| end of epoch 430 | train loss 1.226 | val loss 1.373 | train acc 0.817 | val acc 0.671\n",
      "------------------------------------------------------------------------------------------\n",
      "| end of epoch 431 | train loss 1.236 | val loss 1.385 | train acc 0.806 | val acc 0.654\n",
      "------------------------------------------------------------------------------------------\n",
      "| end of epoch 432 | train loss 1.232 | val loss 1.381 | train acc 0.811 | val acc 0.656\n",
      "------------------------------------------------------------------------------------------\n",
      "| end of epoch 433 | train loss 1.229 | val loss 1.370 | train acc 0.814 | val acc 0.672\n",
      "------------------------------------------------------------------------------------------\n",
      "| end of epoch 434 | train loss 1.232 | val loss 1.376 | train acc 0.812 | val acc 0.666\n",
      "------------------------------------------------------------------------------------------\n",
      "| end of epoch 435 | train loss 1.228 | val loss 1.380 | train acc 0.814 | val acc 0.666\n",
      "------------------------------------------------------------------------------------------\n",
      "| end of epoch 436 | train loss 1.224 | val loss 1.379 | train acc 0.820 | val acc 0.663\n",
      "------------------------------------------------------------------------------------------\n",
      "| end of epoch 437 | train loss 1.229 | val loss 1.366 | train acc 0.814 | val acc 0.679\n",
      "------------------------------------------------------------------------------------------\n",
      "| end of epoch 438 | train loss 1.224 | val loss 1.376 | train acc 0.819 | val acc 0.668\n",
      "------------------------------------------------------------------------------------------\n",
      "| end of epoch 439 | train loss 1.229 | val loss 1.376 | train acc 0.814 | val acc 0.664\n",
      "------------------------------------------------------------------------------------------\n",
      "| end of epoch 440 | train loss 1.227 | val loss 1.371 | train acc 0.817 | val acc 0.669\n",
      "------------------------------------------------------------------------------------------\n",
      "| end of epoch 441 | train loss 1.230 | val loss 1.370 | train acc 0.813 | val acc 0.671\n",
      "------------------------------------------------------------------------------------------\n",
      "| end of epoch 442 | train loss 1.235 | val loss 1.373 | train acc 0.807 | val acc 0.666\n",
      "------------------------------------------------------------------------------------------\n",
      "| end of epoch 443 | train loss 1.228 | val loss 1.379 | train acc 0.815 | val acc 0.659\n",
      "------------------------------------------------------------------------------------------\n",
      "| end of epoch 444 | train loss 1.228 | val loss 1.372 | train acc 0.815 | val acc 0.669\n",
      "------------------------------------------------------------------------------------------\n",
      "| end of epoch 445 | train loss 1.225 | val loss 1.371 | train acc 0.817 | val acc 0.670\n",
      "------------------------------------------------------------------------------------------\n",
      "| end of epoch 446 | train loss 1.224 | val loss 1.375 | train acc 0.819 | val acc 0.666\n",
      "------------------------------------------------------------------------------------------\n",
      "| end of epoch 447 | train loss 1.225 | val loss 1.376 | train acc 0.818 | val acc 0.664\n",
      "------------------------------------------------------------------------------------------\n",
      "| end of epoch 448 | train loss 1.225 | val loss 1.373 | train acc 0.818 | val acc 0.668\n",
      "------------------------------------------------------------------------------------------\n",
      "| end of epoch 449 | train loss 1.223 | val loss 1.367 | train acc 0.820 | val acc 0.675\n",
      "------------------------------------------------------------------------------------------\n",
      "| end of epoch 450 | train loss 1.225 | val loss 1.374 | train acc 0.818 | val acc 0.664\n",
      "------------------------------------------------------------------------------------------\n",
      "| end of epoch 451 | train loss 1.222 | val loss 1.369 | train acc 0.821 | val acc 0.673\n",
      "------------------------------------------------------------------------------------------\n",
      "| end of epoch 452 | train loss 1.223 | val loss 1.369 | train acc 0.820 | val acc 0.673\n",
      "------------------------------------------------------------------------------------------\n",
      "| end of epoch 453 | train loss 1.223 | val loss 1.367 | train acc 0.820 | val acc 0.673\n",
      "------------------------------------------------------------------------------------------\n",
      "| end of epoch 454 | train loss 1.224 | val loss 1.383 | train acc 0.819 | val acc 0.661\n",
      "------------------------------------------------------------------------------------------\n",
      "| end of epoch 455 | train loss 1.225 | val loss 1.365 | train acc 0.818 | val acc 0.675\n",
      "------------------------------------------------------------------------------------------\n",
      "| end of epoch 456 | train loss 1.220 | val loss 1.367 | train acc 0.824 | val acc 0.675\n",
      "------------------------------------------------------------------------------------------\n",
      "| end of epoch 457 | train loss 1.220 | val loss 1.369 | train acc 0.823 | val acc 0.673\n",
      "------------------------------------------------------------------------------------------\n",
      "| end of epoch 458 | train loss 1.220 | val loss 1.370 | train acc 0.824 | val acc 0.673\n",
      "------------------------------------------------------------------------------------------\n",
      "| end of epoch 459 | train loss 1.223 | val loss 1.372 | train acc 0.820 | val acc 0.671\n",
      "------------------------------------------------------------------------------------------\n",
      "| end of epoch 460 | train loss 1.224 | val loss 1.367 | train acc 0.820 | val acc 0.674\n",
      "------------------------------------------------------------------------------------------\n",
      "| end of epoch 461 | train loss 1.221 | val loss 1.361 | train acc 0.822 | val acc 0.681\n",
      "------------------------------------------------------------------------------------------\n",
      "| end of epoch 462 | train loss 1.228 | val loss 1.376 | train acc 0.816 | val acc 0.663\n",
      "------------------------------------------------------------------------------------------\n",
      "| end of epoch 463 | train loss 1.236 | val loss 1.374 | train acc 0.808 | val acc 0.669\n",
      "------------------------------------------------------------------------------------------\n",
      "| end of epoch 464 | train loss 1.223 | val loss 1.372 | train acc 0.821 | val acc 0.671\n",
      "------------------------------------------------------------------------------------------\n",
      "| end of epoch 465 | train loss 1.235 | val loss 1.376 | train acc 0.809 | val acc 0.667\n",
      "------------------------------------------------------------------------------------------\n",
      "| end of epoch 466 | train loss 1.229 | val loss 1.372 | train acc 0.815 | val acc 0.666\n",
      "------------------------------------------------------------------------------------------\n",
      "| end of epoch 467 | train loss 1.224 | val loss 1.370 | train acc 0.820 | val acc 0.672\n",
      "------------------------------------------------------------------------------------------\n",
      "| end of epoch 468 | train loss 1.224 | val loss 1.371 | train acc 0.819 | val acc 0.672\n",
      "------------------------------------------------------------------------------------------\n",
      "| end of epoch 469 | train loss 1.221 | val loss 1.368 | train acc 0.822 | val acc 0.676\n",
      "------------------------------------------------------------------------------------------\n",
      "| end of epoch 470 | train loss 1.220 | val loss 1.367 | train acc 0.823 | val acc 0.675\n",
      "------------------------------------------------------------------------------------------\n",
      "| end of epoch 471 | train loss 1.223 | val loss 1.377 | train acc 0.820 | val acc 0.667\n",
      "------------------------------------------------------------------------------------------\n",
      "| end of epoch 472 | train loss 1.221 | val loss 1.374 | train acc 0.822 | val acc 0.671\n",
      "------------------------------------------------------------------------------------------\n",
      "| end of epoch 473 | train loss 1.218 | val loss 1.370 | train acc 0.825 | val acc 0.672\n",
      "------------------------------------------------------------------------------------------\n",
      "| end of epoch 474 | train loss 1.217 | val loss 1.369 | train acc 0.826 | val acc 0.673\n",
      "------------------------------------------------------------------------------------------\n",
      "| end of epoch 475 | train loss 1.217 | val loss 1.366 | train acc 0.827 | val acc 0.677\n",
      "------------------------------------------------------------------------------------------\n",
      "| end of epoch 476 | train loss 1.228 | val loss 1.376 | train acc 0.815 | val acc 0.665\n",
      "------------------------------------------------------------------------------------------\n",
      "| end of epoch 477 | train loss 1.231 | val loss 1.388 | train acc 0.813 | val acc 0.656\n",
      "------------------------------------------------------------------------------------------\n",
      "| end of epoch 478 | train loss 1.229 | val loss 1.368 | train acc 0.815 | val acc 0.673\n",
      "------------------------------------------------------------------------------------------\n",
      "| end of epoch 479 | train loss 1.225 | val loss 1.368 | train acc 0.818 | val acc 0.676\n",
      "------------------------------------------------------------------------------------------\n",
      "| end of epoch 480 | train loss 1.220 | val loss 1.363 | train acc 0.824 | val acc 0.682\n",
      "------------------------------------------------------------------------------------------\n",
      "| end of epoch 481 | train loss 1.218 | val loss 1.361 | train acc 0.826 | val acc 0.684\n",
      "------------------------------------------------------------------------------------------\n",
      "| end of epoch 482 | train loss 1.215 | val loss 1.365 | train acc 0.828 | val acc 0.676\n",
      "------------------------------------------------------------------------------------------\n",
      "| end of epoch 483 | train loss 1.215 | val loss 1.387 | train acc 0.828 | val acc 0.654\n",
      "------------------------------------------------------------------------------------------\n",
      "| end of epoch 484 | train loss 1.231 | val loss 1.376 | train acc 0.813 | val acc 0.666\n",
      "------------------------------------------------------------------------------------------\n",
      "| end of epoch 485 | train loss 1.229 | val loss 1.385 | train acc 0.815 | val acc 0.658\n",
      "------------------------------------------------------------------------------------------\n",
      "| end of epoch 486 | train loss 1.223 | val loss 1.370 | train acc 0.820 | val acc 0.676\n",
      "------------------------------------------------------------------------------------------\n",
      "| end of epoch 487 | train loss 1.220 | val loss 1.373 | train acc 0.823 | val acc 0.671\n",
      "------------------------------------------------------------------------------------------\n",
      "| end of epoch 488 | train loss 1.226 | val loss 1.365 | train acc 0.818 | val acc 0.675\n",
      "------------------------------------------------------------------------------------------\n",
      "| end of epoch 489 | train loss 1.218 | val loss 1.372 | train acc 0.826 | val acc 0.672\n",
      "------------------------------------------------------------------------------------------\n",
      "| end of epoch 490 | train loss 1.221 | val loss 1.386 | train acc 0.823 | val acc 0.658\n",
      "------------------------------------------------------------------------------------------\n",
      "| end of epoch 491 | train loss 1.219 | val loss 1.371 | train acc 0.824 | val acc 0.671\n",
      "------------------------------------------------------------------------------------------\n",
      "| end of epoch 492 | train loss 1.216 | val loss 1.367 | train acc 0.828 | val acc 0.676\n",
      "------------------------------------------------------------------------------------------\n",
      "| end of epoch 493 | train loss 1.213 | val loss 1.359 | train acc 0.831 | val acc 0.683\n",
      "------------------------------------------------------------------------------------------\n",
      "| end of epoch 494 | train loss 1.211 | val loss 1.360 | train acc 0.832 | val acc 0.680\n",
      "------------------------------------------------------------------------------------------\n",
      "| end of epoch 495 | train loss 1.210 | val loss 1.365 | train acc 0.833 | val acc 0.679\n",
      "------------------------------------------------------------------------------------------\n",
      "| end of epoch 496 | train loss 1.241 | val loss 1.371 | train acc 0.803 | val acc 0.671\n",
      "------------------------------------------------------------------------------------------\n",
      "| end of epoch 497 | train loss 1.226 | val loss 1.385 | train acc 0.818 | val acc 0.657\n",
      "------------------------------------------------------------------------------------------\n",
      "| end of epoch 498 | train loss 1.231 | val loss 1.378 | train acc 0.812 | val acc 0.664\n",
      "------------------------------------------------------------------------------------------\n",
      "| end of epoch 499 | train loss 1.226 | val loss 1.378 | train acc 0.817 | val acc 0.664\n",
      "------------------------------------------------------------------------------------------\n",
      "| end of epoch 500 | train loss 1.223 | val loss 1.377 | train acc 0.821 | val acc 0.666\n",
      "------------------------------------------------------------------------------------------\n"
     ]
    }
   ]
  },
  {
   "cell_type": "code",
   "source": [
    "torch.save(model, \"/content/gdrive/MyDrive/Homeworks/NLP/Project/Phase2/Models/simple_model.pt\")"
   ],
   "metadata": {
    "id": "xQkOclxYZFUS",
    "pycharm": {
     "name": "#%%\n"
    }
   },
   "execution_count": 83,
   "outputs": []
  },
  {
   "cell_type": "markdown",
   "source": [
    "# Results"
   ],
   "metadata": {
    "id": "c8QrEaBPEN58",
    "pycharm": {
     "name": "#%% md\n"
    }
   }
  },
  {
   "cell_type": "code",
   "source": [
    "plt.plot(all_tr_loss, label='Train')\n",
    "plt.plot(all_val_loss, label='Validation')\n",
    "plt.title('Loss')\n",
    "plt.xlabel('Epochs')\n",
    "plt.ylabel('Loss')\n",
    "plt.legend()\n",
    "plt.show()"
   ],
   "metadata": {
    "colab": {
     "base_uri": "https://localhost:8080/",
     "height": 295
    },
    "id": "3mDkfzbfLH5w",
    "outputId": "e48c424c-647e-45e2-9230-1b83eaead032",
    "pycharm": {
     "name": "#%%\n"
    }
   },
   "execution_count": 84,
   "outputs": [
    {
     "output_type": "display_data",
     "data": {
      "text/plain": [
       "<Figure size 432x288 with 1 Axes>"
      ],
      "image/png": "[encoded data removed]"
     },
     "metadata": {
      "needs_background": "light"
     }
    }
   ]
  },
  {
   "cell_type": "code",
   "source": [
    "plt.plot(all_tr_acc, label='Train')\n",
    "plt.plot(all_val_acc, label='Validation')\n",
    "plt.title('Accuracy')\n",
    "plt.xlabel('Epochs')\n",
    "plt.ylabel('Accuracy')\n",
    "plt.legend()\n",
    "plt.show()"
   ],
   "metadata": {
    "colab": {
     "base_uri": "https://localhost:8080/",
     "height": 295
    },
    "id": "nZruS97uLnSL",
    "outputId": "ec4fb849-f5c8-4ae4-d554-d24829e0f3ff",
    "pycharm": {
     "name": "#%%\n"
    }
   },
   "execution_count": 85,
   "outputs": [
    {
     "output_type": "display_data",
     "data": {
      "text/plain": [
       "<Figure size 432x288 with 1 Axes>"
      ],
      "image/png": "[encoded data removed]"
     },
     "metadata": {
      "needs_background": "light"
     }
    }
   ]
  },
  {
   "cell_type": "code",
   "source": [
    "def get_reports(y_true, y_pred, mode, labels=labels):\n",
    "    cr = classification_report(y_true, y_pred, target_names=labels)\n",
    "    cm = confusion_matrix(y_true, y_pred)\n",
    "\n",
    "    print(f'\\nClassification Report {mode}')\n",
    "    print(cr)\n",
    "\n",
    "    print(f'Confusion Matrix {mode}')\n",
    "    print(cm)\n",
    "\n",
    "    plt.figure(figsize=(8,8))\n",
    "    plt.imshow(cm, interpolation='nearest')\n",
    "    plt.colorbar()\n",
    "    tick_mark = np.arange(len(labels))\n",
    "    _ = plt.xticks(tick_mark, labels, rotation=90)\n",
    "    _ = plt.yticks(tick_mark, labels)"
   ],
   "metadata": {
    "id": "PxosaRenQW0S",
    "pycharm": {
     "name": "#%%\n"
    }
   },
   "execution_count": 86,
   "outputs": []
  },
  {
   "cell_type": "code",
   "source": [
    "get_reports(tr_labels, tr_pred, mode=\"Train\", labels=labels)"
   ],
   "metadata": {
    "colab": {
     "base_uri": "https://localhost:8080/",
     "height": 860
    },
    "id": "z7Hl4QiYOAAG",
    "outputId": "06d7cdb2-16f5-4d04-efb1-9dd9180fa822",
    "pycharm": {
     "name": "#%%\n"
    }
   },
   "execution_count": 87,
   "outputs": [
    {
     "output_type": "stream",
     "name": "stdout",
     "text": [
      "\n",
      "Classification Report Train\n",
      "              precision    recall  f1-score   support\n",
      "\n",
      "    chandler       0.82      0.85      0.84      1273\n",
      "      monica       0.76      0.86      0.81      1113\n",
      "      rachel       0.84      0.82      0.83      1207\n",
      "      phoebe       0.84      0.81      0.83      1050\n",
      "        joey       0.83      0.82      0.82      1196\n",
      "        ross       0.84      0.77      0.80      1265\n",
      "\n",
      "    accuracy                           0.82      7104\n",
      "   macro avg       0.82      0.82      0.82      7104\n",
      "weighted avg       0.82      0.82      0.82      7104\n",
      "\n",
      "Confusion Matrix Train\n",
      "[[1087   54   39   25   36   32]\n",
      " [  36  957   29   22   47   22]\n",
      " [  41   64  986   32   40   44]\n",
      " [  33   64   39  852   29   33]\n",
      " [  53   63   23   28  981   48]\n",
      " [  77   56   59   52   51  970]]\n"
     ]
    },
    {
     "output_type": "display_data",
     "data": {
      "text/plain": [
       "<Figure size 576x576 with 2 Axes>"
      ],
      "image/png": "[encoded data removed]"
     },
     "metadata": {
      "needs_background": "light"
     }
    }
   ]
  },
  {
   "cell_type": "code",
   "source": [
    "get_reports(val_labels, val_pred, mode=\"Validation\", labels=labels)"
   ],
   "metadata": {
    "colab": {
     "base_uri": "https://localhost:8080/",
     "height": 860
    },
    "id": "zWVl5dGnQZaG",
    "outputId": "f60b21f2-09cd-4f58-e038-4c62081b899e",
    "pycharm": {
     "name": "#%%\n"
    }
   },
   "execution_count": 88,
   "outputs": [
    {
     "output_type": "stream",
     "name": "stdout",
     "text": [
      "\n",
      "Classification Report Validation\n",
      "              precision    recall  f1-score   support\n",
      "\n",
      "    chandler       0.71      0.72      0.71       305\n",
      "      monica       0.56      0.71      0.63       269\n",
      "      rachel       0.73      0.62      0.67       315\n",
      "      phoebe       0.70      0.68      0.69       252\n",
      "        joey       0.63      0.67      0.65       342\n",
      "        ross       0.72      0.61      0.66       293\n",
      "\n",
      "    accuracy                           0.67      1776\n",
      "   macro avg       0.67      0.67      0.67      1776\n",
      "weighted avg       0.67      0.67      0.67      1776\n",
      "\n",
      "Confusion Matrix Validation\n",
      "[[220  25  20   6  17  17]\n",
      " [ 16 191  13  13  30   6]\n",
      " [ 18  35 194  13  40  15]\n",
      " [ 11  25  13 171  18  14]\n",
      " [ 25  43  11  17 228  18]\n",
      " [ 21  23  15  26  29 179]]\n"
     ]
    },
    {
     "output_type": "display_data",
     "data": {
      "text/plain": [
       "<Figure size 576x576 with 2 Axes>"
      ],
      "image/png": "[encoded data removed]"
     },
     "metadata": {
      "needs_background": "light"
     }
    }
   ]
  },
  {
   "cell_type": "code",
   "source": [
    "batch_data = next(iter(testing_loader))\n",
    "texts = batch_data[\"texts\"]\n",
    "texts_vec = batch_data[\"x\"]\n",
    "labels = batch_data[\"labels\"]\n",
    "\n",
    "preds = model(texts_vec)\n",
    "y_preds = preds.argmax(1)\n",
    "y_trues = labels.argmax(1)\n",
    "\n",
    "y_preds_label = le.inverse_transform(y_preds)\n",
    "y_trues_label = le.inverse_transform(y_trues)\n",
    "\n",
    "for text, y_pred, y_true in zip(texts, y_preds_label, y_trues_label):\n",
    "    print(text)\n",
    "    print(f\"P: {y_pred}\")\n",
    "    print(f\"T: {y_true}\")\n",
    "    print(\"-\" * 25)"
   ],
   "metadata": {
    "colab": {
     "base_uri": "https://localhost:8080/"
    },
    "id": "Kz3xKJA5QfTW",
    "outputId": "e44cf19e-0439-4b92-925e-0bdffe4c5205",
    "pycharm": {
     "name": "#%%\n"
    }
   },
   "execution_count": 89,
   "outputs": [
    {
     "output_type": "stream",
     "name": "stdout",
     "text": [
      "bill colleen\n",
      "P: chandler\n",
      "T: chandler\n",
      "-------------------------\n",
      "mhmm\n",
      "P: rachel\n",
      "T: monica\n",
      "-------------------------\n",
      "sure\n",
      "P: rachel\n",
      "T: rachel\n",
      "-------------------------\n",
      "pleasethese guyswe havent even moved yet picking china patterns mike seems gag littleand laughs nervously begin leave phoebe bolts back\n",
      "P: phoebe\n",
      "T: phoebe\n",
      "-------------------------\n",
      "dont sing sit pass judgments others\n",
      "P: monica\n",
      "T: monica\n",
      "-------------------------\n",
      "whats matter\n",
      "P: joey\n",
      "T: rachel\n",
      "-------------------------\n",
      "look ross hes sandy sensitive thats\n",
      "P: rachel\n",
      "T: rachel\n",
      "-------------------------\n",
      "mikes\n",
      "P: phoebe\n",
      "T: phoebe\n",
      "-------------------------\n",
      "know mine\n",
      "P: monica\n",
      "T: monica\n",
      "-------------------------\n",
      "know dont mind male nanny draw line male wetnurse laugh even fake\n",
      "P: chandler\n",
      "T: chandler\n",
      "-------------------------\n",
      "weird think hes gross yet youre willing eat crackers mike desperately tries get rid crackers mouth uses hand clean tongue\n",
      "P: phoebe\n",
      "T: phoebe\n",
      "-------------------------\n",
      "going next argument\n",
      "P: phoebe\n",
      "T: ross\n",
      "-------------------------\n",
      "much thinking\n",
      "P: monica\n",
      "T: monica\n",
      "-------------------------\n",
      "good news quickly wringing hands course good news said deadpan doctor connelly called good news would said excitedly doctor connelly called problem problem\n",
      "P: monica\n",
      "T: monica\n",
      "-------------------------\n",
      "yeah\n",
      "P: joey\n",
      "T: rachel\n",
      "-------------------------\n",
      "hes smart hes qualified give one good reason shouldnt try\n",
      "P: rachel\n",
      "T: rachel\n",
      "-------------------------\n",
      "cause good money doesnt change fact evil blood sucking corporate machine\n",
      "P: monica\n",
      "T: phoebe\n",
      "-------------------------\n",
      "really sure\n",
      "P: chandler\n",
      "T: chandler\n",
      "-------------------------\n",
      "come ben\n",
      "P: rachel\n",
      "T: monica\n",
      "-------------------------\n",
      "gon stop right glenda okay look like first time huh want twos want back\n",
      "P: rachel\n",
      "T: ross\n",
      "-------------------------\n",
      "yeah want tickets takes bowl rachel buying knicks steffi graff\n",
      "P: joey\n",
      "T: joey\n",
      "-------------------------\n",
      "yeah know need hugsy dont worry emma totally understand wont whatever leaves room\n",
      "P: rachel\n",
      "T: rachel\n",
      "-------------------------\n",
      "coming bedroom say goodbye elves tulsa\n",
      "P: chandler\n",
      "T: chandler\n",
      "-------------------------\n",
      "ooh yeah going anywhere\n",
      "P: joey\n",
      "T: joey\n",
      "-------------------------\n",
      "monicathink washed hands\n",
      "P: ross\n",
      "T: ross\n",
      "-------------------------\n",
      "thanks\n",
      "P: chandler\n",
      "T: joey\n",
      "-------------------------\n",
      "still\n",
      "P: ross\n",
      "T: ross\n",
      "-------------------------\n",
      "woman cant know work shes friend mine made big stink awful massage chains\n",
      "P: phoebe\n",
      "T: phoebe\n",
      "-------------------------\n",
      "well depends\n",
      "P: chandler\n",
      "T: phoebe\n",
      "-------------------------\n",
      "still things\n",
      "P: monica\n",
      "T: monica\n",
      "-------------------------\n",
      "going next argument\n",
      "P: phoebe\n",
      "T: ross\n",
      "-------------------------\n",
      "original\n",
      "P: rachel\n",
      "T: rachel\n",
      "-------------------------\n"
     ]
    }
   ]
  },
  {
   "cell_type": "code",
   "source": [],
   "metadata": {
    "id": "2mnITwdXRwVG",
    "pycharm": {
     "name": "#%%\n"
    }
   },
   "execution_count": 89,
   "outputs": []
  }
 ]
}