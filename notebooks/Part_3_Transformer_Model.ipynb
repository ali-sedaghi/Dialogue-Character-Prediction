{
  "metadata": {
    "kernelspec": {
      "language": "python",
      "display_name": "Python 3",
      "name": "python3"
    },
    "language_info": {
      "name": "python",
      "version": "3.7.12",
      "mimetype": "text/x-python",
      "codemirror_mode": {
        "name": "ipython",
        "version": 3
      },
      "pygments_lexer": "ipython3",
      "nbconvert_exporter": "python",
      "file_extension": ".py"
    },
    "colab": {
      "name": "Part_3_Transformer_Model.ipynb",
      "provenance": [],
      "collapsed_sections": []
    },
    "gpuClass": "standard",
    "accelerator": "GPU",
    "widgets": {
      "application/vnd.jupyter.widget-state+json": {
        "cdc9783f824849bbbf8cd468f77d7379": {
          "model_module": "@jupyter-widgets/controls",
          "model_name": "HBoxModel",
          "model_module_version": "1.5.0",
          "state": {
            "_dom_classes": [],
            "_model_module": "@jupyter-widgets/controls",
            "_model_module_version": "1.5.0",
            "_model_name": "HBoxModel",
            "_view_count": null,
            "_view_module": "@jupyter-widgets/controls",
            "_view_module_version": "1.5.0",
            "_view_name": "HBoxView",
            "box_style": "",
            "children": [
              "IPY_MODEL_2aa256f0bdf24129980c4afa4e18e1e7",
              "IPY_MODEL_b5de1962d6de41efab030199f3facba9",
              "IPY_MODEL_bd128a30789c4f3897c305e1b86e5ff4"
            ],
            "layout": "IPY_MODEL_37f69f97e9bf43e0ae928bdf454a05ab"
          }
        },
        "2aa256f0bdf24129980c4afa4e18e1e7": {
          "model_module": "@jupyter-widgets/controls",
          "model_name": "HTMLModel",
          "model_module_version": "1.5.0",
          "state": {
            "_dom_classes": [],
            "_model_module": "@jupyter-widgets/controls",
            "_model_module_version": "1.5.0",
            "_model_name": "HTMLModel",
            "_view_count": null,
            "_view_module": "@jupyter-widgets/controls",
            "_view_module_version": "1.5.0",
            "_view_name": "HTMLView",
            "description": "",
            "description_tooltip": null,
            "layout": "IPY_MODEL_292a231ea5b640e488124f21cc54e1fa",
            "placeholder": "​",
            "style": "IPY_MODEL_dfc9a3eaf6df4d5d96cc4c00684f81da",
            "value": "Downloading: 100%"
          }
        },
        "b5de1962d6de41efab030199f3facba9": {
          "model_module": "@jupyter-widgets/controls",
          "model_name": "FloatProgressModel",
          "model_module_version": "1.5.0",
          "state": {
            "_dom_classes": [],
            "_model_module": "@jupyter-widgets/controls",
            "_model_module_version": "1.5.0",
            "_model_name": "FloatProgressModel",
            "_view_count": null,
            "_view_module": "@jupyter-widgets/controls",
            "_view_module_version": "1.5.0",
            "_view_name": "ProgressView",
            "bar_style": "success",
            "description": "",
            "description_tooltip": null,
            "layout": "IPY_MODEL_810f58480eaf48629eba396a5bbfc459",
            "max": 231508,
            "min": 0,
            "orientation": "horizontal",
            "style": "IPY_MODEL_0a6aacf73d1a4d5098f3bb71ae2b6fa6",
            "value": 231508
          }
        },
        "bd128a30789c4f3897c305e1b86e5ff4": {
          "model_module": "@jupyter-widgets/controls",
          "model_name": "HTMLModel",
          "model_module_version": "1.5.0",
          "state": {
            "_dom_classes": [],
            "_model_module": "@jupyter-widgets/controls",
            "_model_module_version": "1.5.0",
            "_model_name": "HTMLModel",
            "_view_count": null,
            "_view_module": "@jupyter-widgets/controls",
            "_view_module_version": "1.5.0",
            "_view_name": "HTMLView",
            "description": "",
            "description_tooltip": null,
            "layout": "IPY_MODEL_5a66a179a8eb45c987d4ecae29b2fd85",
            "placeholder": "​",
            "style": "IPY_MODEL_abf29782438841f881ae38dd121c1eec",
            "value": " 226k/226k [00:00&lt;00:00, 279kB/s]"
          }
        },
        "37f69f97e9bf43e0ae928bdf454a05ab": {
          "model_module": "@jupyter-widgets/base",
          "model_name": "LayoutModel",
          "model_module_version": "1.2.0",
          "state": {
            "_model_module": "@jupyter-widgets/base",
            "_model_module_version": "1.2.0",
            "_model_name": "LayoutModel",
            "_view_count": null,
            "_view_module": "@jupyter-widgets/base",
            "_view_module_version": "1.2.0",
            "_view_name": "LayoutView",
            "align_content": null,
            "align_items": null,
            "align_self": null,
            "border": null,
            "bottom": null,
            "display": null,
            "flex": null,
            "flex_flow": null,
            "grid_area": null,
            "grid_auto_columns": null,
            "grid_auto_flow": null,
            "grid_auto_rows": null,
            "grid_column": null,
            "grid_gap": null,
            "grid_row": null,
            "grid_template_areas": null,
            "grid_template_columns": null,
            "grid_template_rows": null,
            "height": null,
            "justify_content": null,
            "justify_items": null,
            "left": null,
            "margin": null,
            "max_height": null,
            "max_width": null,
            "min_height": null,
            "min_width": null,
            "object_fit": null,
            "object_position": null,
            "order": null,
            "overflow": null,
            "overflow_x": null,
            "overflow_y": null,
            "padding": null,
            "right": null,
            "top": null,
            "visibility": null,
            "width": null
          }
        },
        "292a231ea5b640e488124f21cc54e1fa": {
          "model_module": "@jupyter-widgets/base",
          "model_name": "LayoutModel",
          "model_module_version": "1.2.0",
          "state": {
            "_model_module": "@jupyter-widgets/base",
            "_model_module_version": "1.2.0",
            "_model_name": "LayoutModel",
            "_view_count": null,
            "_view_module": "@jupyter-widgets/base",
            "_view_module_version": "1.2.0",
            "_view_name": "LayoutView",
            "align_content": null,
            "align_items": null,
            "align_self": null,
            "border": null,
            "bottom": null,
            "display": null,
            "flex": null,
            "flex_flow": null,
            "grid_area": null,
            "grid_auto_columns": null,
            "grid_auto_flow": null,
            "grid_auto_rows": null,
            "grid_column": null,
            "grid_gap": null,
            "grid_row": null,
            "grid_template_areas": null,
            "grid_template_columns": null,
            "grid_template_rows": null,
            "height": null,
            "justify_content": null,
            "justify_items": null,
            "left": null,
            "margin": null,
            "max_height": null,
            "max_width": null,
            "min_height": null,
            "min_width": null,
            "object_fit": null,
            "object_position": null,
            "order": null,
            "overflow": null,
            "overflow_x": null,
            "overflow_y": null,
            "padding": null,
            "right": null,
            "top": null,
            "visibility": null,
            "width": null
          }
        },
        "dfc9a3eaf6df4d5d96cc4c00684f81da": {
          "model_module": "@jupyter-widgets/controls",
          "model_name": "DescriptionStyleModel",
          "model_module_version": "1.5.0",
          "state": {
            "_model_module": "@jupyter-widgets/controls",
            "_model_module_version": "1.5.0",
            "_model_name": "DescriptionStyleModel",
            "_view_count": null,
            "_view_module": "@jupyter-widgets/base",
            "_view_module_version": "1.2.0",
            "_view_name": "StyleView",
            "description_width": ""
          }
        },
        "810f58480eaf48629eba396a5bbfc459": {
          "model_module": "@jupyter-widgets/base",
          "model_name": "LayoutModel",
          "model_module_version": "1.2.0",
          "state": {
            "_model_module": "@jupyter-widgets/base",
            "_model_module_version": "1.2.0",
            "_model_name": "LayoutModel",
            "_view_count": null,
            "_view_module": "@jupyter-widgets/base",
            "_view_module_version": "1.2.0",
            "_view_name": "LayoutView",
            "align_content": null,
            "align_items": null,
            "align_self": null,
            "border": null,
            "bottom": null,
            "display": null,
            "flex": null,
            "flex_flow": null,
            "grid_area": null,
            "grid_auto_columns": null,
            "grid_auto_flow": null,
            "grid_auto_rows": null,
            "grid_column": null,
            "grid_gap": null,
            "grid_row": null,
            "grid_template_areas": null,
            "grid_template_columns": null,
            "grid_template_rows": null,
            "height": null,
            "justify_content": null,
            "justify_items": null,
            "left": null,
            "margin": null,
            "max_height": null,
            "max_width": null,
            "min_height": null,
            "min_width": null,
            "object_fit": null,
            "object_position": null,
            "order": null,
            "overflow": null,
            "overflow_x": null,
            "overflow_y": null,
            "padding": null,
            "right": null,
            "top": null,
            "visibility": null,
            "width": null
          }
        },
        "0a6aacf73d1a4d5098f3bb71ae2b6fa6": {
          "model_module": "@jupyter-widgets/controls",
          "model_name": "ProgressStyleModel",
          "model_module_version": "1.5.0",
          "state": {
            "_model_module": "@jupyter-widgets/controls",
            "_model_module_version": "1.5.0",
            "_model_name": "ProgressStyleModel",
            "_view_count": null,
            "_view_module": "@jupyter-widgets/base",
            "_view_module_version": "1.2.0",
            "_view_name": "StyleView",
            "bar_color": null,
            "description_width": ""
          }
        },
        "5a66a179a8eb45c987d4ecae29b2fd85": {
          "model_module": "@jupyter-widgets/base",
          "model_name": "LayoutModel",
          "model_module_version": "1.2.0",
          "state": {
            "_model_module": "@jupyter-widgets/base",
            "_model_module_version": "1.2.0",
            "_model_name": "LayoutModel",
            "_view_count": null,
            "_view_module": "@jupyter-widgets/base",
            "_view_module_version": "1.2.0",
            "_view_name": "LayoutView",
            "align_content": null,
            "align_items": null,
            "align_self": null,
            "border": null,
            "bottom": null,
            "display": null,
            "flex": null,
            "flex_flow": null,
            "grid_area": null,
            "grid_auto_columns": null,
            "grid_auto_flow": null,
            "grid_auto_rows": null,
            "grid_column": null,
            "grid_gap": null,
            "grid_row": null,
            "grid_template_areas": null,
            "grid_template_columns": null,
            "grid_template_rows": null,
            "height": null,
            "justify_content": null,
            "justify_items": null,
            "left": null,
            "margin": null,
            "max_height": null,
            "max_width": null,
            "min_height": null,
            "min_width": null,
            "object_fit": null,
            "object_position": null,
            "order": null,
            "overflow": null,
            "overflow_x": null,
            "overflow_y": null,
            "padding": null,
            "right": null,
            "top": null,
            "visibility": null,
            "width": null
          }
        },
        "abf29782438841f881ae38dd121c1eec": {
          "model_module": "@jupyter-widgets/controls",
          "model_name": "DescriptionStyleModel",
          "model_module_version": "1.5.0",
          "state": {
            "_model_module": "@jupyter-widgets/controls",
            "_model_module_version": "1.5.0",
            "_model_name": "DescriptionStyleModel",
            "_view_count": null,
            "_view_module": "@jupyter-widgets/base",
            "_view_module_version": "1.2.0",
            "_view_name": "StyleView",
            "description_width": ""
          }
        },
        "4f905e4312bf4728a06e126abed4e61b": {
          "model_module": "@jupyter-widgets/controls",
          "model_name": "HBoxModel",
          "model_module_version": "1.5.0",
          "state": {
            "_dom_classes": [],
            "_model_module": "@jupyter-widgets/controls",
            "_model_module_version": "1.5.0",
            "_model_name": "HBoxModel",
            "_view_count": null,
            "_view_module": "@jupyter-widgets/controls",
            "_view_module_version": "1.5.0",
            "_view_name": "HBoxView",
            "box_style": "",
            "children": [
              "IPY_MODEL_7d2a9b733bc4437a93587befc40f23a3",
              "IPY_MODEL_e12a6e181df94c7997db1beae15ff260",
              "IPY_MODEL_7741c7a087264100ac05f336830bf4dd"
            ],
            "layout": "IPY_MODEL_acd641df51d64b83b089e645644b9deb"
          }
        },
        "7d2a9b733bc4437a93587befc40f23a3": {
          "model_module": "@jupyter-widgets/controls",
          "model_name": "HTMLModel",
          "model_module_version": "1.5.0",
          "state": {
            "_dom_classes": [],
            "_model_module": "@jupyter-widgets/controls",
            "_model_module_version": "1.5.0",
            "_model_name": "HTMLModel",
            "_view_count": null,
            "_view_module": "@jupyter-widgets/controls",
            "_view_module_version": "1.5.0",
            "_view_name": "HTMLView",
            "description": "",
            "description_tooltip": null,
            "layout": "IPY_MODEL_6f567eaff2b84624895e0234d23b7874",
            "placeholder": "​",
            "style": "IPY_MODEL_794566ab6ec14128bc88fca6636b5ed1",
            "value": "Downloading: 100%"
          }
        },
        "e12a6e181df94c7997db1beae15ff260": {
          "model_module": "@jupyter-widgets/controls",
          "model_name": "FloatProgressModel",
          "model_module_version": "1.5.0",
          "state": {
            "_dom_classes": [],
            "_model_module": "@jupyter-widgets/controls",
            "_model_module_version": "1.5.0",
            "_model_name": "FloatProgressModel",
            "_view_count": null,
            "_view_module": "@jupyter-widgets/controls",
            "_view_module_version": "1.5.0",
            "_view_name": "ProgressView",
            "bar_style": "success",
            "description": "",
            "description_tooltip": null,
            "layout": "IPY_MODEL_194001b245fc451e8035aa835794cb15",
            "max": 28,
            "min": 0,
            "orientation": "horizontal",
            "style": "IPY_MODEL_7982f845555a49ce9a479bbd2e19c8fe",
            "value": 28
          }
        },
        "7741c7a087264100ac05f336830bf4dd": {
          "model_module": "@jupyter-widgets/controls",
          "model_name": "HTMLModel",
          "model_module_version": "1.5.0",
          "state": {
            "_dom_classes": [],
            "_model_module": "@jupyter-widgets/controls",
            "_model_module_version": "1.5.0",
            "_model_name": "HTMLModel",
            "_view_count": null,
            "_view_module": "@jupyter-widgets/controls",
            "_view_module_version": "1.5.0",
            "_view_name": "HTMLView",
            "description": "",
            "description_tooltip": null,
            "layout": "IPY_MODEL_4c1318fafe03449585c63ff87a0d8ba4",
            "placeholder": "​",
            "style": "IPY_MODEL_755c67285ba44475b2d0a0ebb7d2e3b7",
            "value": " 28.0/28.0 [00:00&lt;00:00, 810B/s]"
          }
        },
        "acd641df51d64b83b089e645644b9deb": {
          "model_module": "@jupyter-widgets/base",
          "model_name": "LayoutModel",
          "model_module_version": "1.2.0",
          "state": {
            "_model_module": "@jupyter-widgets/base",
            "_model_module_version": "1.2.0",
            "_model_name": "LayoutModel",
            "_view_count": null,
            "_view_module": "@jupyter-widgets/base",
            "_view_module_version": "1.2.0",
            "_view_name": "LayoutView",
            "align_content": null,
            "align_items": null,
            "align_self": null,
            "border": null,
            "bottom": null,
            "display": null,
            "flex": null,
            "flex_flow": null,
            "grid_area": null,
            "grid_auto_columns": null,
            "grid_auto_flow": null,
            "grid_auto_rows": null,
            "grid_column": null,
            "grid_gap": null,
            "grid_row": null,
            "grid_template_areas": null,
            "grid_template_columns": null,
            "grid_template_rows": null,
            "height": null,
            "justify_content": null,
            "justify_items": null,
            "left": null,
            "margin": null,
            "max_height": null,
            "max_width": null,
            "min_height": null,
            "min_width": null,
            "object_fit": null,
            "object_position": null,
            "order": null,
            "overflow": null,
            "overflow_x": null,
            "overflow_y": null,
            "padding": null,
            "right": null,
            "top": null,
            "visibility": null,
            "width": null
          }
        },
        "6f567eaff2b84624895e0234d23b7874": {
          "model_module": "@jupyter-widgets/base",
          "model_name": "LayoutModel",
          "model_module_version": "1.2.0",
          "state": {
            "_model_module": "@jupyter-widgets/base",
            "_model_module_version": "1.2.0",
            "_model_name": "LayoutModel",
            "_view_count": null,
            "_view_module": "@jupyter-widgets/base",
            "_view_module_version": "1.2.0",
            "_view_name": "LayoutView",
            "align_content": null,
            "align_items": null,
            "align_self": null,
            "border": null,
            "bottom": null,
            "display": null,
            "flex": null,
            "flex_flow": null,
            "grid_area": null,
            "grid_auto_columns": null,
            "grid_auto_flow": null,
            "grid_auto_rows": null,
            "grid_column": null,
            "grid_gap": null,
            "grid_row": null,
            "grid_template_areas": null,
            "grid_template_columns": null,
            "grid_template_rows": null,
            "height": null,
            "justify_content": null,
            "justify_items": null,
            "left": null,
            "margin": null,
            "max_height": null,
            "max_width": null,
            "min_height": null,
            "min_width": null,
            "object_fit": null,
            "object_position": null,
            "order": null,
            "overflow": null,
            "overflow_x": null,
            "overflow_y": null,
            "padding": null,
            "right": null,
            "top": null,
            "visibility": null,
            "width": null
          }
        },
        "794566ab6ec14128bc88fca6636b5ed1": {
          "model_module": "@jupyter-widgets/controls",
          "model_name": "DescriptionStyleModel",
          "model_module_version": "1.5.0",
          "state": {
            "_model_module": "@jupyter-widgets/controls",
            "_model_module_version": "1.5.0",
            "_model_name": "DescriptionStyleModel",
            "_view_count": null,
            "_view_module": "@jupyter-widgets/base",
            "_view_module_version": "1.2.0",
            "_view_name": "StyleView",
            "description_width": ""
          }
        },
        "194001b245fc451e8035aa835794cb15": {
          "model_module": "@jupyter-widgets/base",
          "model_name": "LayoutModel",
          "model_module_version": "1.2.0",
          "state": {
            "_model_module": "@jupyter-widgets/base",
            "_model_module_version": "1.2.0",
            "_model_name": "LayoutModel",
            "_view_count": null,
            "_view_module": "@jupyter-widgets/base",
            "_view_module_version": "1.2.0",
            "_view_name": "LayoutView",
            "align_content": null,
            "align_items": null,
            "align_self": null,
            "border": null,
            "bottom": null,
            "display": null,
            "flex": null,
            "flex_flow": null,
            "grid_area": null,
            "grid_auto_columns": null,
            "grid_auto_flow": null,
            "grid_auto_rows": null,
            "grid_column": null,
            "grid_gap": null,
            "grid_row": null,
            "grid_template_areas": null,
            "grid_template_columns": null,
            "grid_template_rows": null,
            "height": null,
            "justify_content": null,
            "justify_items": null,
            "left": null,
            "margin": null,
            "max_height": null,
            "max_width": null,
            "min_height": null,
            "min_width": null,
            "object_fit": null,
            "object_position": null,
            "order": null,
            "overflow": null,
            "overflow_x": null,
            "overflow_y": null,
            "padding": null,
            "right": null,
            "top": null,
            "visibility": null,
            "width": null
          }
        },
        "7982f845555a49ce9a479bbd2e19c8fe": {
          "model_module": "@jupyter-widgets/controls",
          "model_name": "ProgressStyleModel",
          "model_module_version": "1.5.0",
          "state": {
            "_model_module": "@jupyter-widgets/controls",
            "_model_module_version": "1.5.0",
            "_model_name": "ProgressStyleModel",
            "_view_count": null,
            "_view_module": "@jupyter-widgets/base",
            "_view_module_version": "1.2.0",
            "_view_name": "StyleView",
            "bar_color": null,
            "description_width": ""
          }
        },
        "4c1318fafe03449585c63ff87a0d8ba4": {
          "model_module": "@jupyter-widgets/base",
          "model_name": "LayoutModel",
          "model_module_version": "1.2.0",
          "state": {
            "_model_module": "@jupyter-widgets/base",
            "_model_module_version": "1.2.0",
            "_model_name": "LayoutModel",
            "_view_count": null,
            "_view_module": "@jupyter-widgets/base",
            "_view_module_version": "1.2.0",
            "_view_name": "LayoutView",
            "align_content": null,
            "align_items": null,
            "align_self": null,
            "border": null,
            "bottom": null,
            "display": null,
            "flex": null,
            "flex_flow": null,
            "grid_area": null,
            "grid_auto_columns": null,
            "grid_auto_flow": null,
            "grid_auto_rows": null,
            "grid_column": null,
            "grid_gap": null,
            "grid_row": null,
            "grid_template_areas": null,
            "grid_template_columns": null,
            "grid_template_rows": null,
            "height": null,
            "justify_content": null,
            "justify_items": null,
            "left": null,
            "margin": null,
            "max_height": null,
            "max_width": null,
            "min_height": null,
            "min_width": null,
            "object_fit": null,
            "object_position": null,
            "order": null,
            "overflow": null,
            "overflow_x": null,
            "overflow_y": null,
            "padding": null,
            "right": null,
            "top": null,
            "visibility": null,
            "width": null
          }
        },
        "755c67285ba44475b2d0a0ebb7d2e3b7": {
          "model_module": "@jupyter-widgets/controls",
          "model_name": "DescriptionStyleModel",
          "model_module_version": "1.5.0",
          "state": {
            "_model_module": "@jupyter-widgets/controls",
            "_model_module_version": "1.5.0",
            "_model_name": "DescriptionStyleModel",
            "_view_count": null,
            "_view_module": "@jupyter-widgets/base",
            "_view_module_version": "1.2.0",
            "_view_name": "StyleView",
            "description_width": ""
          }
        },
        "b3fd81ba8d2e4b07ab9eb7e5b7ab8410": {
          "model_module": "@jupyter-widgets/controls",
          "model_name": "HBoxModel",
          "model_module_version": "1.5.0",
          "state": {
            "_dom_classes": [],
            "_model_module": "@jupyter-widgets/controls",
            "_model_module_version": "1.5.0",
            "_model_name": "HBoxModel",
            "_view_count": null,
            "_view_module": "@jupyter-widgets/controls",
            "_view_module_version": "1.5.0",
            "_view_name": "HBoxView",
            "box_style": "",
            "children": [
              "IPY_MODEL_38988a21b81d418b8da35b7f4d707c23",
              "IPY_MODEL_e8090093ad6148d9b917555bc38cd72b",
              "IPY_MODEL_a2d682026547418d9150546d1ceceb5e"
            ],
            "layout": "IPY_MODEL_09625c16589d4ddc9facdcf903027b8d"
          }
        },
        "38988a21b81d418b8da35b7f4d707c23": {
          "model_module": "@jupyter-widgets/controls",
          "model_name": "HTMLModel",
          "model_module_version": "1.5.0",
          "state": {
            "_dom_classes": [],
            "_model_module": "@jupyter-widgets/controls",
            "_model_module_version": "1.5.0",
            "_model_name": "HTMLModel",
            "_view_count": null,
            "_view_module": "@jupyter-widgets/controls",
            "_view_module_version": "1.5.0",
            "_view_name": "HTMLView",
            "description": "",
            "description_tooltip": null,
            "layout": "IPY_MODEL_42d33067d70546e6b740fc187121e998",
            "placeholder": "​",
            "style": "IPY_MODEL_dfd7bc31fdae42748540fedcc3303454",
            "value": "Downloading: 100%"
          }
        },
        "e8090093ad6148d9b917555bc38cd72b": {
          "model_module": "@jupyter-widgets/controls",
          "model_name": "FloatProgressModel",
          "model_module_version": "1.5.0",
          "state": {
            "_dom_classes": [],
            "_model_module": "@jupyter-widgets/controls",
            "_model_module_version": "1.5.0",
            "_model_name": "FloatProgressModel",
            "_view_count": null,
            "_view_module": "@jupyter-widgets/controls",
            "_view_module_version": "1.5.0",
            "_view_name": "ProgressView",
            "bar_style": "success",
            "description": "",
            "description_tooltip": null,
            "layout": "IPY_MODEL_028b9c0b52104fa9b89a6fae53cf9256",
            "max": 483,
            "min": 0,
            "orientation": "horizontal",
            "style": "IPY_MODEL_666f4d08bc8347a9ba7015fd7ec7538c",
            "value": 483
          }
        },
        "a2d682026547418d9150546d1ceceb5e": {
          "model_module": "@jupyter-widgets/controls",
          "model_name": "HTMLModel",
          "model_module_version": "1.5.0",
          "state": {
            "_dom_classes": [],
            "_model_module": "@jupyter-widgets/controls",
            "_model_module_version": "1.5.0",
            "_model_name": "HTMLModel",
            "_view_count": null,
            "_view_module": "@jupyter-widgets/controls",
            "_view_module_version": "1.5.0",
            "_view_name": "HTMLView",
            "description": "",
            "description_tooltip": null,
            "layout": "IPY_MODEL_e63f1164457d486c83a7f240a4a6f146",
            "placeholder": "​",
            "style": "IPY_MODEL_990c9663f901461fa8f540c00327d2b3",
            "value": " 483/483 [00:00&lt;00:00, 13.3kB/s]"
          }
        },
        "09625c16589d4ddc9facdcf903027b8d": {
          "model_module": "@jupyter-widgets/base",
          "model_name": "LayoutModel",
          "model_module_version": "1.2.0",
          "state": {
            "_model_module": "@jupyter-widgets/base",
            "_model_module_version": "1.2.0",
            "_model_name": "LayoutModel",
            "_view_count": null,
            "_view_module": "@jupyter-widgets/base",
            "_view_module_version": "1.2.0",
            "_view_name": "LayoutView",
            "align_content": null,
            "align_items": null,
            "align_self": null,
            "border": null,
            "bottom": null,
            "display": null,
            "flex": null,
            "flex_flow": null,
            "grid_area": null,
            "grid_auto_columns": null,
            "grid_auto_flow": null,
            "grid_auto_rows": null,
            "grid_column": null,
            "grid_gap": null,
            "grid_row": null,
            "grid_template_areas": null,
            "grid_template_columns": null,
            "grid_template_rows": null,
            "height": null,
            "justify_content": null,
            "justify_items": null,
            "left": null,
            "margin": null,
            "max_height": null,
            "max_width": null,
            "min_height": null,
            "min_width": null,
            "object_fit": null,
            "object_position": null,
            "order": null,
            "overflow": null,
            "overflow_x": null,
            "overflow_y": null,
            "padding": null,
            "right": null,
            "top": null,
            "visibility": null,
            "width": null
          }
        },
        "42d33067d70546e6b740fc187121e998": {
          "model_module": "@jupyter-widgets/base",
          "model_name": "LayoutModel",
          "model_module_version": "1.2.0",
          "state": {
            "_model_module": "@jupyter-widgets/base",
            "_model_module_version": "1.2.0",
            "_model_name": "LayoutModel",
            "_view_count": null,
            "_view_module": "@jupyter-widgets/base",
            "_view_module_version": "1.2.0",
            "_view_name": "LayoutView",
            "align_content": null,
            "align_items": null,
            "align_self": null,
            "border": null,
            "bottom": null,
            "display": null,
            "flex": null,
            "flex_flow": null,
            "grid_area": null,
            "grid_auto_columns": null,
            "grid_auto_flow": null,
            "grid_auto_rows": null,
            "grid_column": null,
            "grid_gap": null,
            "grid_row": null,
            "grid_template_areas": null,
            "grid_template_columns": null,
            "grid_template_rows": null,
            "height": null,
            "justify_content": null,
            "justify_items": null,
            "left": null,
            "margin": null,
            "max_height": null,
            "max_width": null,
            "min_height": null,
            "min_width": null,
            "object_fit": null,
            "object_position": null,
            "order": null,
            "overflow": null,
            "overflow_x": null,
            "overflow_y": null,
            "padding": null,
            "right": null,
            "top": null,
            "visibility": null,
            "width": null
          }
        },
        "dfd7bc31fdae42748540fedcc3303454": {
          "model_module": "@jupyter-widgets/controls",
          "model_name": "DescriptionStyleModel",
          "model_module_version": "1.5.0",
          "state": {
            "_model_module": "@jupyter-widgets/controls",
            "_model_module_version": "1.5.0",
            "_model_name": "DescriptionStyleModel",
            "_view_count": null,
            "_view_module": "@jupyter-widgets/base",
            "_view_module_version": "1.2.0",
            "_view_name": "StyleView",
            "description_width": ""
          }
        },
        "028b9c0b52104fa9b89a6fae53cf9256": {
          "model_module": "@jupyter-widgets/base",
          "model_name": "LayoutModel",
          "model_module_version": "1.2.0",
          "state": {
            "_model_module": "@jupyter-widgets/base",
            "_model_module_version": "1.2.0",
            "_model_name": "LayoutModel",
            "_view_count": null,
            "_view_module": "@jupyter-widgets/base",
            "_view_module_version": "1.2.0",
            "_view_name": "LayoutView",
            "align_content": null,
            "align_items": null,
            "align_self": null,
            "border": null,
            "bottom": null,
            "display": null,
            "flex": null,
            "flex_flow": null,
            "grid_area": null,
            "grid_auto_columns": null,
            "grid_auto_flow": null,
            "grid_auto_rows": null,
            "grid_column": null,
            "grid_gap": null,
            "grid_row": null,
            "grid_template_areas": null,
            "grid_template_columns": null,
            "grid_template_rows": null,
            "height": null,
            "justify_content": null,
            "justify_items": null,
            "left": null,
            "margin": null,
            "max_height": null,
            "max_width": null,
            "min_height": null,
            "min_width": null,
            "object_fit": null,
            "object_position": null,
            "order": null,
            "overflow": null,
            "overflow_x": null,
            "overflow_y": null,
            "padding": null,
            "right": null,
            "top": null,
            "visibility": null,
            "width": null
          }
        },
        "666f4d08bc8347a9ba7015fd7ec7538c": {
          "model_module": "@jupyter-widgets/controls",
          "model_name": "ProgressStyleModel",
          "model_module_version": "1.5.0",
          "state": {
            "_model_module": "@jupyter-widgets/controls",
            "_model_module_version": "1.5.0",
            "_model_name": "ProgressStyleModel",
            "_view_count": null,
            "_view_module": "@jupyter-widgets/base",
            "_view_module_version": "1.2.0",
            "_view_name": "StyleView",
            "bar_color": null,
            "description_width": ""
          }
        },
        "e63f1164457d486c83a7f240a4a6f146": {
          "model_module": "@jupyter-widgets/base",
          "model_name": "LayoutModel",
          "model_module_version": "1.2.0",
          "state": {
            "_model_module": "@jupyter-widgets/base",
            "_model_module_version": "1.2.0",
            "_model_name": "LayoutModel",
            "_view_count": null,
            "_view_module": "@jupyter-widgets/base",
            "_view_module_version": "1.2.0",
            "_view_name": "LayoutView",
            "align_content": null,
            "align_items": null,
            "align_self": null,
            "border": null,
            "bottom": null,
            "display": null,
            "flex": null,
            "flex_flow": null,
            "grid_area": null,
            "grid_auto_columns": null,
            "grid_auto_flow": null,
            "grid_auto_rows": null,
            "grid_column": null,
            "grid_gap": null,
            "grid_row": null,
            "grid_template_areas": null,
            "grid_template_columns": null,
            "grid_template_rows": null,
            "height": null,
            "justify_content": null,
            "justify_items": null,
            "left": null,
            "margin": null,
            "max_height": null,
            "max_width": null,
            "min_height": null,
            "min_width": null,
            "object_fit": null,
            "object_position": null,
            "order": null,
            "overflow": null,
            "overflow_x": null,
            "overflow_y": null,
            "padding": null,
            "right": null,
            "top": null,
            "visibility": null,
            "width": null
          }
        },
        "990c9663f901461fa8f540c00327d2b3": {
          "model_module": "@jupyter-widgets/controls",
          "model_name": "DescriptionStyleModel",
          "model_module_version": "1.5.0",
          "state": {
            "_model_module": "@jupyter-widgets/controls",
            "_model_module_version": "1.5.0",
            "_model_name": "DescriptionStyleModel",
            "_view_count": null,
            "_view_module": "@jupyter-widgets/base",
            "_view_module_version": "1.2.0",
            "_view_name": "StyleView",
            "description_width": ""
          }
        },
        "dcd2adadce46437e87d8cfebd89f3ca3": {
          "model_module": "@jupyter-widgets/controls",
          "model_name": "HBoxModel",
          "model_module_version": "1.5.0",
          "state": {
            "_dom_classes": [],
            "_model_module": "@jupyter-widgets/controls",
            "_model_module_version": "1.5.0",
            "_model_name": "HBoxModel",
            "_view_count": null,
            "_view_module": "@jupyter-widgets/controls",
            "_view_module_version": "1.5.0",
            "_view_name": "HBoxView",
            "box_style": "",
            "children": [
              "IPY_MODEL_3a9a1e1ed5404b7eae677c8368c67620",
              "IPY_MODEL_6a5048d6d22f41349f8af1a9bffaee35",
              "IPY_MODEL_826964e9edee4156aea3e5e8d550d70b"
            ],
            "layout": "IPY_MODEL_ab72201740694881900060248ef2fbd6"
          }
        },
        "3a9a1e1ed5404b7eae677c8368c67620": {
          "model_module": "@jupyter-widgets/controls",
          "model_name": "HTMLModel",
          "model_module_version": "1.5.0",
          "state": {
            "_dom_classes": [],
            "_model_module": "@jupyter-widgets/controls",
            "_model_module_version": "1.5.0",
            "_model_name": "HTMLModel",
            "_view_count": null,
            "_view_module": "@jupyter-widgets/controls",
            "_view_module_version": "1.5.0",
            "_view_name": "HTMLView",
            "description": "",
            "description_tooltip": null,
            "layout": "IPY_MODEL_7b3986db8fa84019a9542003eb1fc4bc",
            "placeholder": "​",
            "style": "IPY_MODEL_afa6cf36bf414fee8042aa4ee7b82d0e",
            "value": "Downloading: 100%"
          }
        },
        "6a5048d6d22f41349f8af1a9bffaee35": {
          "model_module": "@jupyter-widgets/controls",
          "model_name": "FloatProgressModel",
          "model_module_version": "1.5.0",
          "state": {
            "_dom_classes": [],
            "_model_module": "@jupyter-widgets/controls",
            "_model_module_version": "1.5.0",
            "_model_name": "FloatProgressModel",
            "_view_count": null,
            "_view_module": "@jupyter-widgets/controls",
            "_view_module_version": "1.5.0",
            "_view_name": "ProgressView",
            "bar_style": "success",
            "description": "",
            "description_tooltip": null,
            "layout": "IPY_MODEL_033e6b227fea4305b9cd3f95768ca51d",
            "max": 267967963,
            "min": 0,
            "orientation": "horizontal",
            "style": "IPY_MODEL_f9d60062dc384149b68421a5367a8a73",
            "value": 267967963
          }
        },
        "826964e9edee4156aea3e5e8d550d70b": {
          "model_module": "@jupyter-widgets/controls",
          "model_name": "HTMLModel",
          "model_module_version": "1.5.0",
          "state": {
            "_dom_classes": [],
            "_model_module": "@jupyter-widgets/controls",
            "_model_module_version": "1.5.0",
            "_model_name": "HTMLModel",
            "_view_count": null,
            "_view_module": "@jupyter-widgets/controls",
            "_view_module_version": "1.5.0",
            "_view_name": "HTMLView",
            "description": "",
            "description_tooltip": null,
            "layout": "IPY_MODEL_b32c3c50b3f44e888d9775028e8291a1",
            "placeholder": "​",
            "style": "IPY_MODEL_639cbc002ce54a92b56a7b4374ddf0be",
            "value": " 256M/256M [00:04&lt;00:00, 61.2MB/s]"
          }
        },
        "ab72201740694881900060248ef2fbd6": {
          "model_module": "@jupyter-widgets/base",
          "model_name": "LayoutModel",
          "model_module_version": "1.2.0",
          "state": {
            "_model_module": "@jupyter-widgets/base",
            "_model_module_version": "1.2.0",
            "_model_name": "LayoutModel",
            "_view_count": null,
            "_view_module": "@jupyter-widgets/base",
            "_view_module_version": "1.2.0",
            "_view_name": "LayoutView",
            "align_content": null,
            "align_items": null,
            "align_self": null,
            "border": null,
            "bottom": null,
            "display": null,
            "flex": null,
            "flex_flow": null,
            "grid_area": null,
            "grid_auto_columns": null,
            "grid_auto_flow": null,
            "grid_auto_rows": null,
            "grid_column": null,
            "grid_gap": null,
            "grid_row": null,
            "grid_template_areas": null,
            "grid_template_columns": null,
            "grid_template_rows": null,
            "height": null,
            "justify_content": null,
            "justify_items": null,
            "left": null,
            "margin": null,
            "max_height": null,
            "max_width": null,
            "min_height": null,
            "min_width": null,
            "object_fit": null,
            "object_position": null,
            "order": null,
            "overflow": null,
            "overflow_x": null,
            "overflow_y": null,
            "padding": null,
            "right": null,
            "top": null,
            "visibility": null,
            "width": null
          }
        },
        "7b3986db8fa84019a9542003eb1fc4bc": {
          "model_module": "@jupyter-widgets/base",
          "model_name": "LayoutModel",
          "model_module_version": "1.2.0",
          "state": {
            "_model_module": "@jupyter-widgets/base",
            "_model_module_version": "1.2.0",
            "_model_name": "LayoutModel",
            "_view_count": null,
            "_view_module": "@jupyter-widgets/base",
            "_view_module_version": "1.2.0",
            "_view_name": "LayoutView",
            "align_content": null,
            "align_items": null,
            "align_self": null,
            "border": null,
            "bottom": null,
            "display": null,
            "flex": null,
            "flex_flow": null,
            "grid_area": null,
            "grid_auto_columns": null,
            "grid_auto_flow": null,
            "grid_auto_rows": null,
            "grid_column": null,
            "grid_gap": null,
            "grid_row": null,
            "grid_template_areas": null,
            "grid_template_columns": null,
            "grid_template_rows": null,
            "height": null,
            "justify_content": null,
            "justify_items": null,
            "left": null,
            "margin": null,
            "max_height": null,
            "max_width": null,
            "min_height": null,
            "min_width": null,
            "object_fit": null,
            "object_position": null,
            "order": null,
            "overflow": null,
            "overflow_x": null,
            "overflow_y": null,
            "padding": null,
            "right": null,
            "top": null,
            "visibility": null,
            "width": null
          }
        },
        "afa6cf36bf414fee8042aa4ee7b82d0e": {
          "model_module": "@jupyter-widgets/controls",
          "model_name": "DescriptionStyleModel",
          "model_module_version": "1.5.0",
          "state": {
            "_model_module": "@jupyter-widgets/controls",
            "_model_module_version": "1.5.0",
            "_model_name": "DescriptionStyleModel",
            "_view_count": null,
            "_view_module": "@jupyter-widgets/base",
            "_view_module_version": "1.2.0",
            "_view_name": "StyleView",
            "description_width": ""
          }
        },
        "033e6b227fea4305b9cd3f95768ca51d": {
          "model_module": "@jupyter-widgets/base",
          "model_name": "LayoutModel",
          "model_module_version": "1.2.0",
          "state": {
            "_model_module": "@jupyter-widgets/base",
            "_model_module_version": "1.2.0",
            "_model_name": "LayoutModel",
            "_view_count": null,
            "_view_module": "@jupyter-widgets/base",
            "_view_module_version": "1.2.0",
            "_view_name": "LayoutView",
            "align_content": null,
            "align_items": null,
            "align_self": null,
            "border": null,
            "bottom": null,
            "display": null,
            "flex": null,
            "flex_flow": null,
            "grid_area": null,
            "grid_auto_columns": null,
            "grid_auto_flow": null,
            "grid_auto_rows": null,
            "grid_column": null,
            "grid_gap": null,
            "grid_row": null,
            "grid_template_areas": null,
            "grid_template_columns": null,
            "grid_template_rows": null,
            "height": null,
            "justify_content": null,
            "justify_items": null,
            "left": null,
            "margin": null,
            "max_height": null,
            "max_width": null,
            "min_height": null,
            "min_width": null,
            "object_fit": null,
            "object_position": null,
            "order": null,
            "overflow": null,
            "overflow_x": null,
            "overflow_y": null,
            "padding": null,
            "right": null,
            "top": null,
            "visibility": null,
            "width": null
          }
        },
        "f9d60062dc384149b68421a5367a8a73": {
          "model_module": "@jupyter-widgets/controls",
          "model_name": "ProgressStyleModel",
          "model_module_version": "1.5.0",
          "state": {
            "_model_module": "@jupyter-widgets/controls",
            "_model_module_version": "1.5.0",
            "_model_name": "ProgressStyleModel",
            "_view_count": null,
            "_view_module": "@jupyter-widgets/base",
            "_view_module_version": "1.2.0",
            "_view_name": "StyleView",
            "bar_color": null,
            "description_width": ""
          }
        },
        "b32c3c50b3f44e888d9775028e8291a1": {
          "model_module": "@jupyter-widgets/base",
          "model_name": "LayoutModel",
          "model_module_version": "1.2.0",
          "state": {
            "_model_module": "@jupyter-widgets/base",
            "_model_module_version": "1.2.0",
            "_model_name": "LayoutModel",
            "_view_count": null,
            "_view_module": "@jupyter-widgets/base",
            "_view_module_version": "1.2.0",
            "_view_name": "LayoutView",
            "align_content": null,
            "align_items": null,
            "align_self": null,
            "border": null,
            "bottom": null,
            "display": null,
            "flex": null,
            "flex_flow": null,
            "grid_area": null,
            "grid_auto_columns": null,
            "grid_auto_flow": null,
            "grid_auto_rows": null,
            "grid_column": null,
            "grid_gap": null,
            "grid_row": null,
            "grid_template_areas": null,
            "grid_template_columns": null,
            "grid_template_rows": null,
            "height": null,
            "justify_content": null,
            "justify_items": null,
            "left": null,
            "margin": null,
            "max_height": null,
            "max_width": null,
            "min_height": null,
            "min_width": null,
            "object_fit": null,
            "object_position": null,
            "order": null,
            "overflow": null,
            "overflow_x": null,
            "overflow_y": null,
            "padding": null,
            "right": null,
            "top": null,
            "visibility": null,
            "width": null
          }
        },
        "639cbc002ce54a92b56a7b4374ddf0be": {
          "model_module": "@jupyter-widgets/controls",
          "model_name": "DescriptionStyleModel",
          "model_module_version": "1.5.0",
          "state": {
            "_model_module": "@jupyter-widgets/controls",
            "_model_module_version": "1.5.0",
            "_model_name": "DescriptionStyleModel",
            "_view_count": null,
            "_view_module": "@jupyter-widgets/base",
            "_view_module_version": "1.2.0",
            "_view_name": "StyleView",
            "description_width": ""
          }
        }
      }
    }
  },
  "nbformat_minor": 0,
  "nbformat": 4,
  "cells": [
    {
      "cell_type": "markdown",
      "source": [
        "# Installing Requirements"
      ],
      "metadata": {
        "id": "QrJqR7Wed3ld"
      }
    },
    {
      "cell_type": "code",
      "source": [
        "!pip install -q transformers"
      ],
      "metadata": {
        "id": "reY2YZVQ5Wqc",
        "outputId": "9f3a49dd-bb9d-47d9-e3c2-bdd835299980",
        "execution": {
          "iopub.status.busy": "2022-07-08T19:27:14.364708Z",
          "iopub.execute_input": "2022-07-08T19:27:14.365221Z",
          "iopub.status.idle": "2022-07-08T19:27:25.520529Z",
          "shell.execute_reply.started": "2022-07-08T19:27:14.365110Z",
          "shell.execute_reply": "2022-07-08T19:27:25.519305Z"
        },
        "trusted": true,
        "colab": {
          "base_uri": "https://localhost:8080/"
        }
      },
      "execution_count": 1,
      "outputs": [
        {
          "output_type": "stream",
          "name": "stdout",
          "text": [
            "\u001b[K     |████████████████████████████████| 4.4 MB 28.4 MB/s \n",
            "\u001b[K     |████████████████████████████████| 6.6 MB 54.2 MB/s \n",
            "\u001b[K     |████████████████████████████████| 596 kB 38.5 MB/s \n",
            "\u001b[K     |████████████████████████████████| 101 kB 9.8 MB/s \n",
            "\u001b[?25h"
          ]
        }
      ]
    },
    {
      "cell_type": "markdown",
      "source": [
        "# Imports"
      ],
      "metadata": {
        "id": "2dGZAg9Vd6jN"
      }
    },
    {
      "cell_type": "code",
      "source": [
        "import pandas as pd\n",
        "import numpy as np\n",
        "import matplotlib.pyplot as plt\n",
        "import torch\n",
        "from sklearn.model_selection import train_test_split\n",
        "from sklearn import preprocessing\n",
        "from torch.utils.data import Dataset, DataLoader, RandomSampler, SequentialSampler\n",
        "from sklearn.metrics import classification_report, confusion_matrix\n",
        "from sklearn.metrics import accuracy_score, recall_score, precision_score, f1_score\n",
        "from transformers import DistilBertForSequenceClassification, DistilBertTokenizer, Trainer, TrainingArguments"
      ],
      "metadata": {
        "id": "6QmAPOj_5gOk",
        "execution": {
          "iopub.status.busy": "2022-07-08T19:27:25.526292Z",
          "iopub.execute_input": "2022-07-08T19:27:25.528603Z",
          "iopub.status.idle": "2022-07-08T19:27:27.975042Z",
          "shell.execute_reply.started": "2022-07-08T19:27:25.528561Z",
          "shell.execute_reply": "2022-07-08T19:27:27.974076Z"
        },
        "trusted": true
      },
      "execution_count": 2,
      "outputs": []
    },
    {
      "cell_type": "markdown",
      "source": [
        "# Connecting to Google Drive"
      ],
      "metadata": {
        "id": "cffqfO5od73R"
      }
    },
    {
      "cell_type": "code",
      "source": [
        "from google.colab import drive\n",
        "drive.mount('/content/gdrive/', force_remount=True)"
      ],
      "metadata": {
        "id": "zAGq4GAJTPHL",
        "execution": {
          "iopub.status.busy": "2022-07-08T19:27:27.976745Z",
          "iopub.execute_input": "2022-07-08T19:27:27.977398Z",
          "iopub.status.idle": "2022-07-08T19:27:28.657496Z",
          "shell.execute_reply.started": "2022-07-08T19:27:27.977359Z",
          "shell.execute_reply": "2022-07-08T19:27:28.656174Z"
        },
        "trusted": true,
        "colab": {
          "base_uri": "https://localhost:8080/"
        },
        "outputId": "cf9392a8-9fe1-469b-ac28-b55a3de6ca07"
      },
      "execution_count": 3,
      "outputs": [
        {
          "output_type": "stream",
          "name": "stdout",
          "text": [
            "Mounted at /content/gdrive/\n"
          ]
        }
      ]
    },
    {
      "cell_type": "markdown",
      "source": [
        "# Hyperparameters"
      ],
      "metadata": {
        "id": "suKSQsjZegfG"
      }
    },
    {
      "cell_type": "code",
      "source": [
        "MAX_LEN = 64\n",
        "TRAIN_BATCH_SIZE = 64\n",
        "VALID_BATCH_SIZE = 32\n",
        "LEARNING_RATE = 1e-05\n",
        "NUM_CLASSES = 6\n",
        "EPOCHS = 10"
      ],
      "metadata": {
        "id": "UuEIZzCG6_L6",
        "execution": {
          "iopub.status.busy": "2022-07-08T19:27:34.259502Z",
          "iopub.execute_input": "2022-07-08T19:27:34.259840Z",
          "iopub.status.idle": "2022-07-08T19:27:35.283396Z",
          "shell.execute_reply.started": "2022-07-08T19:27:34.259804Z",
          "shell.execute_reply": "2022-07-08T19:27:35.282351Z"
        },
        "trusted": true
      },
      "execution_count": 4,
      "outputs": []
    },
    {
      "cell_type": "markdown",
      "source": [
        "# Processing data"
      ],
      "metadata": {
        "id": "KJoMHVpJeKPT"
      }
    },
    {
      "cell_type": "markdown",
      "source": [
        "## Creating a dataframe"
      ],
      "metadata": {
        "id": "m3sDa07veMGJ"
      }
    },
    {
      "cell_type": "code",
      "source": [
        "df = pd.read_csv(\"/content/gdrive/MyDrive/Homeworks/NLP/Project/Phase2/dialogues_cleaned.csv\")\n",
        "df = df.drop(df[df[\"person\"]==\"person\"].index)"
      ],
      "metadata": {
        "id": "_PHxrSzw5aW_",
        "execution": {
          "iopub.status.busy": "2022-07-08T19:27:28.661300Z",
          "iopub.execute_input": "2022-07-08T19:27:28.661712Z",
          "iopub.status.idle": "2022-07-08T19:27:28.699901Z",
          "shell.execute_reply.started": "2022-07-08T19:27:28.661670Z",
          "shell.execute_reply": "2022-07-08T19:27:28.698698Z"
        },
        "trusted": true
      },
      "execution_count": 5,
      "outputs": []
    },
    {
      "cell_type": "markdown",
      "source": [
        "## Label Encoder"
      ],
      "metadata": {
        "id": "y-RDeJ3eeOPi"
      }
    },
    {
      "cell_type": "code",
      "source": [
        "le = preprocessing.LabelEncoder()\n",
        "LABELS = [\"chandler\", \"monica\", \"rachel\", \"phoebe\", \"joey\", \"ross\"]\n",
        "le.fit(LABELS)"
      ],
      "metadata": {
        "id": "75x_lO2y5w3N",
        "outputId": "0715eb45-9876-4fd5-b317-dcd68b01a1bc",
        "execution": {
          "iopub.status.busy": "2022-07-08T19:27:28.701648Z",
          "iopub.execute_input": "2022-07-08T19:27:28.702048Z",
          "iopub.status.idle": "2022-07-08T19:27:28.720253Z",
          "shell.execute_reply.started": "2022-07-08T19:27:28.702009Z",
          "shell.execute_reply": "2022-07-08T19:27:28.719134Z"
        },
        "trusted": true,
        "colab": {
          "base_uri": "https://localhost:8080/"
        }
      },
      "execution_count": 6,
      "outputs": [
        {
          "output_type": "execute_result",
          "data": {
            "text/plain": [
              "LabelEncoder()"
            ]
          },
          "metadata": {},
          "execution_count": 6
        }
      ]
    },
    {
      "cell_type": "code",
      "source": [
        "x = df[\"dialogue\"]\n",
        "y = df[\"person\"]\n",
        "y = le.transform(y)\n",
        "\n",
        "x_train, x_test, y_train, y_test = train_test_split(x, y, test_size=0.2)"
      ],
      "metadata": {
        "id": "sr1GT7WT6GVe",
        "execution": {
          "iopub.status.busy": "2022-07-08T19:27:28.722016Z",
          "iopub.execute_input": "2022-07-08T19:27:28.722631Z",
          "iopub.status.idle": "2022-07-08T19:27:28.733585Z",
          "shell.execute_reply.started": "2022-07-08T19:27:28.722592Z",
          "shell.execute_reply": "2022-07-08T19:27:28.732510Z"
        },
        "trusted": true
      },
      "execution_count": 7,
      "outputs": []
    },
    {
      "cell_type": "code",
      "source": [
        "print(f\"x_train: {x_train.shape}\")\n",
        "print(f\"y_train: {y_train.shape}\")\n",
        "print(f\"x_test: {x_test.shape}\")\n",
        "print(f\"y_test: {y_test.shape}\")"
      ],
      "metadata": {
        "colab": {
          "base_uri": "https://localhost:8080/"
        },
        "id": "-FdDc2j9ffAq",
        "outputId": "033bc93b-eec8-41eb-ac12-cc9516c6e5ef"
      },
      "execution_count": 8,
      "outputs": [
        {
          "output_type": "stream",
          "name": "stdout",
          "text": [
            "x_train: (7104,)\n",
            "y_train: (7104,)\n",
            "x_test: (1776,)\n",
            "y_test: (1776,)\n"
          ]
        }
      ]
    },
    {
      "cell_type": "markdown",
      "source": [
        "## DistilBERT Tokenizer"
      ],
      "metadata": {
        "id": "PNa2wwylfsT_"
      }
    },
    {
      "cell_type": "code",
      "source": [
        "tokenizer = DistilBertTokenizer.from_pretrained(\"distilbert-base-uncased\")\n",
        "\n",
        "x_train_tokenized = tokenizer(x_train.tolist(), padding=True, truncation=True, max_length=MAX_LEN)\n",
        "x_test_tokenized = tokenizer(x_test.tolist(), padding=True, truncation=True, max_length=MAX_LEN)"
      ],
      "metadata": {
        "id": "xFu10RGSeZfQ",
        "colab": {
          "base_uri": "https://localhost:8080/",
          "height": 113,
          "referenced_widgets": [
            "cdc9783f824849bbbf8cd468f77d7379",
            "2aa256f0bdf24129980c4afa4e18e1e7",
            "b5de1962d6de41efab030199f3facba9",
            "bd128a30789c4f3897c305e1b86e5ff4",
            "37f69f97e9bf43e0ae928bdf454a05ab",
            "292a231ea5b640e488124f21cc54e1fa",
            "dfc9a3eaf6df4d5d96cc4c00684f81da",
            "810f58480eaf48629eba396a5bbfc459",
            "0a6aacf73d1a4d5098f3bb71ae2b6fa6",
            "5a66a179a8eb45c987d4ecae29b2fd85",
            "abf29782438841f881ae38dd121c1eec",
            "4f905e4312bf4728a06e126abed4e61b",
            "7d2a9b733bc4437a93587befc40f23a3",
            "e12a6e181df94c7997db1beae15ff260",
            "7741c7a087264100ac05f336830bf4dd",
            "acd641df51d64b83b089e645644b9deb",
            "6f567eaff2b84624895e0234d23b7874",
            "794566ab6ec14128bc88fca6636b5ed1",
            "194001b245fc451e8035aa835794cb15",
            "7982f845555a49ce9a479bbd2e19c8fe",
            "4c1318fafe03449585c63ff87a0d8ba4",
            "755c67285ba44475b2d0a0ebb7d2e3b7",
            "b3fd81ba8d2e4b07ab9eb7e5b7ab8410",
            "38988a21b81d418b8da35b7f4d707c23",
            "e8090093ad6148d9b917555bc38cd72b",
            "a2d682026547418d9150546d1ceceb5e",
            "09625c16589d4ddc9facdcf903027b8d",
            "42d33067d70546e6b740fc187121e998",
            "dfd7bc31fdae42748540fedcc3303454",
            "028b9c0b52104fa9b89a6fae53cf9256",
            "666f4d08bc8347a9ba7015fd7ec7538c",
            "e63f1164457d486c83a7f240a4a6f146",
            "990c9663f901461fa8f540c00327d2b3"
          ]
        },
        "outputId": "b94fb789-b948-4c30-b0da-a87bf6ee81a6"
      },
      "execution_count": 9,
      "outputs": [
        {
          "output_type": "display_data",
          "data": {
            "text/plain": [
              "Downloading:   0%|          | 0.00/226k [00:00<?, ?B/s]"
            ],
            "application/vnd.jupyter.widget-view+json": {
              "version_major": 2,
              "version_minor": 0,
              "model_id": "cdc9783f824849bbbf8cd468f77d7379"
            }
          },
          "metadata": {}
        },
        {
          "output_type": "display_data",
          "data": {
            "text/plain": [
              "Downloading:   0%|          | 0.00/28.0 [00:00<?, ?B/s]"
            ],
            "application/vnd.jupyter.widget-view+json": {
              "version_major": 2,
              "version_minor": 0,
              "model_id": "4f905e4312bf4728a06e126abed4e61b"
            }
          },
          "metadata": {}
        },
        {
          "output_type": "display_data",
          "data": {
            "text/plain": [
              "Downloading:   0%|          | 0.00/483 [00:00<?, ?B/s]"
            ],
            "application/vnd.jupyter.widget-view+json": {
              "version_major": 2,
              "version_minor": 0,
              "model_id": "b3fd81ba8d2e4b07ab9eb7e5b7ab8410"
            }
          },
          "metadata": {}
        }
      ]
    },
    {
      "cell_type": "markdown",
      "source": [
        "## Data loaders"
      ],
      "metadata": {
        "id": "oIblPgWDhIqM"
      }
    },
    {
      "cell_type": "code",
      "source": [
        "class Dataset(torch.utils.data.Dataset):    \n",
        "    def __init__(self, x, y=None):          \n",
        "        self.x = x\n",
        "        self.y = torch.tensor(y)\n",
        "     \n",
        "    def __getitem__(self, idx):\n",
        "        item = {key:torch.tensor(val[idx]) for key, val in self.x.items()}\n",
        "        if self.y is not None:\n",
        "            item[\"labels\"] = self.y[idx]\n",
        "        return item\n",
        "        \n",
        "    def __len__(self):\n",
        "        return len(self.x[\"input_ids\"])\n",
        "\n",
        "\n",
        "train_dataset = Dataset(x_train_tokenized, y_train)\n",
        "test_dataset = Dataset(x_test_tokenized, y_test)"
      ],
      "metadata": {
        "id": "vjZy60vm88CA",
        "execution": {
          "iopub.status.busy": "2022-07-08T19:27:38.215087Z",
          "iopub.execute_input": "2022-07-08T19:27:38.216020Z",
          "iopub.status.idle": "2022-07-08T19:27:38.225367Z",
          "shell.execute_reply.started": "2022-07-08T19:27:38.215982Z",
          "shell.execute_reply": "2022-07-08T19:27:38.224388Z"
        },
        "trusted": true
      },
      "execution_count": 10,
      "outputs": []
    },
    {
      "cell_type": "markdown",
      "source": [
        "# Model"
      ],
      "metadata": {
        "id": "nCOaV7fReVCS"
      }
    },
    {
      "cell_type": "code",
      "source": [
        "model = DistilBertForSequenceClassification.from_pretrained(\n",
        "    \"distilbert-base-uncased\",\n",
        "    num_labels=NUM_CLASSES\n",
        ")"
      ],
      "metadata": {
        "colab": {
          "base_uri": "https://localhost:8080/",
          "height": 156,
          "referenced_widgets": [
            "dcd2adadce46437e87d8cfebd89f3ca3",
            "3a9a1e1ed5404b7eae677c8368c67620",
            "6a5048d6d22f41349f8af1a9bffaee35",
            "826964e9edee4156aea3e5e8d550d70b",
            "ab72201740694881900060248ef2fbd6",
            "7b3986db8fa84019a9542003eb1fc4bc",
            "afa6cf36bf414fee8042aa4ee7b82d0e",
            "033e6b227fea4305b9cd3f95768ca51d",
            "f9d60062dc384149b68421a5367a8a73",
            "b32c3c50b3f44e888d9775028e8291a1",
            "639cbc002ce54a92b56a7b4374ddf0be"
          ]
        },
        "id": "agOSMe0ViH5b",
        "outputId": "2cf90bde-6643-48ae-ea98-381bf00ab970"
      },
      "execution_count": 11,
      "outputs": [
        {
          "output_type": "display_data",
          "data": {
            "text/plain": [
              "Downloading:   0%|          | 0.00/256M [00:00<?, ?B/s]"
            ],
            "application/vnd.jupyter.widget-view+json": {
              "version_major": 2,
              "version_minor": 0,
              "model_id": "dcd2adadce46437e87d8cfebd89f3ca3"
            }
          },
          "metadata": {}
        },
        {
          "output_type": "stream",
          "name": "stderr",
          "text": [
            "Some weights of the model checkpoint at distilbert-base-uncased were not used when initializing DistilBertForSequenceClassification: ['vocab_projector.bias', 'vocab_layer_norm.weight', 'vocab_layer_norm.bias', 'vocab_transform.bias', 'vocab_projector.weight', 'vocab_transform.weight']\n",
            "- This IS expected if you are initializing DistilBertForSequenceClassification from the checkpoint of a model trained on another task or with another architecture (e.g. initializing a BertForSequenceClassification model from a BertForPreTraining model).\n",
            "- This IS NOT expected if you are initializing DistilBertForSequenceClassification from the checkpoint of a model that you expect to be exactly identical (initializing a BertForSequenceClassification model from a BertForSequenceClassification model).\n",
            "Some weights of DistilBertForSequenceClassification were not initialized from the model checkpoint at distilbert-base-uncased and are newly initialized: ['classifier.weight', 'classifier.bias', 'pre_classifier.bias', 'pre_classifier.weight']\n",
            "You should probably TRAIN this model on a down-stream task to be able to use it for predictions and inference.\n"
          ]
        }
      ]
    },
    {
      "cell_type": "code",
      "source": [
        "def compute_metrics(p):\n",
        "    pred, labels = p\n",
        "    pred = np.argmax(pred, axis=-1)\n",
        "    accuracy = accuracy_score(y_true=labels, y_pred=pred)\n",
        "    recall = recall_score(y_true=labels, y_pred=pred, average=\"weighted\")\n",
        "    precision = precision_score(y_true=labels, y_pred=pred, average=\"weighted\")\n",
        "    f1 = f1_score(y_true=labels, y_pred=pred, average=\"weighted\")\n",
        "    return {\"Accuracy\": accuracy, \"Precision\": precision, \"F1\": f1} "
      ],
      "metadata": {
        "id": "jJ9ypm8VizXs"
      },
      "execution_count": 12,
      "outputs": []
    },
    {
      "cell_type": "markdown",
      "source": [
        "# Train"
      ],
      "metadata": {
        "id": "2tI2WYxriQoX"
      }
    },
    {
      "cell_type": "code",
      "source": [
        "training_args = TrainingArguments(\n",
        "    output_dir='./results',\n",
        "    num_train_epochs=EPOCHS,\n",
        "    per_device_train_batch_size=TRAIN_BATCH_SIZE,\n",
        "    per_device_eval_batch_size=VALID_BATCH_SIZE,\n",
        "    evaluation_strategy=\"epoch\",\n",
        "    logging_strategy=\"epoch\",\n",
        "    report_to=\"all\",\n",
        "    logging_steps=1,\n",
        ")"
      ],
      "metadata": {
        "id": "XLQmN3cMy5iv",
        "trusted": true
      },
      "execution_count": 13,
      "outputs": []
    },
    {
      "cell_type": "code",
      "source": [
        "trainer = Trainer(\n",
        "    model=model,\n",
        "    args=training_args,\n",
        "    train_dataset=train_dataset,\n",
        "    eval_dataset=test_dataset,\n",
        "    compute_metrics=compute_metrics\n",
        ")"
      ],
      "metadata": {
        "execution": {
          "iopub.status.busy": "2022-07-08T19:30:44.811889Z",
          "iopub.execute_input": "2022-07-08T19:30:44.812359Z",
          "iopub.status.idle": "2022-07-08T19:30:44.846016Z",
          "shell.execute_reply.started": "2022-07-08T19:30:44.812318Z",
          "shell.execute_reply": "2022-07-08T19:30:44.843756Z"
        },
        "trusted": true,
        "id": "bu91ucL7T6dG"
      },
      "execution_count": 14,
      "outputs": []
    },
    {
      "cell_type": "code",
      "source": [
        "best = trainer.train()"
      ],
      "metadata": {
        "id": "n8HbLsxBDWQa",
        "outputId": "27846807-43ca-47a2-d28b-0457433b41ce",
        "execution": {
          "iopub.status.busy": "2022-07-08T19:28:27.563140Z",
          "iopub.execute_input": "2022-07-08T19:28:27.564136Z",
          "iopub.status.idle": "2022-07-08T19:28:53.812561Z",
          "shell.execute_reply.started": "2022-07-08T19:28:27.564089Z",
          "shell.execute_reply": "2022-07-08T19:28:53.810948Z"
        },
        "trusted": true,
        "colab": {
          "base_uri": "https://localhost:8080/",
          "height": 1000
        }
      },
      "execution_count": 15,
      "outputs": [
        {
          "output_type": "stream",
          "name": "stderr",
          "text": [
            "/usr/local/lib/python3.7/dist-packages/transformers/optimization.py:310: FutureWarning: This implementation of AdamW is deprecated and will be removed in a future version. Use the PyTorch implementation torch.optim.AdamW instead, or set `no_deprecation_warning=True` to disable this warning\n",
            "  FutureWarning,\n",
            "***** Running training *****\n",
            "  Num examples = 7104\n",
            "  Num Epochs = 10\n",
            "  Instantaneous batch size per device = 64\n",
            "  Total train batch size (w. parallel, distributed & accumulation) = 64\n",
            "  Gradient Accumulation steps = 1\n",
            "  Total optimization steps = 1110\n"
          ]
        },
        {
          "output_type": "display_data",
          "data": {
            "text/plain": [
              "<IPython.core.display.HTML object>"
            ],
            "text/html": [
              "\n",
              "    <div>\n",
              "      \n",
              "      <progress value='1110' max='1110' style='width:300px; height:20px; vertical-align: middle;'></progress>\n",
              "      [1110/1110 06:43, Epoch 10/10]\n",
              "    </div>\n",
              "    <table border=\"1\" class=\"dataframe\">\n",
              "  <thead>\n",
              " <tr style=\"text-align: left;\">\n",
              "      <th>Epoch</th>\n",
              "      <th>Training Loss</th>\n",
              "      <th>Validation Loss</th>\n",
              "      <th>Accuracy</th>\n",
              "      <th>Precision</th>\n",
              "      <th>F1</th>\n",
              "    </tr>\n",
              "  </thead>\n",
              "  <tbody>\n",
              "    <tr>\n",
              "      <td>1</td>\n",
              "      <td>1.763900</td>\n",
              "      <td>1.692776</td>\n",
              "      <td>0.295608</td>\n",
              "      <td>0.362175</td>\n",
              "      <td>0.268334</td>\n",
              "    </tr>\n",
              "    <tr>\n",
              "      <td>2</td>\n",
              "      <td>1.521100</td>\n",
              "      <td>1.407373</td>\n",
              "      <td>0.469032</td>\n",
              "      <td>0.478789</td>\n",
              "      <td>0.461560</td>\n",
              "    </tr>\n",
              "    <tr>\n",
              "      <td>3</td>\n",
              "      <td>1.049900</td>\n",
              "      <td>1.080330</td>\n",
              "      <td>0.626689</td>\n",
              "      <td>0.634673</td>\n",
              "      <td>0.623860</td>\n",
              "    </tr>\n",
              "    <tr>\n",
              "      <td>4</td>\n",
              "      <td>0.642700</td>\n",
              "      <td>0.866115</td>\n",
              "      <td>0.717342</td>\n",
              "      <td>0.727719</td>\n",
              "      <td>0.718102</td>\n",
              "    </tr>\n",
              "    <tr>\n",
              "      <td>5</td>\n",
              "      <td>0.407900</td>\n",
              "      <td>0.775580</td>\n",
              "      <td>0.770270</td>\n",
              "      <td>0.779488</td>\n",
              "      <td>0.770904</td>\n",
              "    </tr>\n",
              "    <tr>\n",
              "      <td>6</td>\n",
              "      <td>0.298500</td>\n",
              "      <td>0.744298</td>\n",
              "      <td>0.786599</td>\n",
              "      <td>0.795118</td>\n",
              "      <td>0.787742</td>\n",
              "    </tr>\n",
              "    <tr>\n",
              "      <td>7</td>\n",
              "      <td>0.239000</td>\n",
              "      <td>0.735202</td>\n",
              "      <td>0.796171</td>\n",
              "      <td>0.798505</td>\n",
              "      <td>0.796475</td>\n",
              "    </tr>\n",
              "    <tr>\n",
              "      <td>8</td>\n",
              "      <td>0.207800</td>\n",
              "      <td>0.743849</td>\n",
              "      <td>0.801239</td>\n",
              "      <td>0.803646</td>\n",
              "      <td>0.801275</td>\n",
              "    </tr>\n",
              "    <tr>\n",
              "      <td>9</td>\n",
              "      <td>0.187500</td>\n",
              "      <td>0.748156</td>\n",
              "      <td>0.806306</td>\n",
              "      <td>0.809379</td>\n",
              "      <td>0.806430</td>\n",
              "    </tr>\n",
              "    <tr>\n",
              "      <td>10</td>\n",
              "      <td>0.172500</td>\n",
              "      <td>0.733611</td>\n",
              "      <td>0.807995</td>\n",
              "      <td>0.809453</td>\n",
              "      <td>0.807956</td>\n",
              "    </tr>\n",
              "  </tbody>\n",
              "</table><p>"
            ]
          },
          "metadata": {}
        },
        {
          "output_type": "stream",
          "name": "stderr",
          "text": [
            "***** Running Evaluation *****\n",
            "  Num examples = 1776\n",
            "  Batch size = 32\n",
            "***** Running Evaluation *****\n",
            "  Num examples = 1776\n",
            "  Batch size = 32\n",
            "***** Running Evaluation *****\n",
            "  Num examples = 1776\n",
            "  Batch size = 32\n",
            "***** Running Evaluation *****\n",
            "  Num examples = 1776\n",
            "  Batch size = 32\n",
            "Saving model checkpoint to ./results/checkpoint-500\n",
            "Configuration saved in ./results/checkpoint-500/config.json\n",
            "Model weights saved in ./results/checkpoint-500/pytorch_model.bin\n",
            "***** Running Evaluation *****\n",
            "  Num examples = 1776\n",
            "  Batch size = 32\n",
            "***** Running Evaluation *****\n",
            "  Num examples = 1776\n",
            "  Batch size = 32\n",
            "***** Running Evaluation *****\n",
            "  Num examples = 1776\n",
            "  Batch size = 32\n",
            "***** Running Evaluation *****\n",
            "  Num examples = 1776\n",
            "  Batch size = 32\n",
            "***** Running Evaluation *****\n",
            "  Num examples = 1776\n",
            "  Batch size = 32\n",
            "Saving model checkpoint to ./results/checkpoint-1000\n",
            "Configuration saved in ./results/checkpoint-1000/config.json\n",
            "Model weights saved in ./results/checkpoint-1000/pytorch_model.bin\n",
            "***** Running Evaluation *****\n",
            "  Num examples = 1776\n",
            "  Batch size = 32\n",
            "\n",
            "\n",
            "Training completed. Do not forget to share your model on huggingface.co/models =)\n",
            "\n",
            "\n"
          ]
        }
      ]
    },
    {
      "cell_type": "code",
      "source": [
        "model.save_pretrained(\"/content/gdrive/MyDrive/Homeworks/NLP/Project/Phase2/Models/transformer_model\")"
      ],
      "metadata": {
        "execution": {
          "iopub.status.busy": "2022-07-08T19:28:16.195820Z",
          "iopub.status.idle": "2022-07-08T19:28:16.196726Z",
          "shell.execute_reply.started": "2022-07-08T19:28:16.196406Z",
          "shell.execute_reply": "2022-07-08T19:28:16.196434Z"
        },
        "trusted": true,
        "id": "1Ad3q5ReT6dH",
        "colab": {
          "base_uri": "https://localhost:8080/"
        },
        "outputId": "33ed9aa7-49cd-4cb0-f431-9560d630ff27"
      },
      "execution_count": 16,
      "outputs": [
        {
          "output_type": "stream",
          "name": "stderr",
          "text": [
            "Configuration saved in /content/gdrive/MyDrive/Homeworks/NLP/Project/Phase2/Models/transformer_model/config.json\n",
            "Model weights saved in /content/gdrive/MyDrive/Homeworks/NLP/Project/Phase2/Models/transformer_model/pytorch_model.bin\n"
          ]
        }
      ]
    },
    {
      "cell_type": "markdown",
      "source": [
        "# Results"
      ],
      "metadata": {
        "id": "NPeu7rWAzUbX"
      }
    },
    {
      "cell_type": "code",
      "source": [
        "def get_reports(y_true, y_pred, mode, labels=LABELS):\n",
        "    cr = classification_report(y_true, y_pred, target_names=labels)\n",
        "    cm = confusion_matrix(y_true, y_pred)\n",
        "\n",
        "    print(f'\\nClassification Report {mode}')\n",
        "    print(cr)\n",
        "\n",
        "    print(f'Confusion Matrix {mode}')\n",
        "    print(cm)\n",
        "\n",
        "    plt.figure(figsize=(8,8))\n",
        "    plt.imshow(cm, interpolation='nearest')\n",
        "    plt.colorbar()\n",
        "    tick_mark = np.arange(len(labels))\n",
        "    _ = plt.xticks(tick_mark, labels, rotation=90)\n",
        "    _ = plt.yticks(tick_mark, labels)"
      ],
      "metadata": {
        "id": "G_0ctOzOzWjT"
      },
      "execution_count": 17,
      "outputs": []
    },
    {
      "cell_type": "code",
      "source": [
        "tr_preds = trainer.predict(train_dataset)[0].argmax(1)\n",
        "val_preds = trainer.predict(test_dataset)[0].argmax(1)"
      ],
      "metadata": {
        "colab": {
          "base_uri": "https://localhost:8080/",
          "height": 141
        },
        "id": "bgce7_gQzmX2",
        "outputId": "e2d2848a-d447-4ed3-b1e6-0ee19cf6edfa"
      },
      "execution_count": 18,
      "outputs": [
        {
          "output_type": "stream",
          "name": "stderr",
          "text": [
            "***** Running Prediction *****\n",
            "  Num examples = 7104\n",
            "  Batch size = 32\n"
          ]
        },
        {
          "output_type": "display_data",
          "data": {
            "text/plain": [
              "<IPython.core.display.HTML object>"
            ],
            "text/html": [
              "\n",
              "    <div>\n",
              "      \n",
              "      <progress value='278' max='222' style='width:300px; height:20px; vertical-align: middle;'></progress>\n",
              "      [222/222 00:17]\n",
              "    </div>\n",
              "    "
            ]
          },
          "metadata": {}
        },
        {
          "output_type": "stream",
          "name": "stderr",
          "text": [
            "***** Running Prediction *****\n",
            "  Num examples = 1776\n",
            "  Batch size = 32\n"
          ]
        }
      ]
    },
    {
      "cell_type": "code",
      "source": [
        "tr_trues = []\n",
        "for idx, data in enumerate(train_dataset):\n",
        "    label = data[\"labels\"].item()\n",
        "    tr_trues.append(label)"
      ],
      "metadata": {
        "id": "dqDtXLFx0NrF"
      },
      "execution_count": 19,
      "outputs": []
    },
    {
      "cell_type": "code",
      "source": [
        "get_reports(tr_trues, tr_preds, mode=\"Train\")"
      ],
      "metadata": {
        "colab": {
          "base_uri": "https://localhost:8080/",
          "height": 860
        },
        "id": "OGn6sJz94llX",
        "outputId": "0e09b12a-ff4c-4006-d247-ab60774797ce"
      },
      "execution_count": 20,
      "outputs": [
        {
          "output_type": "stream",
          "name": "stdout",
          "text": [
            "\n",
            "Classification Report Train\n",
            "              precision    recall  f1-score   support\n",
            "\n",
            "    chandler       0.99      0.94      0.96      1256\n",
            "      monica       0.90      0.94      0.92      1107\n",
            "      rachel       0.94      0.94      0.94      1217\n",
            "      phoebe       0.97      0.93      0.95      1042\n",
            "        joey       0.90      0.96      0.93      1226\n",
            "        ross       0.96      0.93      0.95      1256\n",
            "\n",
            "    accuracy                           0.94      7104\n",
            "   macro avg       0.94      0.94      0.94      7104\n",
            "weighted avg       0.94      0.94      0.94      7104\n",
            "\n",
            "Confusion Matrix Train\n",
            "[[1176   25   14    6   22   13]\n",
            " [   4 1046   10    3   33   11]\n",
            " [   4   21 1148   10   23   11]\n",
            " [   3   23   11  971   28    6]\n",
            " [   1   19   20    5 1173    8]\n",
            " [   5   31   16   11   24 1169]]\n"
          ]
        },
        {
          "output_type": "display_data",
          "data": {
            "text/plain": [
              "<Figure size 576x576 with 2 Axes>"
            ],
            "image/png": "[encoded data removed]"
          },
          "metadata": {
            "needs_background": "light"
          }
        }
      ]
    },
    {
      "cell_type": "code",
      "source": [
        "val_trues = []\n",
        "for idx, data in enumerate(test_dataset):\n",
        "    label = data[\"labels\"].item()\n",
        "    val_trues.append(label)"
      ],
      "metadata": {
        "id": "cGQYGnsq5k3L"
      },
      "execution_count": 21,
      "outputs": []
    },
    {
      "cell_type": "code",
      "source": [
        "get_reports(val_trues, val_preds, mode=\"Validation\")"
      ],
      "metadata": {
        "colab": {
          "base_uri": "https://localhost:8080/",
          "height": 860
        },
        "id": "xqF5VCeC5mal",
        "outputId": "aaf22e8e-a478-4aab-dc50-7e23cf72575c"
      },
      "execution_count": 22,
      "outputs": [
        {
          "output_type": "stream",
          "name": "stdout",
          "text": [
            "\n",
            "Classification Report Validation\n",
            "              precision    recall  f1-score   support\n",
            "\n",
            "    chandler       0.82      0.80      0.81       322\n",
            "      monica       0.80      0.81      0.80       275\n",
            "      rachel       0.82      0.83      0.82       305\n",
            "      phoebe       0.83      0.78      0.81       260\n",
            "        joey       0.77      0.86      0.81       312\n",
            "        ross       0.83      0.78      0.80       302\n",
            "\n",
            "    accuracy                           0.81      1776\n",
            "   macro avg       0.81      0.81      0.81      1776\n",
            "weighted avg       0.81      0.81      0.81      1776\n",
            "\n",
            "Confusion Matrix Validation\n",
            "[[256  11  18  12  16   9]\n",
            " [ 12 222   8   3  19  11]\n",
            " [ 10   7 252   4  21  11]\n",
            " [ 11  13  11 203  12  10]\n",
            " [  9   7  10  13 267   6]\n",
            " [ 15  19  10   9  14 235]]\n"
          ]
        },
        {
          "output_type": "display_data",
          "data": {
            "text/plain": [
              "<Figure size 576x576 with 2 Axes>"
            ],
            "image/png": "[encoded data removed]"
          },
          "metadata": {
            "needs_background": "light"
          }
        }
      ]
    },
    {
      "cell_type": "code",
      "source": [
        ""
      ],
      "metadata": {
        "id": "tUQ2hLUH-j2P"
      },
      "execution_count": 22,
      "outputs": []
    }
  ]
}