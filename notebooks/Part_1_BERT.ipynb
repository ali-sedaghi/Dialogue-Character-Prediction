{
  "metadata": {
    "kernelspec": {
      "language": "python",
      "display_name": "Python 3",
      "name": "python3"
    },
    "language_info": {
      "name": "python",
      "version": "3.7.12",
      "mimetype": "text/x-python",
      "codemirror_mode": {
        "name": "ipython",
        "version": 3
      },
      "pygments_lexer": "ipython3",
      "nbconvert_exporter": "python",
      "file_extension": ".py"
    },
    "colab": {
      "name": "Part_1_BERT.ipynb",
      "provenance": []
    }
  },
  "nbformat_minor": 0,
  "nbformat": 4,
  "cells": [
    {
      "cell_type": "markdown",
      "source": [
        "# Installing Requirements"
      ],
      "metadata": {
        "id": "QrJqR7Wed3ld"
      }
    },
    {
      "cell_type": "code",
      "source": [
        "# !pip install transformers"
      ],
      "metadata": {
        "id": "reY2YZVQ5Wqc",
        "execution": {
          "iopub.status.busy": "2022-07-09T14:54:18.613356Z",
          "iopub.execute_input": "2022-07-09T14:54:18.614117Z",
          "iopub.status.idle": "2022-07-09T14:54:33.089518Z",
          "shell.execute_reply.started": "2022-07-09T14:54:18.614087Z",
          "shell.execute_reply": "2022-07-09T14:54:33.087806Z"
        },
        "trusted": true
      },
      "execution_count": null,
      "outputs": []
    },
    {
      "cell_type": "markdown",
      "source": [
        "# Imports"
      ],
      "metadata": {
        "id": "2dGZAg9Vd6jN"
      }
    },
    {
      "cell_type": "code",
      "source": [
        "import pandas as pd\n",
        "import numpy as np\n",
        "import torch\n",
        "from sklearn.model_selection import train_test_split\n",
        "from sklearn import preprocessing\n",
        "from torch.utils.data import Dataset, DataLoader, RandomSampler, SequentialSampler\n",
        "from sklearn.metrics import accuracy_score, recall_score, precision_score, f1_score\n",
        "from transformers import Trainer, TrainingArguments, BertTokenizer, BertForMaskedLM\n"
      ],
      "metadata": {
        "id": "6QmAPOj_5gOk",
        "execution": {
          "iopub.status.busy": "2022-07-09T15:50:44.434646Z",
          "iopub.execute_input": "2022-07-09T15:50:44.435048Z",
          "iopub.status.idle": "2022-07-09T15:50:52.298147Z",
          "shell.execute_reply.started": "2022-07-09T15:50:44.434964Z",
          "shell.execute_reply": "2022-07-09T15:50:52.296924Z"
        },
        "trusted": true
      },
      "execution_count": null,
      "outputs": []
    },
    {
      "cell_type": "markdown",
      "source": [
        "# Connecting to Google Drive"
      ],
      "metadata": {
        "id": "cffqfO5od73R"
      }
    },
    {
      "cell_type": "code",
      "source": [
        ""
      ],
      "metadata": {
        "id": "zAGq4GAJTPHL",
        "execution": {
          "iopub.status.busy": "2022-07-08T19:27:27.976745Z",
          "iopub.execute_input": "2022-07-08T19:27:27.977398Z",
          "iopub.status.idle": "2022-07-08T19:27:28.657496Z",
          "shell.execute_reply.started": "2022-07-08T19:27:27.977359Z",
          "shell.execute_reply": "2022-07-08T19:27:28.656174Z"
        },
        "trusted": true
      },
      "execution_count": null,
      "outputs": []
    },
    {
      "cell_type": "markdown",
      "source": [
        "# Hyperparameters"
      ],
      "metadata": {
        "id": "suKSQsjZegfG"
      }
    },
    {
      "cell_type": "code",
      "source": [
        "MAX_LEN = 64\n",
        "TRAIN_BATCH_SIZE = 64\n",
        "VALID_BATCH_SIZE = 32\n",
        "LEARNING_RATE = 1e-05\n",
        "NUM_CLASSES = 6"
      ],
      "metadata": {
        "id": "UuEIZzCG6_L6",
        "execution": {
          "iopub.status.busy": "2022-07-09T15:51:03.748215Z",
          "iopub.execute_input": "2022-07-09T15:51:03.749209Z",
          "iopub.status.idle": "2022-07-09T15:51:03.754297Z",
          "shell.execute_reply.started": "2022-07-09T15:51:03.749174Z",
          "shell.execute_reply": "2022-07-09T15:51:03.753218Z"
        },
        "trusted": true
      },
      "execution_count": null,
      "outputs": []
    },
    {
      "cell_type": "markdown",
      "source": [
        "# Processing data"
      ],
      "metadata": {
        "id": "KJoMHVpJeKPT"
      }
    },
    {
      "cell_type": "markdown",
      "source": [
        "## Creating a dataframe"
      ],
      "metadata": {
        "id": "m3sDa07veMGJ"
      }
    },
    {
      "cell_type": "code",
      "source": [
        "df = pd.read_csv(\"../input/friends-dialogues/dialogues_cleaned.csv\")\n",
        "df = df.drop(df[df[\"person\"]==\"person\"].index)"
      ],
      "metadata": {
        "id": "_PHxrSzw5aW_",
        "execution": {
          "iopub.status.busy": "2022-07-09T15:51:26.095662Z",
          "iopub.execute_input": "2022-07-09T15:51:26.096200Z",
          "iopub.status.idle": "2022-07-09T15:51:26.149694Z",
          "shell.execute_reply.started": "2022-07-09T15:51:26.096152Z",
          "shell.execute_reply": "2022-07-09T15:51:26.148678Z"
        },
        "trusted": true
      },
      "execution_count": null,
      "outputs": []
    },
    {
      "cell_type": "markdown",
      "source": [
        "## Label Encoder"
      ],
      "metadata": {
        "id": "y-RDeJ3eeOPi"
      }
    },
    {
      "cell_type": "code",
      "source": [
        "rachel_dlgs = df[df[\"person\"]==\"rachel\"][\"dialogue\"].values"
      ],
      "metadata": {
        "id": "CREreZ8JGSSl",
        "execution": {
          "iopub.status.busy": "2022-07-09T15:51:27.674735Z",
          "iopub.execute_input": "2022-07-09T15:51:27.675309Z",
          "iopub.status.idle": "2022-07-09T15:51:27.691812Z",
          "shell.execute_reply.started": "2022-07-09T15:51:27.675258Z",
          "shell.execute_reply": "2022-07-09T15:51:27.690698Z"
        },
        "trusted": true
      },
      "execution_count": null,
      "outputs": []
    },
    {
      "cell_type": "code",
      "source": [
        "model = BertForMaskedLM.from_pretrained('bert-base-uncased')\n",
        "\n",
        "tokenizer = BertTokenizer.from_pretrained('bert-base-uncased', mask_toke=\"[MASK]\", sep_token=\"[SEP]\", pad_token=\"[PAD]\")\n",
        "\n",
        "def tokenize_batch(batch):\n",
        "    return [tokenizer.convert_tokens_to_ids(sent) for sent in batch]\n",
        "\n",
        "def untokenize_batch(batch):\n",
        "    return [tokenizer.convert_ids_to_tokens(sent) for sent in batch]\n",
        "\n",
        "def detokenize(sent):\n",
        "    \"\"\" Roughly detokenizes (mainly undoes wordpiece) \"\"\"\n",
        "    new_sent = []\n",
        "    for i, tok in enumerate(sent):\n",
        "        if tok.startswith(\"##\"):\n",
        "            new_sent[len(new_sent) - 1] = new_sent[len(new_sent) - 1] + tok[2:]\n",
        "        else:\n",
        "            new_sent.append(tok)\n",
        "    return new_sent\n",
        "\n",
        "CLS = '[CLS]'\n",
        "SEP = '[SEP]'\n",
        "MASK = '[MASK]'\n",
        "mask_id = tokenizer.convert_tokens_to_ids([MASK])[0]\n",
        "sep_id = tokenizer.convert_tokens_to_ids([SEP])[0]\n",
        "cls_id = tokenizer.convert_tokens_to_ids([CLS])[0]"
      ],
      "metadata": {
        "id": "sQacqckEDrzH",
        "execution": {
          "iopub.status.busy": "2022-07-09T15:51:29.388083Z",
          "iopub.execute_input": "2022-07-09T15:51:29.388697Z",
          "iopub.status.idle": "2022-07-09T15:52:09.776508Z",
          "shell.execute_reply.started": "2022-07-09T15:51:29.388649Z",
          "shell.execute_reply": "2022-07-09T15:52:09.775338Z"
        },
        "trusted": true
      },
      "execution_count": null,
      "outputs": []
    },
    {
      "cell_type": "code",
      "source": [
        "from transformers import DataCollatorForLanguageModeling\n",
        "\n",
        "data_collator = DataCollatorForLanguageModeling(\n",
        "    tokenizer=tokenizer, mlm=True, mlm_probability=0.15\n",
        ")"
      ],
      "metadata": {
        "id": "l7WBVNEmE2jZ",
        "execution": {
          "iopub.status.busy": "2022-07-09T15:52:09.778517Z",
          "iopub.execute_input": "2022-07-09T15:52:09.779190Z",
          "iopub.status.idle": "2022-07-09T15:52:09.786941Z",
          "shell.execute_reply.started": "2022-07-09T15:52:09.779144Z",
          "shell.execute_reply": "2022-07-09T15:52:09.785551Z"
        },
        "trusted": true
      },
      "execution_count": null,
      "outputs": []
    },
    {
      "cell_type": "code",
      "source": [
        "class Dataset(torch.utils.data.Dataset):    \n",
        "    def __init__(self, x):          \n",
        "        self.x = x\n",
        "     \n",
        "    def __getitem__(self, idx):\n",
        "        return tokenizer(self.x[idx])[\"input_ids\"]\n",
        "        \n",
        "    def __len__(self):\n",
        "        return len(self.x)"
      ],
      "metadata": {
        "execution": {
          "iopub.status.busy": "2022-07-09T15:52:09.788654Z",
          "iopub.execute_input": "2022-07-09T15:52:09.789666Z",
          "iopub.status.idle": "2022-07-09T15:52:09.802418Z",
          "shell.execute_reply.started": "2022-07-09T15:52:09.789617Z",
          "shell.execute_reply": "2022-07-09T15:52:09.801059Z"
        },
        "trusted": true,
        "id": "Gr0WpWIzAYWv"
      },
      "execution_count": null,
      "outputs": []
    },
    {
      "cell_type": "code",
      "source": [
        "rachel_ds = Dataset(rachel_dlgs.tolist())\n"
      ],
      "metadata": {
        "execution": {
          "iopub.status.busy": "2022-07-09T15:52:09.806077Z",
          "iopub.execute_input": "2022-07-09T15:52:09.806640Z",
          "iopub.status.idle": "2022-07-09T15:52:09.816410Z",
          "shell.execute_reply.started": "2022-07-09T15:52:09.806592Z",
          "shell.execute_reply": "2022-07-09T15:52:09.814999Z"
        },
        "trusted": true,
        "id": "CoX8lpLoAYWv"
      },
      "execution_count": null,
      "outputs": []
    },
    {
      "cell_type": "markdown",
      "source": [
        "# Model"
      ],
      "metadata": {
        "id": "nCOaV7fReVCS"
      }
    },
    {
      "cell_type": "code",
      "source": [
        "def compute_metrics(p):\n",
        "    pred, labels = p\n",
        "    pred = np.argmax(pred, axis=-1)\n",
        "    accuracy = accuracy_score(y_true=labels, y_pred=pred)\n",
        "    # recall = recall_score(y_true=labels, y_pred=pred)\n",
        "    # precision = precision_score(y_true=labels, y_pred=pred)\n",
        "    # f1 = f1_score(y_true=labels, y_pred=pred)\n",
        "    return {\"accuracy\": accuracy} "
      ],
      "metadata": {
        "id": "nt_BjQds-wtR",
        "execution": {
          "iopub.status.busy": "2022-07-09T15:52:11.726294Z",
          "iopub.execute_input": "2022-07-09T15:52:11.726701Z",
          "iopub.status.idle": "2022-07-09T15:52:11.732618Z",
          "shell.execute_reply.started": "2022-07-09T15:52:11.726667Z",
          "shell.execute_reply": "2022-07-09T15:52:11.731513Z"
        },
        "trusted": true
      },
      "execution_count": null,
      "outputs": []
    },
    {
      "cell_type": "code",
      "source": [
        "training_args = TrainingArguments(\n",
        "    output_dir='./results',          # output directory\n",
        "    num_train_epochs=10,              # total number of training epochs\n",
        "    per_device_train_batch_size=64,  # batch size per device during training\n",
        "    per_device_eval_batch_size=256,   # batch size for evaluation\n",
        "    evaluation_strategy=\"epoch\",\n",
        "    report_to=None\n",
        ")\n",
        "\n",
        "# trainer_model = DistilBertForSequenceClassification.from_pretrained(\"distilbert-base-uncased\", num_labels=6)"
      ],
      "metadata": {
        "id": "XLQmN3cMy5iv",
        "execution": {
          "iopub.status.busy": "2022-07-09T15:52:13.825775Z",
          "iopub.execute_input": "2022-07-09T15:52:13.826424Z",
          "iopub.status.idle": "2022-07-09T15:52:13.919910Z",
          "shell.execute_reply.started": "2022-07-09T15:52:13.826379Z",
          "shell.execute_reply": "2022-07-09T15:52:13.918586Z"
        },
        "trusted": true
      },
      "execution_count": null,
      "outputs": []
    },
    {
      "cell_type": "code",
      "source": [
        "rachel_dlgs_tokenized = tokenizer(rachel_dlgs.tolist(), padding=True, truncation=True, max_length=MAX_LEN)"
      ],
      "metadata": {
        "id": "NQbvQ45SHuv5",
        "execution": {
          "iopub.status.busy": "2022-07-09T14:55:53.701301Z",
          "iopub.execute_input": "2022-07-09T14:55:53.701695Z",
          "iopub.status.idle": "2022-07-09T14:55:54.233584Z",
          "shell.execute_reply.started": "2022-07-09T14:55:53.701664Z",
          "shell.execute_reply": "2022-07-09T14:55:54.232353Z"
        },
        "trusted": true
      },
      "execution_count": null,
      "outputs": []
    },
    {
      "cell_type": "code",
      "source": [
        "rachel_dlgs_tokenized"
      ],
      "metadata": {
        "execution": {
          "iopub.status.busy": "2022-07-09T14:57:07.635889Z",
          "iopub.execute_input": "2022-07-09T14:57:07.636596Z",
          "iopub.status.idle": "2022-07-09T14:57:07.676644Z",
          "shell.execute_reply.started": "2022-07-09T14:57:07.636553Z",
          "shell.execute_reply": "2022-07-09T14:57:07.675318Z"
        },
        "collapsed": true,
        "jupyter": {
          "outputs_hidden": true
        },
        "trusted": true,
        "id": "vXHceNAEAYWy"
      },
      "execution_count": null,
      "outputs": []
    },
    {
      "cell_type": "code",
      "source": [
        " !pip install --upgrade pip"
      ],
      "metadata": {
        "execution": {
          "iopub.status.busy": "2022-07-09T15:47:51.251128Z",
          "iopub.execute_input": "2022-07-09T15:47:51.251505Z",
          "iopub.status.idle": "2022-07-09T15:48:10.446181Z",
          "shell.execute_reply.started": "2022-07-09T15:47:51.251468Z",
          "shell.execute_reply": "2022-07-09T15:48:10.445036Z"
        },
        "trusted": true,
        "id": "Q8ceWL5jAYWz"
      },
      "execution_count": null,
      "outputs": []
    },
    {
      "cell_type": "code",
      "source": [
        "!pip install transformers==4.20.1"
      ],
      "metadata": {
        "execution": {
          "iopub.status.busy": "2022-07-09T15:48:34.952556Z",
          "iopub.execute_input": "2022-07-09T15:48:34.953572Z",
          "iopub.status.idle": "2022-07-09T15:48:44.270116Z",
          "shell.execute_reply.started": "2022-07-09T15:48:34.953525Z",
          "shell.execute_reply": "2022-07-09T15:48:44.269023Z"
        },
        "trusted": true,
        "id": "G4rT6vtTAYWz"
      },
      "execution_count": null,
      "outputs": []
    },
    {
      "cell_type": "code",
      "source": [
        "import transformers\n",
        "transformers.__version__"
      ],
      "metadata": {
        "execution": {
          "iopub.status.busy": "2022-07-09T15:52:32.207446Z",
          "iopub.execute_input": "2022-07-09T15:52:32.207855Z",
          "iopub.status.idle": "2022-07-09T15:52:32.216365Z",
          "shell.execute_reply.started": "2022-07-09T15:52:32.207822Z",
          "shell.execute_reply": "2022-07-09T15:52:32.215161Z"
        },
        "trusted": true,
        "id": "3DsgCofsAYW0"
      },
      "execution_count": null,
      "outputs": []
    },
    {
      "cell_type": "code",
      "source": [
        "trainer = Trainer(\n",
        "    model=model,                 # the instantiated 🤗 Transformers model to be trained\n",
        "    args=training_args,                  # training arguments, defined above\n",
        "    train_dataset=rachel_ds,         # training dataset\n",
        "    eval_dataset=rachel_ds[:10],\n",
        "#     compute_metrics=compute_metrics,\n",
        "    data_collator=data_collator,\n",
        ")"
      ],
      "metadata": {
        "id": "bu91ucL7T6dG",
        "execution": {
          "iopub.status.busy": "2022-07-09T15:59:30.783974Z",
          "iopub.execute_input": "2022-07-09T15:59:30.785543Z",
          "iopub.status.idle": "2022-07-09T15:59:30.816484Z",
          "shell.execute_reply.started": "2022-07-09T15:59:30.785475Z",
          "shell.execute_reply": "2022-07-09T15:59:30.814384Z"
        },
        "trusted": true
      },
      "execution_count": null,
      "outputs": []
    },
    {
      "cell_type": "code",
      "source": [
        "import math\n",
        "import time\n",
        "\n",
        "def generate_step(out, gen_idx, top_k=0, sample=False, return_list=True):\n",
        "    \"\"\" Generate a word from from out[gen_idx]\n",
        "    \n",
        "    args:\n",
        "        - out (torch.Tensor): tensor of logits of size batch_size x seq_len x vocab_size\n",
        "        - gen_idx (int): location for which to generate for\n",
        "        - top_k (int): if >0, only sample from the top k most probable words\n",
        "        - sample (Bool): if True, sample from full distribution. Overridden by top_k \n",
        "    \"\"\"\n",
        "    # print(\"g\", out[\"logits\"].shape)\n",
        "    logits = out[\"logits\"][:, gen_idx]\n",
        "\n",
        "    if top_k > 0:\n",
        "        kth_vals, kth_idx = logits.topk(top_k, dim=-1)\n",
        "        dist = torch.distributions.categorical.Categorical(logits=kth_vals)\n",
        "        idx = kth_idx.gather(dim=1, index=dist.sample().unsqueeze(-1)).squeeze(-1)\n",
        "    elif sample:\n",
        "        dist = torch.distributions.categorical.Categorical(logits=logits)\n",
        "        idx = dist.sample().squeeze(-1)\n",
        "    else:\n",
        "        idx = torch.argmax(logits, dim=-1)\n",
        "    return idx.tolist() if return_list else idx\n",
        "  \n",
        "  \n",
        "def get_init_text(seed_text, max_len, batch_size = 1, rand_init=False):\n",
        "    \"\"\" Get initial sentence by padding seed_text with either masks or random words to max_len \"\"\"\n",
        "    batch = [seed_text + [MASK] * max_len + [SEP] for _ in range(batch_size)]\n",
        "    return tokenize_batch(batch)\n",
        "\n",
        "def printer(sent, should_detokenize=True):\n",
        "    if should_detokenize:\n",
        "        sent = detokenize(sent)[1:-1]\n",
        "    # print(\" \".join(sent))\n",
        "\n",
        "\n",
        "def generate(n_samples, seed_text=\"[CLS]\", batch_size=10, max_len=15, leed_out_len=15,\n",
        "             sample=True, top_k=10, temperature=1.0, burnin=200, max_iter=500, print_every=1):\n",
        "    sentences = []\n",
        "    n_batches = math.ceil(n_samples / batch_size)\n",
        "    start_time = time.time()\n",
        "    seed_len = len(seed_text)\n",
        "    batch = get_init_text(seed_text, max_len, batch_size)\n",
        "    \n",
        "    for ii in range(max_len):\n",
        "        inp = [sent[:seed_len+ii+leed_out_len]+[sep_id] for sent in batch]\n",
        "        inp = torch.tensor(batch).cuda()\n",
        "#         torch.tensor(batch)\n",
        "        out = model(inp)\n",
        "        # print(seed_len, ii, out.keys())\n",
        "        idxs = generate_step(out, gen_idx=seed_len+ii, top_k=top_k, sample=sample)\n",
        "        for jj in range(batch_size):\n",
        "            batch[jj][seed_len+ii] = idxs[jj]\n",
        "        \n",
        "    return untokenize_batch(batch)\n"
      ],
      "metadata": {
        "id": "n6bbhkgPJcmu",
        "execution": {
          "iopub.status.busy": "2022-07-09T16:05:21.639723Z",
          "iopub.execute_input": "2022-07-09T16:05:21.640108Z",
          "iopub.status.idle": "2022-07-09T16:05:21.657475Z",
          "shell.execute_reply.started": "2022-07-09T16:05:21.640056Z",
          "shell.execute_reply": "2022-07-09T16:05:21.656164Z"
        },
        "trusted": true
      },
      "execution_count": null,
      "outputs": []
    },
    {
      "cell_type": "code",
      "source": [
        "import os\n",
        "os.environ[\"WANDB_DISABLED\"] = \"true\""
      ],
      "metadata": {
        "id": "6lT-QgdwYK-v",
        "execution": {
          "iopub.status.busy": "2022-07-09T14:56:27.750331Z",
          "iopub.execute_input": "2022-07-09T14:56:27.750745Z",
          "iopub.status.idle": "2022-07-09T14:56:27.757768Z",
          "shell.execute_reply.started": "2022-07-09T14:56:27.750716Z",
          "shell.execute_reply": "2022-07-09T14:56:27.755871Z"
        },
        "trusted": true
      },
      "execution_count": null,
      "outputs": []
    },
    {
      "cell_type": "code",
      "source": [
        "history = trainer.train()"
      ],
      "metadata": {
        "id": "n8HbLsxBDWQa",
        "execution": {
          "iopub.status.busy": "2022-07-09T15:59:35.536460Z",
          "iopub.execute_input": "2022-07-09T15:59:35.536852Z",
          "iopub.status.idle": "2022-07-09T16:00:39.904362Z",
          "shell.execute_reply.started": "2022-07-09T15:59:35.536819Z",
          "shell.execute_reply": "2022-07-09T16:00:39.903316Z"
        },
        "trusted": true
      },
      "execution_count": null,
      "outputs": []
    },
    {
      "cell_type": "code",
      "source": [
        "n_samples = 1\n",
        "batch_size = 5\n",
        "max_len = 40\n",
        "top_k = 100\n",
        "temperature = 1.0\n",
        "leed_out_len = 5 # max_len\n",
        "burnin = 250\n",
        "sample = True\n",
        "max_iter = 500\n",
        "\n",
        "# Choose the prefix context\n",
        "seed_text = \"[CLS]\".split()\n",
        "bert_sents = generate(n_samples, seed_text=seed_text, batch_size=batch_size, max_len=max_len,\n",
        "                      sample=sample, top_k=top_k, temperature=temperature, burnin=burnin, max_iter=max_iter)"
      ],
      "metadata": {
        "id": "0WOP_SazJ4ME",
        "execution": {
          "iopub.status.busy": "2022-07-09T16:05:34.760116Z",
          "iopub.execute_input": "2022-07-09T16:05:34.760753Z",
          "iopub.status.idle": "2022-07-09T16:05:35.263948Z",
          "shell.execute_reply.started": "2022-07-09T16:05:34.760718Z",
          "shell.execute_reply": "2022-07-09T16:05:35.262954Z"
        },
        "trusted": true
      },
      "execution_count": null,
      "outputs": []
    },
    {
      "cell_type": "code",
      "source": [
        "bert_sents"
      ],
      "metadata": {
        "id": "yxVWAtcFWhg0"
      },
      "execution_count": null,
      "outputs": []
    },
    {
      "cell_type": "code",
      "source": [
        "for sent in bert_sents:\n",
        "  print(' '.join(sent))"
      ],
      "metadata": {
        "id": "4Tg0ycIaWNBS",
        "execution": {
          "iopub.status.busy": "2022-07-09T16:05:38.814388Z",
          "iopub.execute_input": "2022-07-09T16:05:38.814747Z",
          "iopub.status.idle": "2022-07-09T16:05:38.822285Z",
          "shell.execute_reply.started": "2022-07-09T16:05:38.814717Z",
          "shell.execute_reply": "2022-07-09T16:05:38.821292Z"
        },
        "trusted": true
      },
      "execution_count": null,
      "outputs": []
    },
    {
      "cell_type": "code",
      "source": [
        "# trainer_model.save_pretrained(\"/content/gdrive/My Drive/nlp project/\")"
      ],
      "metadata": {
        "execution": {
          "iopub.status.busy": "2022-07-08T19:28:16.195820Z",
          "iopub.status.idle": "2022-07-08T19:28:16.196726Z",
          "shell.execute_reply.started": "2022-07-08T19:28:16.196406Z",
          "shell.execute_reply": "2022-07-08T19:28:16.196434Z"
        },
        "id": "1Ad3q5ReT6dH",
        "trusted": true
      },
      "execution_count": null,
      "outputs": []
    }
  ]
}